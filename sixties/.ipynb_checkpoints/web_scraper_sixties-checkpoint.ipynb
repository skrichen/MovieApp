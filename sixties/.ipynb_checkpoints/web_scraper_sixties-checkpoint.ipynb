{
 "cells": [
  {
   "cell_type": "code",
   "execution_count": null,
   "metadata": {},
   "outputs": [],
   "source": [
    "# Standard imports\n",
    "import numpy as np\n",
    "import pandas as pd\n",
    "import ast \n",
    "\n",
    "# For scraping\n",
    "import requests\n",
    "from bs4 import BeautifulSoup\n",
    "\n",
    "# For adding delays so that we don't spam requests\n",
    "import time\n",
    "\n",
    "import string\n",
    "\n",
    "import re\n",
    "import json\n"
   ]
  },
  {
   "cell_type": "code",
   "execution_count": null,
   "metadata": {},
   "outputs": [],
   "source": [
    "\n",
    "def get_genre(str_dic):\n",
    "    genre_list=[]\n",
    "    for i in str_dic:\n",
    "        if i == '\"genre\":':\n",
    "            j=str_dic.index(i)+1\n",
    "            while str_dic[j] not in ['],','\"actor\":','\"director\":','\"creator\":','\"datePublished\":','}</script>]']:\n",
    "                for punctuation_mark in string.punctuation:\n",
    "                    str_dic[j]=str_dic[j].replace(punctuation_mark,'')\n",
    "                if str_dic[j]!=\"\":   \n",
    "                    genre_list.append(str_dic[j])\n",
    "                j+=1\n",
    "            break  \n",
    "\n",
    "    return genre_list"
   ]
  },
  {
   "cell_type": "code",
   "execution_count": null,
   "metadata": {},
   "outputs": [],
   "source": []
  },
  {
   "cell_type": "code",
   "execution_count": null,
   "metadata": {},
   "outputs": [],
   "source": [
    "df_sixties=pd.read_csv('/Users/SanaKrichen/Desktop/Brainstation/Capstone Project/sixties/df_sixties.csv')\n",
    "df_sixties"
   ]
  },
  {
   "cell_type": "code",
   "execution_count": null,
   "metadata": {
    "scrolled": false
   },
   "outputs": [],
   "source": [
    "scrap_df = pd.DataFrame(columns=['tconst', 'genre', 'plot'])\n",
    "i=0\n",
    "\n",
    "for tconst in df_sixties['tconst']:\n",
    "\n",
    "\n",
    "    imdb_to_scrap = {'tconst':\"\", 'genre':[], 'plot':\"\"}\n",
    "    \n",
    "    response2=requests.get(f'https://www.imdb.com/title/{tconst}/plotsummary')\n",
    "    soup2 = BeautifulSoup(response2.content,'html.parser')\n",
    "        \n",
    "    if soup2.title.text.strip() != '404 Error - IMDb':\n",
    "        plot=soup2.find('ul', id=\"plot-synopsis-content\").text.strip()\n",
    "\n",
    "\n",
    "        if plot!='It looks like we don\\'t have a Synopsis for this title yet. Be the first to contribute! Just click the \"Edit page\" button at the bottom of the page or learn more in the Synopsis submission guide.':\n",
    "\n",
    "            imdb_to_scrap = {'tconst':tconst, 'genre':[], 'plot':plot}\n",
    "\n",
    "            # Send a get request and assign the response to a variable\n",
    "            response1 = requests.get(f'https://www.imdb.com/title/{tconst}/')\n",
    "            soup1 = BeautifulSoup(response1.content,'html.parser')\n",
    "\n",
    "\n",
    "            str_dic=str(soup1.findAll('script', {'type':'application/ld+json'})).split()\n",
    "            imdb_to_scrap['genre']=[get_genre(str_dic)]\n",
    "\n",
    "\n",
    "            df = pd.DataFrame.from_dict(imdb_to_scrap)\n",
    "            scrap_df = scrap_df.append(df, ignore_index=True)\n",
    "            print('appending')\n",
    "\n",
    "            #follow progress: print tconst every 500 iteration\n",
    "            i+=1\n",
    "            if i%50==0:\n",
    "                print(f'after 50 append {tconst}')\n",
    "\n",
    "\n",
    "scrap_df\n"
   ]
  },
  {
   "cell_type": "code",
   "execution_count": null,
   "metadata": {},
   "outputs": [],
   "source": [
    "scrap_df"
   ]
  },
  {
   "cell_type": "code",
   "execution_count": null,
   "metadata": {},
   "outputs": [],
   "source": [
    "scrap_df.to_csv (r'/Users/SanaKrichen/Desktop/Brainstation/Capstone Project/sixties/scraped_df_sixties.csv', index = False, header=True)"
   ]
  },
  {
   "cell_type": "code",
   "execution_count": null,
   "metadata": {},
   "outputs": [],
   "source": []
  },
  {
   "cell_type": "code",
   "execution_count": null,
   "metadata": {},
   "outputs": [],
   "source": [
    "\n"
   ]
  },
  {
   "cell_type": "code",
   "execution_count": null,
   "metadata": {},
   "outputs": [],
   "source": [
    "\n"
   ]
  },
  {
   "cell_type": "code",
   "execution_count": null,
   "metadata": {},
   "outputs": [],
   "source": []
  },
  {
   "cell_type": "code",
   "execution_count": null,
   "metadata": {},
   "outputs": [],
   "source": []
  },
  {
   "cell_type": "markdown",
   "metadata": {},
   "source": []
  },
  {
   "cell_type": "code",
   "execution_count": null,
   "metadata": {},
   "outputs": [],
   "source": []
  },
  {
   "cell_type": "code",
   "execution_count": null,
   "metadata": {},
   "outputs": [],
   "source": []
  },
  {
   "cell_type": "code",
   "execution_count": null,
   "metadata": {},
   "outputs": [],
   "source": []
  }
 ],
 "metadata": {
  "kernelspec": {
   "display_name": "Python 3",
   "language": "python",
   "name": "python3"
  },
  "language_info": {
   "codemirror_mode": {
    "name": "ipython",
    "version": 3
   },
   "file_extension": ".py",
   "mimetype": "text/x-python",
   "name": "python",
   "nbconvert_exporter": "python",
   "pygments_lexer": "ipython3",
   "version": "3.7.7"
  }
 },
 "nbformat": 4,
 "nbformat_minor": 4
}
