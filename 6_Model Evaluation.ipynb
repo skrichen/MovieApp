{
 "cells": [
  {
   "cell_type": "markdown",
   "metadata": {},
   "source": [
    "# Design an App that predicts movie genres and detects spoilers in reviews\n",
    "\n",
    " In this notebook, I will implement the selected best model from the previous grid search that I performed and will evaluate the model by using some useful metrics. I will also extract the 5 most important words that best describe every genre and will use that to make an interactive plotly figure."
   ]
  },
  {
   "cell_type": "markdown",
   "metadata": {},
   "source": [
    "### Part6: Model Evaluation\n",
    "\n",
    "Author: Sana Krichen    \n",
    "https://www.linkedin.com/in/sanakrichen/    \n",
    "https://github.com/skrichen"
   ]
  },
  {
   "cell_type": "code",
   "execution_count": 3,
   "metadata": {},
   "outputs": [],
   "source": [
    "#import standard packages\n",
    "import pandas as pd\n",
    "import numpy as np\n",
    "import matplotlib.pyplot as plt"
   ]
  },
  {
   "cell_type": "code",
   "execution_count": 4,
   "metadata": {},
   "outputs": [
    {
     "data": {
      "text/html": [
       "<div>\n",
       "<style scoped>\n",
       "    .dataframe tbody tr th:only-of-type {\n",
       "        vertical-align: middle;\n",
       "    }\n",
       "\n",
       "    .dataframe tbody tr th {\n",
       "        vertical-align: top;\n",
       "    }\n",
       "\n",
       "    .dataframe thead th {\n",
       "        text-align: right;\n",
       "    }\n",
       "</style>\n",
       "<table border=\"1\" class=\"dataframe\">\n",
       "  <thead>\n",
       "    <tr style=\"text-align: right;\">\n",
       "      <th></th>\n",
       "      <th>Action</th>\n",
       "      <th>Adventure</th>\n",
       "      <th>Animation</th>\n",
       "      <th>Biography</th>\n",
       "      <th>Comedy</th>\n",
       "      <th>Crime</th>\n",
       "      <th>Documentary</th>\n",
       "      <th>Drama</th>\n",
       "      <th>Family</th>\n",
       "      <th>Fantasy</th>\n",
       "      <th>...</th>\n",
       "      <th>youtub</th>\n",
       "      <th>youv</th>\n",
       "      <th>zealand</th>\n",
       "      <th>zero</th>\n",
       "      <th>zip</th>\n",
       "      <th>zoe</th>\n",
       "      <th>zombi</th>\n",
       "      <th>zone</th>\n",
       "      <th>zoo</th>\n",
       "      <th>zoom</th>\n",
       "    </tr>\n",
       "  </thead>\n",
       "  <tbody>\n",
       "    <tr>\n",
       "      <td>0</td>\n",
       "      <td>0</td>\n",
       "      <td>0</td>\n",
       "      <td>0</td>\n",
       "      <td>0</td>\n",
       "      <td>0</td>\n",
       "      <td>1</td>\n",
       "      <td>0</td>\n",
       "      <td>1</td>\n",
       "      <td>0</td>\n",
       "      <td>0</td>\n",
       "      <td>...</td>\n",
       "      <td>0</td>\n",
       "      <td>0</td>\n",
       "      <td>0</td>\n",
       "      <td>0</td>\n",
       "      <td>0</td>\n",
       "      <td>0</td>\n",
       "      <td>0</td>\n",
       "      <td>0</td>\n",
       "      <td>0</td>\n",
       "      <td>0</td>\n",
       "    </tr>\n",
       "    <tr>\n",
       "      <td>1</td>\n",
       "      <td>0</td>\n",
       "      <td>0</td>\n",
       "      <td>0</td>\n",
       "      <td>0</td>\n",
       "      <td>0</td>\n",
       "      <td>0</td>\n",
       "      <td>0</td>\n",
       "      <td>1</td>\n",
       "      <td>0</td>\n",
       "      <td>0</td>\n",
       "      <td>...</td>\n",
       "      <td>0</td>\n",
       "      <td>0</td>\n",
       "      <td>0</td>\n",
       "      <td>0</td>\n",
       "      <td>0</td>\n",
       "      <td>0</td>\n",
       "      <td>0</td>\n",
       "      <td>0</td>\n",
       "      <td>0</td>\n",
       "      <td>0</td>\n",
       "    </tr>\n",
       "    <tr>\n",
       "      <td>2</td>\n",
       "      <td>1</td>\n",
       "      <td>0</td>\n",
       "      <td>0</td>\n",
       "      <td>0</td>\n",
       "      <td>0</td>\n",
       "      <td>0</td>\n",
       "      <td>0</td>\n",
       "      <td>0</td>\n",
       "      <td>0</td>\n",
       "      <td>0</td>\n",
       "      <td>...</td>\n",
       "      <td>0</td>\n",
       "      <td>0</td>\n",
       "      <td>0</td>\n",
       "      <td>0</td>\n",
       "      <td>0</td>\n",
       "      <td>0</td>\n",
       "      <td>0</td>\n",
       "      <td>0</td>\n",
       "      <td>0</td>\n",
       "      <td>0</td>\n",
       "    </tr>\n",
       "    <tr>\n",
       "      <td>3</td>\n",
       "      <td>0</td>\n",
       "      <td>0</td>\n",
       "      <td>0</td>\n",
       "      <td>0</td>\n",
       "      <td>0</td>\n",
       "      <td>0</td>\n",
       "      <td>0</td>\n",
       "      <td>1</td>\n",
       "      <td>0</td>\n",
       "      <td>0</td>\n",
       "      <td>...</td>\n",
       "      <td>0</td>\n",
       "      <td>0</td>\n",
       "      <td>0</td>\n",
       "      <td>0</td>\n",
       "      <td>0</td>\n",
       "      <td>0</td>\n",
       "      <td>0</td>\n",
       "      <td>0</td>\n",
       "      <td>0</td>\n",
       "      <td>0</td>\n",
       "    </tr>\n",
       "    <tr>\n",
       "      <td>4</td>\n",
       "      <td>1</td>\n",
       "      <td>0</td>\n",
       "      <td>0</td>\n",
       "      <td>0</td>\n",
       "      <td>0</td>\n",
       "      <td>1</td>\n",
       "      <td>0</td>\n",
       "      <td>1</td>\n",
       "      <td>0</td>\n",
       "      <td>0</td>\n",
       "      <td>...</td>\n",
       "      <td>0</td>\n",
       "      <td>0</td>\n",
       "      <td>0</td>\n",
       "      <td>0</td>\n",
       "      <td>0</td>\n",
       "      <td>0</td>\n",
       "      <td>0</td>\n",
       "      <td>0</td>\n",
       "      <td>0</td>\n",
       "      <td>0</td>\n",
       "    </tr>\n",
       "    <tr>\n",
       "      <td>...</td>\n",
       "      <td>...</td>\n",
       "      <td>...</td>\n",
       "      <td>...</td>\n",
       "      <td>...</td>\n",
       "      <td>...</td>\n",
       "      <td>...</td>\n",
       "      <td>...</td>\n",
       "      <td>...</td>\n",
       "      <td>...</td>\n",
       "      <td>...</td>\n",
       "      <td>...</td>\n",
       "      <td>...</td>\n",
       "      <td>...</td>\n",
       "      <td>...</td>\n",
       "      <td>...</td>\n",
       "      <td>...</td>\n",
       "      <td>...</td>\n",
       "      <td>...</td>\n",
       "      <td>...</td>\n",
       "      <td>...</td>\n",
       "      <td>...</td>\n",
       "    </tr>\n",
       "    <tr>\n",
       "      <td>9936</td>\n",
       "      <td>0</td>\n",
       "      <td>0</td>\n",
       "      <td>0</td>\n",
       "      <td>0</td>\n",
       "      <td>0</td>\n",
       "      <td>1</td>\n",
       "      <td>0</td>\n",
       "      <td>1</td>\n",
       "      <td>0</td>\n",
       "      <td>0</td>\n",
       "      <td>...</td>\n",
       "      <td>0</td>\n",
       "      <td>0</td>\n",
       "      <td>0</td>\n",
       "      <td>0</td>\n",
       "      <td>0</td>\n",
       "      <td>0</td>\n",
       "      <td>0</td>\n",
       "      <td>0</td>\n",
       "      <td>0</td>\n",
       "      <td>0</td>\n",
       "    </tr>\n",
       "    <tr>\n",
       "      <td>9937</td>\n",
       "      <td>0</td>\n",
       "      <td>0</td>\n",
       "      <td>0</td>\n",
       "      <td>0</td>\n",
       "      <td>0</td>\n",
       "      <td>0</td>\n",
       "      <td>1</td>\n",
       "      <td>0</td>\n",
       "      <td>0</td>\n",
       "      <td>0</td>\n",
       "      <td>...</td>\n",
       "      <td>0</td>\n",
       "      <td>0</td>\n",
       "      <td>0</td>\n",
       "      <td>0</td>\n",
       "      <td>0</td>\n",
       "      <td>0</td>\n",
       "      <td>0</td>\n",
       "      <td>0</td>\n",
       "      <td>0</td>\n",
       "      <td>0</td>\n",
       "    </tr>\n",
       "    <tr>\n",
       "      <td>9938</td>\n",
       "      <td>1</td>\n",
       "      <td>1</td>\n",
       "      <td>0</td>\n",
       "      <td>0</td>\n",
       "      <td>0</td>\n",
       "      <td>0</td>\n",
       "      <td>0</td>\n",
       "      <td>1</td>\n",
       "      <td>0</td>\n",
       "      <td>1</td>\n",
       "      <td>...</td>\n",
       "      <td>0</td>\n",
       "      <td>0</td>\n",
       "      <td>0</td>\n",
       "      <td>0</td>\n",
       "      <td>0</td>\n",
       "      <td>0</td>\n",
       "      <td>0</td>\n",
       "      <td>0</td>\n",
       "      <td>0</td>\n",
       "      <td>0</td>\n",
       "    </tr>\n",
       "    <tr>\n",
       "      <td>9939</td>\n",
       "      <td>1</td>\n",
       "      <td>0</td>\n",
       "      <td>0</td>\n",
       "      <td>0</td>\n",
       "      <td>0</td>\n",
       "      <td>0</td>\n",
       "      <td>0</td>\n",
       "      <td>0</td>\n",
       "      <td>0</td>\n",
       "      <td>0</td>\n",
       "      <td>...</td>\n",
       "      <td>0</td>\n",
       "      <td>0</td>\n",
       "      <td>0</td>\n",
       "      <td>0</td>\n",
       "      <td>0</td>\n",
       "      <td>0</td>\n",
       "      <td>0</td>\n",
       "      <td>0</td>\n",
       "      <td>0</td>\n",
       "      <td>0</td>\n",
       "    </tr>\n",
       "    <tr>\n",
       "      <td>9940</td>\n",
       "      <td>0</td>\n",
       "      <td>0</td>\n",
       "      <td>0</td>\n",
       "      <td>0</td>\n",
       "      <td>1</td>\n",
       "      <td>0</td>\n",
       "      <td>0</td>\n",
       "      <td>0</td>\n",
       "      <td>0</td>\n",
       "      <td>0</td>\n",
       "      <td>...</td>\n",
       "      <td>0</td>\n",
       "      <td>0</td>\n",
       "      <td>0</td>\n",
       "      <td>0</td>\n",
       "      <td>0</td>\n",
       "      <td>0</td>\n",
       "      <td>0</td>\n",
       "      <td>0</td>\n",
       "      <td>0</td>\n",
       "      <td>0</td>\n",
       "    </tr>\n",
       "  </tbody>\n",
       "</table>\n",
       "<p>9941 rows × 7180 columns</p>\n",
       "</div>"
      ],
      "text/plain": [
       "      Action  Adventure  Animation  Biography  Comedy  Crime  Documentary  \\\n",
       "0          0          0          0          0       0      1            0   \n",
       "1          0          0          0          0       0      0            0   \n",
       "2          1          0          0          0       0      0            0   \n",
       "3          0          0          0          0       0      0            0   \n",
       "4          1          0          0          0       0      1            0   \n",
       "...      ...        ...        ...        ...     ...    ...          ...   \n",
       "9936       0          0          0          0       0      1            0   \n",
       "9937       0          0          0          0       0      0            1   \n",
       "9938       1          1          0          0       0      0            0   \n",
       "9939       1          0          0          0       0      0            0   \n",
       "9940       0          0          0          0       1      0            0   \n",
       "\n",
       "      Drama  Family  Fantasy  ...  youtub  youv  zealand  zero  zip  zoe  \\\n",
       "0         1       0        0  ...       0     0        0     0    0    0   \n",
       "1         1       0        0  ...       0     0        0     0    0    0   \n",
       "2         0       0        0  ...       0     0        0     0    0    0   \n",
       "3         1       0        0  ...       0     0        0     0    0    0   \n",
       "4         1       0        0  ...       0     0        0     0    0    0   \n",
       "...     ...     ...      ...  ...     ...   ...      ...   ...  ...  ...   \n",
       "9936      1       0        0  ...       0     0        0     0    0    0   \n",
       "9937      0       0        0  ...       0     0        0     0    0    0   \n",
       "9938      1       0        1  ...       0     0        0     0    0    0   \n",
       "9939      0       0        0  ...       0     0        0     0    0    0   \n",
       "9940      0       0        0  ...       0     0        0     0    0    0   \n",
       "\n",
       "      zombi  zone  zoo  zoom  \n",
       "0         0     0    0     0  \n",
       "1         0     0    0     0  \n",
       "2         0     0    0     0  \n",
       "3         0     0    0     0  \n",
       "4         0     0    0     0  \n",
       "...     ...   ...  ...   ...  \n",
       "9936      0     0    0     0  \n",
       "9937      0     0    0     0  \n",
       "9938      0     0    0     0  \n",
       "9939      0     0    0     0  \n",
       "9940      0     0    0     0  \n",
       "\n",
       "[9941 rows x 7180 columns]"
      ]
     },
     "execution_count": 4,
     "metadata": {},
     "output_type": "execute_result"
    }
   ],
   "source": [
    "df_train = pd.read_csv(f'/Users/SanaKrichen/Desktop/Brainstation/Capstone Project/df_train_ready.csv')\n",
    "df_train"
   ]
  },
  {
   "cell_type": "code",
   "execution_count": 5,
   "metadata": {},
   "outputs": [
    {
     "data": {
      "text/html": [
       "<div>\n",
       "<style scoped>\n",
       "    .dataframe tbody tr th:only-of-type {\n",
       "        vertical-align: middle;\n",
       "    }\n",
       "\n",
       "    .dataframe tbody tr th {\n",
       "        vertical-align: top;\n",
       "    }\n",
       "\n",
       "    .dataframe thead th {\n",
       "        text-align: right;\n",
       "    }\n",
       "</style>\n",
       "<table border=\"1\" class=\"dataframe\">\n",
       "  <thead>\n",
       "    <tr style=\"text-align: right;\">\n",
       "      <th></th>\n",
       "      <th>Action</th>\n",
       "      <th>Adventure</th>\n",
       "      <th>Animation</th>\n",
       "      <th>Biography</th>\n",
       "      <th>Comedy</th>\n",
       "      <th>Crime</th>\n",
       "      <th>Documentary</th>\n",
       "      <th>Drama</th>\n",
       "      <th>Family</th>\n",
       "      <th>Fantasy</th>\n",
       "      <th>...</th>\n",
       "      <th>youtub</th>\n",
       "      <th>youv</th>\n",
       "      <th>zealand</th>\n",
       "      <th>zero</th>\n",
       "      <th>zip</th>\n",
       "      <th>zoe</th>\n",
       "      <th>zombi</th>\n",
       "      <th>zone</th>\n",
       "      <th>zoo</th>\n",
       "      <th>zoom</th>\n",
       "    </tr>\n",
       "  </thead>\n",
       "  <tbody>\n",
       "    <tr>\n",
       "      <td>0</td>\n",
       "      <td>0</td>\n",
       "      <td>1</td>\n",
       "      <td>1</td>\n",
       "      <td>0</td>\n",
       "      <td>1</td>\n",
       "      <td>0</td>\n",
       "      <td>0</td>\n",
       "      <td>0</td>\n",
       "      <td>1</td>\n",
       "      <td>0</td>\n",
       "      <td>...</td>\n",
       "      <td>0</td>\n",
       "      <td>0</td>\n",
       "      <td>0</td>\n",
       "      <td>0</td>\n",
       "      <td>0</td>\n",
       "      <td>0</td>\n",
       "      <td>0</td>\n",
       "      <td>0</td>\n",
       "      <td>0</td>\n",
       "      <td>0</td>\n",
       "    </tr>\n",
       "    <tr>\n",
       "      <td>1</td>\n",
       "      <td>0</td>\n",
       "      <td>0</td>\n",
       "      <td>0</td>\n",
       "      <td>0</td>\n",
       "      <td>0</td>\n",
       "      <td>1</td>\n",
       "      <td>0</td>\n",
       "      <td>1</td>\n",
       "      <td>0</td>\n",
       "      <td>0</td>\n",
       "      <td>...</td>\n",
       "      <td>0</td>\n",
       "      <td>0</td>\n",
       "      <td>0</td>\n",
       "      <td>0</td>\n",
       "      <td>0</td>\n",
       "      <td>0</td>\n",
       "      <td>0</td>\n",
       "      <td>0</td>\n",
       "      <td>0</td>\n",
       "      <td>0</td>\n",
       "    </tr>\n",
       "    <tr>\n",
       "      <td>2</td>\n",
       "      <td>0</td>\n",
       "      <td>0</td>\n",
       "      <td>0</td>\n",
       "      <td>0</td>\n",
       "      <td>0</td>\n",
       "      <td>0</td>\n",
       "      <td>0</td>\n",
       "      <td>0</td>\n",
       "      <td>0</td>\n",
       "      <td>1</td>\n",
       "      <td>...</td>\n",
       "      <td>0</td>\n",
       "      <td>0</td>\n",
       "      <td>0</td>\n",
       "      <td>0</td>\n",
       "      <td>0</td>\n",
       "      <td>0</td>\n",
       "      <td>0</td>\n",
       "      <td>0</td>\n",
       "      <td>0</td>\n",
       "      <td>0</td>\n",
       "    </tr>\n",
       "    <tr>\n",
       "      <td>3</td>\n",
       "      <td>1</td>\n",
       "      <td>0</td>\n",
       "      <td>0</td>\n",
       "      <td>0</td>\n",
       "      <td>0</td>\n",
       "      <td>0</td>\n",
       "      <td>0</td>\n",
       "      <td>1</td>\n",
       "      <td>0</td>\n",
       "      <td>0</td>\n",
       "      <td>...</td>\n",
       "      <td>0</td>\n",
       "      <td>0</td>\n",
       "      <td>0</td>\n",
       "      <td>0</td>\n",
       "      <td>0</td>\n",
       "      <td>0</td>\n",
       "      <td>0</td>\n",
       "      <td>0</td>\n",
       "      <td>0</td>\n",
       "      <td>0</td>\n",
       "    </tr>\n",
       "    <tr>\n",
       "      <td>4</td>\n",
       "      <td>0</td>\n",
       "      <td>0</td>\n",
       "      <td>0</td>\n",
       "      <td>1</td>\n",
       "      <td>0</td>\n",
       "      <td>0</td>\n",
       "      <td>0</td>\n",
       "      <td>1</td>\n",
       "      <td>0</td>\n",
       "      <td>0</td>\n",
       "      <td>...</td>\n",
       "      <td>0</td>\n",
       "      <td>0</td>\n",
       "      <td>0</td>\n",
       "      <td>0</td>\n",
       "      <td>0</td>\n",
       "      <td>0</td>\n",
       "      <td>0</td>\n",
       "      <td>0</td>\n",
       "      <td>0</td>\n",
       "      <td>0</td>\n",
       "    </tr>\n",
       "    <tr>\n",
       "      <td>...</td>\n",
       "      <td>...</td>\n",
       "      <td>...</td>\n",
       "      <td>...</td>\n",
       "      <td>...</td>\n",
       "      <td>...</td>\n",
       "      <td>...</td>\n",
       "      <td>...</td>\n",
       "      <td>...</td>\n",
       "      <td>...</td>\n",
       "      <td>...</td>\n",
       "      <td>...</td>\n",
       "      <td>...</td>\n",
       "      <td>...</td>\n",
       "      <td>...</td>\n",
       "      <td>...</td>\n",
       "      <td>...</td>\n",
       "      <td>...</td>\n",
       "      <td>...</td>\n",
       "      <td>...</td>\n",
       "      <td>...</td>\n",
       "      <td>...</td>\n",
       "    </tr>\n",
       "    <tr>\n",
       "      <td>3309</td>\n",
       "      <td>0</td>\n",
       "      <td>0</td>\n",
       "      <td>0</td>\n",
       "      <td>0</td>\n",
       "      <td>1</td>\n",
       "      <td>0</td>\n",
       "      <td>0</td>\n",
       "      <td>0</td>\n",
       "      <td>1</td>\n",
       "      <td>0</td>\n",
       "      <td>...</td>\n",
       "      <td>0</td>\n",
       "      <td>0</td>\n",
       "      <td>0</td>\n",
       "      <td>0</td>\n",
       "      <td>0</td>\n",
       "      <td>0</td>\n",
       "      <td>0</td>\n",
       "      <td>0</td>\n",
       "      <td>0</td>\n",
       "      <td>0</td>\n",
       "    </tr>\n",
       "    <tr>\n",
       "      <td>3310</td>\n",
       "      <td>0</td>\n",
       "      <td>0</td>\n",
       "      <td>0</td>\n",
       "      <td>1</td>\n",
       "      <td>0</td>\n",
       "      <td>0</td>\n",
       "      <td>0</td>\n",
       "      <td>1</td>\n",
       "      <td>0</td>\n",
       "      <td>0</td>\n",
       "      <td>...</td>\n",
       "      <td>0</td>\n",
       "      <td>0</td>\n",
       "      <td>0</td>\n",
       "      <td>0</td>\n",
       "      <td>0</td>\n",
       "      <td>0</td>\n",
       "      <td>0</td>\n",
       "      <td>0</td>\n",
       "      <td>0</td>\n",
       "      <td>0</td>\n",
       "    </tr>\n",
       "    <tr>\n",
       "      <td>3311</td>\n",
       "      <td>0</td>\n",
       "      <td>0</td>\n",
       "      <td>0</td>\n",
       "      <td>0</td>\n",
       "      <td>0</td>\n",
       "      <td>0</td>\n",
       "      <td>0</td>\n",
       "      <td>1</td>\n",
       "      <td>0</td>\n",
       "      <td>0</td>\n",
       "      <td>...</td>\n",
       "      <td>0</td>\n",
       "      <td>0</td>\n",
       "      <td>0</td>\n",
       "      <td>0</td>\n",
       "      <td>0</td>\n",
       "      <td>0</td>\n",
       "      <td>0</td>\n",
       "      <td>0</td>\n",
       "      <td>0</td>\n",
       "      <td>0</td>\n",
       "    </tr>\n",
       "    <tr>\n",
       "      <td>3312</td>\n",
       "      <td>0</td>\n",
       "      <td>0</td>\n",
       "      <td>0</td>\n",
       "      <td>0</td>\n",
       "      <td>0</td>\n",
       "      <td>0</td>\n",
       "      <td>0</td>\n",
       "      <td>1</td>\n",
       "      <td>0</td>\n",
       "      <td>0</td>\n",
       "      <td>...</td>\n",
       "      <td>0</td>\n",
       "      <td>0</td>\n",
       "      <td>0</td>\n",
       "      <td>0</td>\n",
       "      <td>0</td>\n",
       "      <td>0</td>\n",
       "      <td>0</td>\n",
       "      <td>0</td>\n",
       "      <td>0</td>\n",
       "      <td>0</td>\n",
       "    </tr>\n",
       "    <tr>\n",
       "      <td>3313</td>\n",
       "      <td>1</td>\n",
       "      <td>0</td>\n",
       "      <td>0</td>\n",
       "      <td>0</td>\n",
       "      <td>0</td>\n",
       "      <td>0</td>\n",
       "      <td>0</td>\n",
       "      <td>0</td>\n",
       "      <td>0</td>\n",
       "      <td>0</td>\n",
       "      <td>...</td>\n",
       "      <td>0</td>\n",
       "      <td>0</td>\n",
       "      <td>0</td>\n",
       "      <td>0</td>\n",
       "      <td>0</td>\n",
       "      <td>0</td>\n",
       "      <td>0</td>\n",
       "      <td>0</td>\n",
       "      <td>0</td>\n",
       "      <td>0</td>\n",
       "    </tr>\n",
       "  </tbody>\n",
       "</table>\n",
       "<p>3314 rows × 7180 columns</p>\n",
       "</div>"
      ],
      "text/plain": [
       "      Action  Adventure  Animation  Biography  Comedy  Crime  Documentary  \\\n",
       "0          0          1          1          0       1      0            0   \n",
       "1          0          0          0          0       0      1            0   \n",
       "2          0          0          0          0       0      0            0   \n",
       "3          1          0          0          0       0      0            0   \n",
       "4          0          0          0          1       0      0            0   \n",
       "...      ...        ...        ...        ...     ...    ...          ...   \n",
       "3309       0          0          0          0       1      0            0   \n",
       "3310       0          0          0          1       0      0            0   \n",
       "3311       0          0          0          0       0      0            0   \n",
       "3312       0          0          0          0       0      0            0   \n",
       "3313       1          0          0          0       0      0            0   \n",
       "\n",
       "      Drama  Family  Fantasy  ...  youtub  youv  zealand  zero  zip  zoe  \\\n",
       "0         0       1        0  ...       0     0        0     0    0    0   \n",
       "1         1       0        0  ...       0     0        0     0    0    0   \n",
       "2         0       0        1  ...       0     0        0     0    0    0   \n",
       "3         1       0        0  ...       0     0        0     0    0    0   \n",
       "4         1       0        0  ...       0     0        0     0    0    0   \n",
       "...     ...     ...      ...  ...     ...   ...      ...   ...  ...  ...   \n",
       "3309      0       1        0  ...       0     0        0     0    0    0   \n",
       "3310      1       0        0  ...       0     0        0     0    0    0   \n",
       "3311      1       0        0  ...       0     0        0     0    0    0   \n",
       "3312      1       0        0  ...       0     0        0     0    0    0   \n",
       "3313      0       0        0  ...       0     0        0     0    0    0   \n",
       "\n",
       "      zombi  zone  zoo  zoom  \n",
       "0         0     0    0     0  \n",
       "1         0     0    0     0  \n",
       "2         0     0    0     0  \n",
       "3         0     0    0     0  \n",
       "4         0     0    0     0  \n",
       "...     ...   ...  ...   ...  \n",
       "3309      0     0    0     0  \n",
       "3310      0     0    0     0  \n",
       "3311      0     0    0     0  \n",
       "3312      0     0    0     0  \n",
       "3313      0     0    0     0  \n",
       "\n",
       "[3314 rows x 7180 columns]"
      ]
     },
     "execution_count": 5,
     "metadata": {},
     "output_type": "execute_result"
    }
   ],
   "source": [
    "df_test = pd.read_csv(f'/Users/SanaKrichen/Desktop/Brainstation/Capstone Project/df_test_ready.csv')\n",
    "df_test"
   ]
  },
  {
   "cell_type": "code",
   "execution_count": 6,
   "metadata": {},
   "outputs": [
    {
     "data": {
      "text/html": [
       "<div>\n",
       "<style scoped>\n",
       "    .dataframe tbody tr th:only-of-type {\n",
       "        vertical-align: middle;\n",
       "    }\n",
       "\n",
       "    .dataframe tbody tr th {\n",
       "        vertical-align: top;\n",
       "    }\n",
       "\n",
       "    .dataframe thead th {\n",
       "        text-align: right;\n",
       "    }\n",
       "</style>\n",
       "<table border=\"1\" class=\"dataframe\">\n",
       "  <thead>\n",
       "    <tr style=\"text-align: right;\">\n",
       "      <th></th>\n",
       "      <th>aaron</th>\n",
       "      <th>aback</th>\n",
       "      <th>abandon</th>\n",
       "      <th>abbi</th>\n",
       "      <th>abdomen</th>\n",
       "      <th>abduct</th>\n",
       "      <th>abil</th>\n",
       "      <th>abl</th>\n",
       "      <th>ablaz</th>\n",
       "      <th>aboard</th>\n",
       "      <th>...</th>\n",
       "      <th>youtub</th>\n",
       "      <th>youv</th>\n",
       "      <th>zealand</th>\n",
       "      <th>zero</th>\n",
       "      <th>zip</th>\n",
       "      <th>zoe</th>\n",
       "      <th>zombi</th>\n",
       "      <th>zone</th>\n",
       "      <th>zoo</th>\n",
       "      <th>zoom</th>\n",
       "    </tr>\n",
       "  </thead>\n",
       "  <tbody>\n",
       "    <tr>\n",
       "      <td>0</td>\n",
       "      <td>0</td>\n",
       "      <td>0</td>\n",
       "      <td>0</td>\n",
       "      <td>0</td>\n",
       "      <td>0</td>\n",
       "      <td>0</td>\n",
       "      <td>0</td>\n",
       "      <td>0</td>\n",
       "      <td>0</td>\n",
       "      <td>0</td>\n",
       "      <td>...</td>\n",
       "      <td>0</td>\n",
       "      <td>0</td>\n",
       "      <td>0</td>\n",
       "      <td>0</td>\n",
       "      <td>0</td>\n",
       "      <td>0</td>\n",
       "      <td>0</td>\n",
       "      <td>0</td>\n",
       "      <td>0</td>\n",
       "      <td>0</td>\n",
       "    </tr>\n",
       "    <tr>\n",
       "      <td>1</td>\n",
       "      <td>0</td>\n",
       "      <td>0</td>\n",
       "      <td>0</td>\n",
       "      <td>0</td>\n",
       "      <td>0</td>\n",
       "      <td>0</td>\n",
       "      <td>0</td>\n",
       "      <td>1</td>\n",
       "      <td>0</td>\n",
       "      <td>0</td>\n",
       "      <td>...</td>\n",
       "      <td>0</td>\n",
       "      <td>0</td>\n",
       "      <td>0</td>\n",
       "      <td>0</td>\n",
       "      <td>0</td>\n",
       "      <td>0</td>\n",
       "      <td>0</td>\n",
       "      <td>0</td>\n",
       "      <td>0</td>\n",
       "      <td>0</td>\n",
       "    </tr>\n",
       "    <tr>\n",
       "      <td>2</td>\n",
       "      <td>0</td>\n",
       "      <td>0</td>\n",
       "      <td>0</td>\n",
       "      <td>0</td>\n",
       "      <td>0</td>\n",
       "      <td>0</td>\n",
       "      <td>2</td>\n",
       "      <td>0</td>\n",
       "      <td>0</td>\n",
       "      <td>0</td>\n",
       "      <td>...</td>\n",
       "      <td>0</td>\n",
       "      <td>0</td>\n",
       "      <td>0</td>\n",
       "      <td>0</td>\n",
       "      <td>0</td>\n",
       "      <td>0</td>\n",
       "      <td>0</td>\n",
       "      <td>0</td>\n",
       "      <td>0</td>\n",
       "      <td>0</td>\n",
       "    </tr>\n",
       "    <tr>\n",
       "      <td>3</td>\n",
       "      <td>0</td>\n",
       "      <td>0</td>\n",
       "      <td>0</td>\n",
       "      <td>0</td>\n",
       "      <td>0</td>\n",
       "      <td>0</td>\n",
       "      <td>0</td>\n",
       "      <td>0</td>\n",
       "      <td>0</td>\n",
       "      <td>0</td>\n",
       "      <td>...</td>\n",
       "      <td>0</td>\n",
       "      <td>0</td>\n",
       "      <td>0</td>\n",
       "      <td>0</td>\n",
       "      <td>0</td>\n",
       "      <td>0</td>\n",
       "      <td>0</td>\n",
       "      <td>0</td>\n",
       "      <td>0</td>\n",
       "      <td>0</td>\n",
       "    </tr>\n",
       "    <tr>\n",
       "      <td>4</td>\n",
       "      <td>0</td>\n",
       "      <td>0</td>\n",
       "      <td>0</td>\n",
       "      <td>0</td>\n",
       "      <td>0</td>\n",
       "      <td>0</td>\n",
       "      <td>0</td>\n",
       "      <td>0</td>\n",
       "      <td>0</td>\n",
       "      <td>0</td>\n",
       "      <td>...</td>\n",
       "      <td>0</td>\n",
       "      <td>0</td>\n",
       "      <td>0</td>\n",
       "      <td>0</td>\n",
       "      <td>0</td>\n",
       "      <td>0</td>\n",
       "      <td>0</td>\n",
       "      <td>0</td>\n",
       "      <td>0</td>\n",
       "      <td>0</td>\n",
       "    </tr>\n",
       "    <tr>\n",
       "      <td>...</td>\n",
       "      <td>...</td>\n",
       "      <td>...</td>\n",
       "      <td>...</td>\n",
       "      <td>...</td>\n",
       "      <td>...</td>\n",
       "      <td>...</td>\n",
       "      <td>...</td>\n",
       "      <td>...</td>\n",
       "      <td>...</td>\n",
       "      <td>...</td>\n",
       "      <td>...</td>\n",
       "      <td>...</td>\n",
       "      <td>...</td>\n",
       "      <td>...</td>\n",
       "      <td>...</td>\n",
       "      <td>...</td>\n",
       "      <td>...</td>\n",
       "      <td>...</td>\n",
       "      <td>...</td>\n",
       "      <td>...</td>\n",
       "      <td>...</td>\n",
       "    </tr>\n",
       "    <tr>\n",
       "      <td>9936</td>\n",
       "      <td>0</td>\n",
       "      <td>0</td>\n",
       "      <td>0</td>\n",
       "      <td>0</td>\n",
       "      <td>0</td>\n",
       "      <td>0</td>\n",
       "      <td>0</td>\n",
       "      <td>0</td>\n",
       "      <td>0</td>\n",
       "      <td>0</td>\n",
       "      <td>...</td>\n",
       "      <td>0</td>\n",
       "      <td>0</td>\n",
       "      <td>0</td>\n",
       "      <td>0</td>\n",
       "      <td>0</td>\n",
       "      <td>0</td>\n",
       "      <td>0</td>\n",
       "      <td>0</td>\n",
       "      <td>0</td>\n",
       "      <td>0</td>\n",
       "    </tr>\n",
       "    <tr>\n",
       "      <td>9937</td>\n",
       "      <td>0</td>\n",
       "      <td>0</td>\n",
       "      <td>0</td>\n",
       "      <td>0</td>\n",
       "      <td>0</td>\n",
       "      <td>0</td>\n",
       "      <td>0</td>\n",
       "      <td>0</td>\n",
       "      <td>0</td>\n",
       "      <td>0</td>\n",
       "      <td>...</td>\n",
       "      <td>0</td>\n",
       "      <td>0</td>\n",
       "      <td>0</td>\n",
       "      <td>0</td>\n",
       "      <td>0</td>\n",
       "      <td>0</td>\n",
       "      <td>0</td>\n",
       "      <td>0</td>\n",
       "      <td>0</td>\n",
       "      <td>0</td>\n",
       "    </tr>\n",
       "    <tr>\n",
       "      <td>9938</td>\n",
       "      <td>0</td>\n",
       "      <td>0</td>\n",
       "      <td>0</td>\n",
       "      <td>0</td>\n",
       "      <td>0</td>\n",
       "      <td>0</td>\n",
       "      <td>2</td>\n",
       "      <td>0</td>\n",
       "      <td>0</td>\n",
       "      <td>0</td>\n",
       "      <td>...</td>\n",
       "      <td>0</td>\n",
       "      <td>0</td>\n",
       "      <td>0</td>\n",
       "      <td>0</td>\n",
       "      <td>0</td>\n",
       "      <td>0</td>\n",
       "      <td>0</td>\n",
       "      <td>0</td>\n",
       "      <td>0</td>\n",
       "      <td>0</td>\n",
       "    </tr>\n",
       "    <tr>\n",
       "      <td>9939</td>\n",
       "      <td>0</td>\n",
       "      <td>0</td>\n",
       "      <td>0</td>\n",
       "      <td>0</td>\n",
       "      <td>0</td>\n",
       "      <td>0</td>\n",
       "      <td>0</td>\n",
       "      <td>0</td>\n",
       "      <td>0</td>\n",
       "      <td>0</td>\n",
       "      <td>...</td>\n",
       "      <td>0</td>\n",
       "      <td>0</td>\n",
       "      <td>0</td>\n",
       "      <td>0</td>\n",
       "      <td>0</td>\n",
       "      <td>0</td>\n",
       "      <td>0</td>\n",
       "      <td>0</td>\n",
       "      <td>0</td>\n",
       "      <td>0</td>\n",
       "    </tr>\n",
       "    <tr>\n",
       "      <td>9940</td>\n",
       "      <td>0</td>\n",
       "      <td>0</td>\n",
       "      <td>0</td>\n",
       "      <td>0</td>\n",
       "      <td>0</td>\n",
       "      <td>0</td>\n",
       "      <td>0</td>\n",
       "      <td>0</td>\n",
       "      <td>0</td>\n",
       "      <td>0</td>\n",
       "      <td>...</td>\n",
       "      <td>0</td>\n",
       "      <td>0</td>\n",
       "      <td>0</td>\n",
       "      <td>0</td>\n",
       "      <td>0</td>\n",
       "      <td>0</td>\n",
       "      <td>0</td>\n",
       "      <td>0</td>\n",
       "      <td>0</td>\n",
       "      <td>0</td>\n",
       "    </tr>\n",
       "  </tbody>\n",
       "</table>\n",
       "<p>9941 rows × 7160 columns</p>\n",
       "</div>"
      ],
      "text/plain": [
       "      aaron  aback  abandon  abbi  abdomen  abduct  abil  abl  ablaz  aboard  \\\n",
       "0         0      0        0     0        0       0     0    0      0       0   \n",
       "1         0      0        0     0        0       0     0    1      0       0   \n",
       "2         0      0        0     0        0       0     2    0      0       0   \n",
       "3         0      0        0     0        0       0     0    0      0       0   \n",
       "4         0      0        0     0        0       0     0    0      0       0   \n",
       "...     ...    ...      ...   ...      ...     ...   ...  ...    ...     ...   \n",
       "9936      0      0        0     0        0       0     0    0      0       0   \n",
       "9937      0      0        0     0        0       0     0    0      0       0   \n",
       "9938      0      0        0     0        0       0     2    0      0       0   \n",
       "9939      0      0        0     0        0       0     0    0      0       0   \n",
       "9940      0      0        0     0        0       0     0    0      0       0   \n",
       "\n",
       "      ...  youtub  youv  zealand  zero  zip  zoe  zombi  zone  zoo  zoom  \n",
       "0     ...       0     0        0     0    0    0      0     0    0     0  \n",
       "1     ...       0     0        0     0    0    0      0     0    0     0  \n",
       "2     ...       0     0        0     0    0    0      0     0    0     0  \n",
       "3     ...       0     0        0     0    0    0      0     0    0     0  \n",
       "4     ...       0     0        0     0    0    0      0     0    0     0  \n",
       "...   ...     ...   ...      ...   ...  ...  ...    ...   ...  ...   ...  \n",
       "9936  ...       0     0        0     0    0    0      0     0    0     0  \n",
       "9937  ...       0     0        0     0    0    0      0     0    0     0  \n",
       "9938  ...       0     0        0     0    0    0      0     0    0     0  \n",
       "9939  ...       0     0        0     0    0    0      0     0    0     0  \n",
       "9940  ...       0     0        0     0    0    0      0     0    0     0  \n",
       "\n",
       "[9941 rows x 7160 columns]"
      ]
     },
     "execution_count": 6,
     "metadata": {},
     "output_type": "execute_result"
    }
   ],
   "source": [
    "X_train = df_train.loc[:, 'aaron':]\n",
    "X_train"
   ]
  },
  {
   "cell_type": "code",
   "execution_count": 7,
   "metadata": {},
   "outputs": [
    {
     "data": {
      "text/html": [
       "<div>\n",
       "<style scoped>\n",
       "    .dataframe tbody tr th:only-of-type {\n",
       "        vertical-align: middle;\n",
       "    }\n",
       "\n",
       "    .dataframe tbody tr th {\n",
       "        vertical-align: top;\n",
       "    }\n",
       "\n",
       "    .dataframe thead th {\n",
       "        text-align: right;\n",
       "    }\n",
       "</style>\n",
       "<table border=\"1\" class=\"dataframe\">\n",
       "  <thead>\n",
       "    <tr style=\"text-align: right;\">\n",
       "      <th></th>\n",
       "      <th>aaron</th>\n",
       "      <th>aback</th>\n",
       "      <th>abandon</th>\n",
       "      <th>abbi</th>\n",
       "      <th>abdomen</th>\n",
       "      <th>abduct</th>\n",
       "      <th>abil</th>\n",
       "      <th>abl</th>\n",
       "      <th>ablaz</th>\n",
       "      <th>aboard</th>\n",
       "      <th>...</th>\n",
       "      <th>youtub</th>\n",
       "      <th>youv</th>\n",
       "      <th>zealand</th>\n",
       "      <th>zero</th>\n",
       "      <th>zip</th>\n",
       "      <th>zoe</th>\n",
       "      <th>zombi</th>\n",
       "      <th>zone</th>\n",
       "      <th>zoo</th>\n",
       "      <th>zoom</th>\n",
       "    </tr>\n",
       "  </thead>\n",
       "  <tbody>\n",
       "    <tr>\n",
       "      <td>0</td>\n",
       "      <td>0</td>\n",
       "      <td>0</td>\n",
       "      <td>1</td>\n",
       "      <td>0</td>\n",
       "      <td>0</td>\n",
       "      <td>1</td>\n",
       "      <td>0</td>\n",
       "      <td>0</td>\n",
       "      <td>0</td>\n",
       "      <td>1</td>\n",
       "      <td>...</td>\n",
       "      <td>0</td>\n",
       "      <td>0</td>\n",
       "      <td>0</td>\n",
       "      <td>0</td>\n",
       "      <td>0</td>\n",
       "      <td>0</td>\n",
       "      <td>0</td>\n",
       "      <td>0</td>\n",
       "      <td>0</td>\n",
       "      <td>0</td>\n",
       "    </tr>\n",
       "    <tr>\n",
       "      <td>1</td>\n",
       "      <td>0</td>\n",
       "      <td>0</td>\n",
       "      <td>0</td>\n",
       "      <td>0</td>\n",
       "      <td>0</td>\n",
       "      <td>0</td>\n",
       "      <td>0</td>\n",
       "      <td>0</td>\n",
       "      <td>0</td>\n",
       "      <td>0</td>\n",
       "      <td>...</td>\n",
       "      <td>0</td>\n",
       "      <td>0</td>\n",
       "      <td>0</td>\n",
       "      <td>0</td>\n",
       "      <td>0</td>\n",
       "      <td>0</td>\n",
       "      <td>0</td>\n",
       "      <td>0</td>\n",
       "      <td>0</td>\n",
       "      <td>0</td>\n",
       "    </tr>\n",
       "    <tr>\n",
       "      <td>2</td>\n",
       "      <td>0</td>\n",
       "      <td>0</td>\n",
       "      <td>0</td>\n",
       "      <td>0</td>\n",
       "      <td>0</td>\n",
       "      <td>0</td>\n",
       "      <td>0</td>\n",
       "      <td>0</td>\n",
       "      <td>0</td>\n",
       "      <td>0</td>\n",
       "      <td>...</td>\n",
       "      <td>0</td>\n",
       "      <td>0</td>\n",
       "      <td>0</td>\n",
       "      <td>0</td>\n",
       "      <td>0</td>\n",
       "      <td>0</td>\n",
       "      <td>0</td>\n",
       "      <td>0</td>\n",
       "      <td>0</td>\n",
       "      <td>0</td>\n",
       "    </tr>\n",
       "    <tr>\n",
       "      <td>3</td>\n",
       "      <td>0</td>\n",
       "      <td>0</td>\n",
       "      <td>0</td>\n",
       "      <td>0</td>\n",
       "      <td>0</td>\n",
       "      <td>0</td>\n",
       "      <td>0</td>\n",
       "      <td>0</td>\n",
       "      <td>0</td>\n",
       "      <td>1</td>\n",
       "      <td>...</td>\n",
       "      <td>0</td>\n",
       "      <td>0</td>\n",
       "      <td>0</td>\n",
       "      <td>0</td>\n",
       "      <td>0</td>\n",
       "      <td>0</td>\n",
       "      <td>0</td>\n",
       "      <td>0</td>\n",
       "      <td>0</td>\n",
       "      <td>0</td>\n",
       "    </tr>\n",
       "    <tr>\n",
       "      <td>4</td>\n",
       "      <td>0</td>\n",
       "      <td>0</td>\n",
       "      <td>0</td>\n",
       "      <td>0</td>\n",
       "      <td>0</td>\n",
       "      <td>0</td>\n",
       "      <td>0</td>\n",
       "      <td>0</td>\n",
       "      <td>0</td>\n",
       "      <td>2</td>\n",
       "      <td>...</td>\n",
       "      <td>0</td>\n",
       "      <td>0</td>\n",
       "      <td>0</td>\n",
       "      <td>0</td>\n",
       "      <td>0</td>\n",
       "      <td>0</td>\n",
       "      <td>0</td>\n",
       "      <td>0</td>\n",
       "      <td>0</td>\n",
       "      <td>0</td>\n",
       "    </tr>\n",
       "    <tr>\n",
       "      <td>...</td>\n",
       "      <td>...</td>\n",
       "      <td>...</td>\n",
       "      <td>...</td>\n",
       "      <td>...</td>\n",
       "      <td>...</td>\n",
       "      <td>...</td>\n",
       "      <td>...</td>\n",
       "      <td>...</td>\n",
       "      <td>...</td>\n",
       "      <td>...</td>\n",
       "      <td>...</td>\n",
       "      <td>...</td>\n",
       "      <td>...</td>\n",
       "      <td>...</td>\n",
       "      <td>...</td>\n",
       "      <td>...</td>\n",
       "      <td>...</td>\n",
       "      <td>...</td>\n",
       "      <td>...</td>\n",
       "      <td>...</td>\n",
       "      <td>...</td>\n",
       "    </tr>\n",
       "    <tr>\n",
       "      <td>3309</td>\n",
       "      <td>0</td>\n",
       "      <td>0</td>\n",
       "      <td>0</td>\n",
       "      <td>0</td>\n",
       "      <td>0</td>\n",
       "      <td>0</td>\n",
       "      <td>0</td>\n",
       "      <td>0</td>\n",
       "      <td>0</td>\n",
       "      <td>0</td>\n",
       "      <td>...</td>\n",
       "      <td>0</td>\n",
       "      <td>0</td>\n",
       "      <td>0</td>\n",
       "      <td>0</td>\n",
       "      <td>0</td>\n",
       "      <td>0</td>\n",
       "      <td>0</td>\n",
       "      <td>0</td>\n",
       "      <td>0</td>\n",
       "      <td>0</td>\n",
       "    </tr>\n",
       "    <tr>\n",
       "      <td>3310</td>\n",
       "      <td>0</td>\n",
       "      <td>0</td>\n",
       "      <td>0</td>\n",
       "      <td>0</td>\n",
       "      <td>0</td>\n",
       "      <td>0</td>\n",
       "      <td>0</td>\n",
       "      <td>0</td>\n",
       "      <td>0</td>\n",
       "      <td>0</td>\n",
       "      <td>...</td>\n",
       "      <td>0</td>\n",
       "      <td>0</td>\n",
       "      <td>0</td>\n",
       "      <td>0</td>\n",
       "      <td>0</td>\n",
       "      <td>0</td>\n",
       "      <td>0</td>\n",
       "      <td>0</td>\n",
       "      <td>0</td>\n",
       "      <td>0</td>\n",
       "    </tr>\n",
       "    <tr>\n",
       "      <td>3311</td>\n",
       "      <td>0</td>\n",
       "      <td>0</td>\n",
       "      <td>0</td>\n",
       "      <td>0</td>\n",
       "      <td>0</td>\n",
       "      <td>0</td>\n",
       "      <td>0</td>\n",
       "      <td>1</td>\n",
       "      <td>0</td>\n",
       "      <td>0</td>\n",
       "      <td>...</td>\n",
       "      <td>0</td>\n",
       "      <td>0</td>\n",
       "      <td>0</td>\n",
       "      <td>0</td>\n",
       "      <td>0</td>\n",
       "      <td>0</td>\n",
       "      <td>0</td>\n",
       "      <td>0</td>\n",
       "      <td>0</td>\n",
       "      <td>0</td>\n",
       "    </tr>\n",
       "    <tr>\n",
       "      <td>3312</td>\n",
       "      <td>0</td>\n",
       "      <td>0</td>\n",
       "      <td>0</td>\n",
       "      <td>0</td>\n",
       "      <td>0</td>\n",
       "      <td>0</td>\n",
       "      <td>0</td>\n",
       "      <td>0</td>\n",
       "      <td>0</td>\n",
       "      <td>0</td>\n",
       "      <td>...</td>\n",
       "      <td>0</td>\n",
       "      <td>0</td>\n",
       "      <td>0</td>\n",
       "      <td>0</td>\n",
       "      <td>0</td>\n",
       "      <td>0</td>\n",
       "      <td>0</td>\n",
       "      <td>0</td>\n",
       "      <td>0</td>\n",
       "      <td>0</td>\n",
       "    </tr>\n",
       "    <tr>\n",
       "      <td>3313</td>\n",
       "      <td>0</td>\n",
       "      <td>0</td>\n",
       "      <td>0</td>\n",
       "      <td>0</td>\n",
       "      <td>0</td>\n",
       "      <td>0</td>\n",
       "      <td>0</td>\n",
       "      <td>1</td>\n",
       "      <td>0</td>\n",
       "      <td>1</td>\n",
       "      <td>...</td>\n",
       "      <td>0</td>\n",
       "      <td>0</td>\n",
       "      <td>0</td>\n",
       "      <td>0</td>\n",
       "      <td>0</td>\n",
       "      <td>0</td>\n",
       "      <td>0</td>\n",
       "      <td>0</td>\n",
       "      <td>0</td>\n",
       "      <td>0</td>\n",
       "    </tr>\n",
       "  </tbody>\n",
       "</table>\n",
       "<p>3314 rows × 7160 columns</p>\n",
       "</div>"
      ],
      "text/plain": [
       "      aaron  aback  abandon  abbi  abdomen  abduct  abil  abl  ablaz  aboard  \\\n",
       "0         0      0        1     0        0       1     0    0      0       1   \n",
       "1         0      0        0     0        0       0     0    0      0       0   \n",
       "2         0      0        0     0        0       0     0    0      0       0   \n",
       "3         0      0        0     0        0       0     0    0      0       1   \n",
       "4         0      0        0     0        0       0     0    0      0       2   \n",
       "...     ...    ...      ...   ...      ...     ...   ...  ...    ...     ...   \n",
       "3309      0      0        0     0        0       0     0    0      0       0   \n",
       "3310      0      0        0     0        0       0     0    0      0       0   \n",
       "3311      0      0        0     0        0       0     0    1      0       0   \n",
       "3312      0      0        0     0        0       0     0    0      0       0   \n",
       "3313      0      0        0     0        0       0     0    1      0       1   \n",
       "\n",
       "      ...  youtub  youv  zealand  zero  zip  zoe  zombi  zone  zoo  zoom  \n",
       "0     ...       0     0        0     0    0    0      0     0    0     0  \n",
       "1     ...       0     0        0     0    0    0      0     0    0     0  \n",
       "2     ...       0     0        0     0    0    0      0     0    0     0  \n",
       "3     ...       0     0        0     0    0    0      0     0    0     0  \n",
       "4     ...       0     0        0     0    0    0      0     0    0     0  \n",
       "...   ...     ...   ...      ...   ...  ...  ...    ...   ...  ...   ...  \n",
       "3309  ...       0     0        0     0    0    0      0     0    0     0  \n",
       "3310  ...       0     0        0     0    0    0      0     0    0     0  \n",
       "3311  ...       0     0        0     0    0    0      0     0    0     0  \n",
       "3312  ...       0     0        0     0    0    0      0     0    0     0  \n",
       "3313  ...       0     0        0     0    0    0      0     0    0     0  \n",
       "\n",
       "[3314 rows x 7160 columns]"
      ]
     },
     "execution_count": 7,
     "metadata": {},
     "output_type": "execute_result"
    }
   ],
   "source": [
    "X_test = df_test.loc[:, 'aaron':]\n",
    "X_test"
   ]
  },
  {
   "cell_type": "code",
   "execution_count": 8,
   "metadata": {},
   "outputs": [
    {
     "data": {
      "text/html": [
       "<div>\n",
       "<style scoped>\n",
       "    .dataframe tbody tr th:only-of-type {\n",
       "        vertical-align: middle;\n",
       "    }\n",
       "\n",
       "    .dataframe tbody tr th {\n",
       "        vertical-align: top;\n",
       "    }\n",
       "\n",
       "    .dataframe thead th {\n",
       "        text-align: right;\n",
       "    }\n",
       "</style>\n",
       "<table border=\"1\" class=\"dataframe\">\n",
       "  <thead>\n",
       "    <tr style=\"text-align: right;\">\n",
       "      <th></th>\n",
       "      <th>Action</th>\n",
       "      <th>Adventure</th>\n",
       "      <th>Animation</th>\n",
       "      <th>Biography</th>\n",
       "      <th>Comedy</th>\n",
       "      <th>Crime</th>\n",
       "      <th>Documentary</th>\n",
       "      <th>Drama</th>\n",
       "      <th>Family</th>\n",
       "      <th>Fantasy</th>\n",
       "      <th>History</th>\n",
       "      <th>Horror</th>\n",
       "      <th>Music</th>\n",
       "      <th>Musical</th>\n",
       "      <th>Mystery</th>\n",
       "      <th>Romance</th>\n",
       "      <th>SciFi</th>\n",
       "      <th>Sport</th>\n",
       "      <th>Thriller</th>\n",
       "      <th>War</th>\n",
       "    </tr>\n",
       "  </thead>\n",
       "  <tbody>\n",
       "    <tr>\n",
       "      <td>0</td>\n",
       "      <td>0</td>\n",
       "      <td>0</td>\n",
       "      <td>0</td>\n",
       "      <td>0</td>\n",
       "      <td>0</td>\n",
       "      <td>1</td>\n",
       "      <td>0</td>\n",
       "      <td>1</td>\n",
       "      <td>0</td>\n",
       "      <td>0</td>\n",
       "      <td>0</td>\n",
       "      <td>1</td>\n",
       "      <td>0</td>\n",
       "      <td>0</td>\n",
       "      <td>0</td>\n",
       "      <td>0</td>\n",
       "      <td>0</td>\n",
       "      <td>0</td>\n",
       "      <td>1</td>\n",
       "      <td>0</td>\n",
       "    </tr>\n",
       "    <tr>\n",
       "      <td>1</td>\n",
       "      <td>0</td>\n",
       "      <td>0</td>\n",
       "      <td>0</td>\n",
       "      <td>0</td>\n",
       "      <td>0</td>\n",
       "      <td>0</td>\n",
       "      <td>0</td>\n",
       "      <td>1</td>\n",
       "      <td>0</td>\n",
       "      <td>0</td>\n",
       "      <td>0</td>\n",
       "      <td>0</td>\n",
       "      <td>0</td>\n",
       "      <td>0</td>\n",
       "      <td>0</td>\n",
       "      <td>0</td>\n",
       "      <td>0</td>\n",
       "      <td>0</td>\n",
       "      <td>0</td>\n",
       "      <td>0</td>\n",
       "    </tr>\n",
       "    <tr>\n",
       "      <td>2</td>\n",
       "      <td>1</td>\n",
       "      <td>0</td>\n",
       "      <td>0</td>\n",
       "      <td>0</td>\n",
       "      <td>0</td>\n",
       "      <td>0</td>\n",
       "      <td>0</td>\n",
       "      <td>0</td>\n",
       "      <td>0</td>\n",
       "      <td>0</td>\n",
       "      <td>0</td>\n",
       "      <td>0</td>\n",
       "      <td>0</td>\n",
       "      <td>0</td>\n",
       "      <td>0</td>\n",
       "      <td>0</td>\n",
       "      <td>1</td>\n",
       "      <td>0</td>\n",
       "      <td>0</td>\n",
       "      <td>0</td>\n",
       "    </tr>\n",
       "    <tr>\n",
       "      <td>3</td>\n",
       "      <td>0</td>\n",
       "      <td>0</td>\n",
       "      <td>0</td>\n",
       "      <td>0</td>\n",
       "      <td>0</td>\n",
       "      <td>0</td>\n",
       "      <td>0</td>\n",
       "      <td>1</td>\n",
       "      <td>0</td>\n",
       "      <td>0</td>\n",
       "      <td>0</td>\n",
       "      <td>0</td>\n",
       "      <td>0</td>\n",
       "      <td>0</td>\n",
       "      <td>1</td>\n",
       "      <td>0</td>\n",
       "      <td>0</td>\n",
       "      <td>0</td>\n",
       "      <td>1</td>\n",
       "      <td>0</td>\n",
       "    </tr>\n",
       "    <tr>\n",
       "      <td>4</td>\n",
       "      <td>1</td>\n",
       "      <td>0</td>\n",
       "      <td>0</td>\n",
       "      <td>0</td>\n",
       "      <td>0</td>\n",
       "      <td>1</td>\n",
       "      <td>0</td>\n",
       "      <td>1</td>\n",
       "      <td>0</td>\n",
       "      <td>0</td>\n",
       "      <td>0</td>\n",
       "      <td>0</td>\n",
       "      <td>0</td>\n",
       "      <td>0</td>\n",
       "      <td>0</td>\n",
       "      <td>0</td>\n",
       "      <td>0</td>\n",
       "      <td>0</td>\n",
       "      <td>1</td>\n",
       "      <td>0</td>\n",
       "    </tr>\n",
       "    <tr>\n",
       "      <td>...</td>\n",
       "      <td>...</td>\n",
       "      <td>...</td>\n",
       "      <td>...</td>\n",
       "      <td>...</td>\n",
       "      <td>...</td>\n",
       "      <td>...</td>\n",
       "      <td>...</td>\n",
       "      <td>...</td>\n",
       "      <td>...</td>\n",
       "      <td>...</td>\n",
       "      <td>...</td>\n",
       "      <td>...</td>\n",
       "      <td>...</td>\n",
       "      <td>...</td>\n",
       "      <td>...</td>\n",
       "      <td>...</td>\n",
       "      <td>...</td>\n",
       "      <td>...</td>\n",
       "      <td>...</td>\n",
       "      <td>...</td>\n",
       "    </tr>\n",
       "    <tr>\n",
       "      <td>9936</td>\n",
       "      <td>0</td>\n",
       "      <td>0</td>\n",
       "      <td>0</td>\n",
       "      <td>0</td>\n",
       "      <td>0</td>\n",
       "      <td>1</td>\n",
       "      <td>0</td>\n",
       "      <td>1</td>\n",
       "      <td>0</td>\n",
       "      <td>0</td>\n",
       "      <td>0</td>\n",
       "      <td>0</td>\n",
       "      <td>0</td>\n",
       "      <td>0</td>\n",
       "      <td>0</td>\n",
       "      <td>1</td>\n",
       "      <td>0</td>\n",
       "      <td>0</td>\n",
       "      <td>1</td>\n",
       "      <td>0</td>\n",
       "    </tr>\n",
       "    <tr>\n",
       "      <td>9937</td>\n",
       "      <td>0</td>\n",
       "      <td>0</td>\n",
       "      <td>0</td>\n",
       "      <td>0</td>\n",
       "      <td>0</td>\n",
       "      <td>0</td>\n",
       "      <td>1</td>\n",
       "      <td>0</td>\n",
       "      <td>0</td>\n",
       "      <td>0</td>\n",
       "      <td>0</td>\n",
       "      <td>0</td>\n",
       "      <td>0</td>\n",
       "      <td>0</td>\n",
       "      <td>0</td>\n",
       "      <td>0</td>\n",
       "      <td>0</td>\n",
       "      <td>0</td>\n",
       "      <td>0</td>\n",
       "      <td>0</td>\n",
       "    </tr>\n",
       "    <tr>\n",
       "      <td>9938</td>\n",
       "      <td>1</td>\n",
       "      <td>1</td>\n",
       "      <td>0</td>\n",
       "      <td>0</td>\n",
       "      <td>0</td>\n",
       "      <td>0</td>\n",
       "      <td>0</td>\n",
       "      <td>1</td>\n",
       "      <td>0</td>\n",
       "      <td>1</td>\n",
       "      <td>1</td>\n",
       "      <td>0</td>\n",
       "      <td>0</td>\n",
       "      <td>0</td>\n",
       "      <td>0</td>\n",
       "      <td>0</td>\n",
       "      <td>0</td>\n",
       "      <td>0</td>\n",
       "      <td>0</td>\n",
       "      <td>0</td>\n",
       "    </tr>\n",
       "    <tr>\n",
       "      <td>9939</td>\n",
       "      <td>1</td>\n",
       "      <td>0</td>\n",
       "      <td>0</td>\n",
       "      <td>0</td>\n",
       "      <td>0</td>\n",
       "      <td>0</td>\n",
       "      <td>0</td>\n",
       "      <td>0</td>\n",
       "      <td>0</td>\n",
       "      <td>0</td>\n",
       "      <td>0</td>\n",
       "      <td>0</td>\n",
       "      <td>0</td>\n",
       "      <td>0</td>\n",
       "      <td>0</td>\n",
       "      <td>0</td>\n",
       "      <td>0</td>\n",
       "      <td>0</td>\n",
       "      <td>1</td>\n",
       "      <td>0</td>\n",
       "    </tr>\n",
       "    <tr>\n",
       "      <td>9940</td>\n",
       "      <td>0</td>\n",
       "      <td>0</td>\n",
       "      <td>0</td>\n",
       "      <td>0</td>\n",
       "      <td>1</td>\n",
       "      <td>0</td>\n",
       "      <td>0</td>\n",
       "      <td>0</td>\n",
       "      <td>0</td>\n",
       "      <td>0</td>\n",
       "      <td>0</td>\n",
       "      <td>0</td>\n",
       "      <td>0</td>\n",
       "      <td>0</td>\n",
       "      <td>0</td>\n",
       "      <td>0</td>\n",
       "      <td>0</td>\n",
       "      <td>0</td>\n",
       "      <td>0</td>\n",
       "      <td>0</td>\n",
       "    </tr>\n",
       "  </tbody>\n",
       "</table>\n",
       "<p>9941 rows × 20 columns</p>\n",
       "</div>"
      ],
      "text/plain": [
       "      Action  Adventure  Animation  Biography  Comedy  Crime  Documentary  \\\n",
       "0          0          0          0          0       0      1            0   \n",
       "1          0          0          0          0       0      0            0   \n",
       "2          1          0          0          0       0      0            0   \n",
       "3          0          0          0          0       0      0            0   \n",
       "4          1          0          0          0       0      1            0   \n",
       "...      ...        ...        ...        ...     ...    ...          ...   \n",
       "9936       0          0          0          0       0      1            0   \n",
       "9937       0          0          0          0       0      0            1   \n",
       "9938       1          1          0          0       0      0            0   \n",
       "9939       1          0          0          0       0      0            0   \n",
       "9940       0          0          0          0       1      0            0   \n",
       "\n",
       "      Drama  Family  Fantasy  History  Horror  Music  Musical  Mystery  \\\n",
       "0         1       0        0        0       1      0        0        0   \n",
       "1         1       0        0        0       0      0        0        0   \n",
       "2         0       0        0        0       0      0        0        0   \n",
       "3         1       0        0        0       0      0        0        1   \n",
       "4         1       0        0        0       0      0        0        0   \n",
       "...     ...     ...      ...      ...     ...    ...      ...      ...   \n",
       "9936      1       0        0        0       0      0        0        0   \n",
       "9937      0       0        0        0       0      0        0        0   \n",
       "9938      1       0        1        1       0      0        0        0   \n",
       "9939      0       0        0        0       0      0        0        0   \n",
       "9940      0       0        0        0       0      0        0        0   \n",
       "\n",
       "      Romance  SciFi  Sport  Thriller  War  \n",
       "0           0      0      0         1    0  \n",
       "1           0      0      0         0    0  \n",
       "2           0      1      0         0    0  \n",
       "3           0      0      0         1    0  \n",
       "4           0      0      0         1    0  \n",
       "...       ...    ...    ...       ...  ...  \n",
       "9936        1      0      0         1    0  \n",
       "9937        0      0      0         0    0  \n",
       "9938        0      0      0         0    0  \n",
       "9939        0      0      0         1    0  \n",
       "9940        0      0      0         0    0  \n",
       "\n",
       "[9941 rows x 20 columns]"
      ]
     },
     "execution_count": 8,
     "metadata": {},
     "output_type": "execute_result"
    }
   ],
   "source": [
    "y_train = df_train.loc[:, :'War']\n",
    "y_train"
   ]
  },
  {
   "cell_type": "code",
   "execution_count": 9,
   "metadata": {},
   "outputs": [
    {
     "data": {
      "text/html": [
       "<div>\n",
       "<style scoped>\n",
       "    .dataframe tbody tr th:only-of-type {\n",
       "        vertical-align: middle;\n",
       "    }\n",
       "\n",
       "    .dataframe tbody tr th {\n",
       "        vertical-align: top;\n",
       "    }\n",
       "\n",
       "    .dataframe thead th {\n",
       "        text-align: right;\n",
       "    }\n",
       "</style>\n",
       "<table border=\"1\" class=\"dataframe\">\n",
       "  <thead>\n",
       "    <tr style=\"text-align: right;\">\n",
       "      <th></th>\n",
       "      <th>Action</th>\n",
       "      <th>Adventure</th>\n",
       "      <th>Animation</th>\n",
       "      <th>Biography</th>\n",
       "      <th>Comedy</th>\n",
       "      <th>Crime</th>\n",
       "      <th>Documentary</th>\n",
       "      <th>Drama</th>\n",
       "      <th>Family</th>\n",
       "      <th>Fantasy</th>\n",
       "      <th>History</th>\n",
       "      <th>Horror</th>\n",
       "      <th>Music</th>\n",
       "      <th>Musical</th>\n",
       "      <th>Mystery</th>\n",
       "      <th>Romance</th>\n",
       "      <th>SciFi</th>\n",
       "      <th>Sport</th>\n",
       "      <th>Thriller</th>\n",
       "      <th>War</th>\n",
       "    </tr>\n",
       "  </thead>\n",
       "  <tbody>\n",
       "    <tr>\n",
       "      <td>0</td>\n",
       "      <td>0</td>\n",
       "      <td>1</td>\n",
       "      <td>1</td>\n",
       "      <td>0</td>\n",
       "      <td>1</td>\n",
       "      <td>0</td>\n",
       "      <td>0</td>\n",
       "      <td>0</td>\n",
       "      <td>1</td>\n",
       "      <td>0</td>\n",
       "      <td>0</td>\n",
       "      <td>0</td>\n",
       "      <td>0</td>\n",
       "      <td>0</td>\n",
       "      <td>0</td>\n",
       "      <td>0</td>\n",
       "      <td>0</td>\n",
       "      <td>0</td>\n",
       "      <td>0</td>\n",
       "      <td>0</td>\n",
       "    </tr>\n",
       "    <tr>\n",
       "      <td>1</td>\n",
       "      <td>0</td>\n",
       "      <td>0</td>\n",
       "      <td>0</td>\n",
       "      <td>0</td>\n",
       "      <td>0</td>\n",
       "      <td>1</td>\n",
       "      <td>0</td>\n",
       "      <td>1</td>\n",
       "      <td>0</td>\n",
       "      <td>0</td>\n",
       "      <td>0</td>\n",
       "      <td>0</td>\n",
       "      <td>0</td>\n",
       "      <td>0</td>\n",
       "      <td>0</td>\n",
       "      <td>0</td>\n",
       "      <td>0</td>\n",
       "      <td>0</td>\n",
       "      <td>0</td>\n",
       "      <td>0</td>\n",
       "    </tr>\n",
       "    <tr>\n",
       "      <td>2</td>\n",
       "      <td>0</td>\n",
       "      <td>0</td>\n",
       "      <td>0</td>\n",
       "      <td>0</td>\n",
       "      <td>0</td>\n",
       "      <td>0</td>\n",
       "      <td>0</td>\n",
       "      <td>0</td>\n",
       "      <td>0</td>\n",
       "      <td>1</td>\n",
       "      <td>0</td>\n",
       "      <td>0</td>\n",
       "      <td>0</td>\n",
       "      <td>0</td>\n",
       "      <td>0</td>\n",
       "      <td>0</td>\n",
       "      <td>0</td>\n",
       "      <td>0</td>\n",
       "      <td>0</td>\n",
       "      <td>0</td>\n",
       "    </tr>\n",
       "    <tr>\n",
       "      <td>3</td>\n",
       "      <td>1</td>\n",
       "      <td>0</td>\n",
       "      <td>0</td>\n",
       "      <td>0</td>\n",
       "      <td>0</td>\n",
       "      <td>0</td>\n",
       "      <td>0</td>\n",
       "      <td>1</td>\n",
       "      <td>0</td>\n",
       "      <td>0</td>\n",
       "      <td>0</td>\n",
       "      <td>0</td>\n",
       "      <td>0</td>\n",
       "      <td>0</td>\n",
       "      <td>0</td>\n",
       "      <td>0</td>\n",
       "      <td>0</td>\n",
       "      <td>0</td>\n",
       "      <td>1</td>\n",
       "      <td>0</td>\n",
       "    </tr>\n",
       "    <tr>\n",
       "      <td>4</td>\n",
       "      <td>0</td>\n",
       "      <td>0</td>\n",
       "      <td>0</td>\n",
       "      <td>1</td>\n",
       "      <td>0</td>\n",
       "      <td>0</td>\n",
       "      <td>0</td>\n",
       "      <td>1</td>\n",
       "      <td>0</td>\n",
       "      <td>0</td>\n",
       "      <td>1</td>\n",
       "      <td>0</td>\n",
       "      <td>0</td>\n",
       "      <td>0</td>\n",
       "      <td>0</td>\n",
       "      <td>0</td>\n",
       "      <td>0</td>\n",
       "      <td>0</td>\n",
       "      <td>0</td>\n",
       "      <td>0</td>\n",
       "    </tr>\n",
       "    <tr>\n",
       "      <td>...</td>\n",
       "      <td>...</td>\n",
       "      <td>...</td>\n",
       "      <td>...</td>\n",
       "      <td>...</td>\n",
       "      <td>...</td>\n",
       "      <td>...</td>\n",
       "      <td>...</td>\n",
       "      <td>...</td>\n",
       "      <td>...</td>\n",
       "      <td>...</td>\n",
       "      <td>...</td>\n",
       "      <td>...</td>\n",
       "      <td>...</td>\n",
       "      <td>...</td>\n",
       "      <td>...</td>\n",
       "      <td>...</td>\n",
       "      <td>...</td>\n",
       "      <td>...</td>\n",
       "      <td>...</td>\n",
       "      <td>...</td>\n",
       "    </tr>\n",
       "    <tr>\n",
       "      <td>3309</td>\n",
       "      <td>0</td>\n",
       "      <td>0</td>\n",
       "      <td>0</td>\n",
       "      <td>0</td>\n",
       "      <td>1</td>\n",
       "      <td>0</td>\n",
       "      <td>0</td>\n",
       "      <td>0</td>\n",
       "      <td>1</td>\n",
       "      <td>0</td>\n",
       "      <td>0</td>\n",
       "      <td>0</td>\n",
       "      <td>0</td>\n",
       "      <td>0</td>\n",
       "      <td>0</td>\n",
       "      <td>1</td>\n",
       "      <td>0</td>\n",
       "      <td>0</td>\n",
       "      <td>0</td>\n",
       "      <td>0</td>\n",
       "    </tr>\n",
       "    <tr>\n",
       "      <td>3310</td>\n",
       "      <td>0</td>\n",
       "      <td>0</td>\n",
       "      <td>0</td>\n",
       "      <td>1</td>\n",
       "      <td>0</td>\n",
       "      <td>0</td>\n",
       "      <td>0</td>\n",
       "      <td>1</td>\n",
       "      <td>0</td>\n",
       "      <td>0</td>\n",
       "      <td>1</td>\n",
       "      <td>0</td>\n",
       "      <td>0</td>\n",
       "      <td>0</td>\n",
       "      <td>0</td>\n",
       "      <td>1</td>\n",
       "      <td>0</td>\n",
       "      <td>0</td>\n",
       "      <td>1</td>\n",
       "      <td>0</td>\n",
       "    </tr>\n",
       "    <tr>\n",
       "      <td>3311</td>\n",
       "      <td>0</td>\n",
       "      <td>0</td>\n",
       "      <td>0</td>\n",
       "      <td>0</td>\n",
       "      <td>0</td>\n",
       "      <td>0</td>\n",
       "      <td>0</td>\n",
       "      <td>1</td>\n",
       "      <td>0</td>\n",
       "      <td>0</td>\n",
       "      <td>0</td>\n",
       "      <td>0</td>\n",
       "      <td>1</td>\n",
       "      <td>0</td>\n",
       "      <td>0</td>\n",
       "      <td>1</td>\n",
       "      <td>0</td>\n",
       "      <td>0</td>\n",
       "      <td>0</td>\n",
       "      <td>0</td>\n",
       "    </tr>\n",
       "    <tr>\n",
       "      <td>3312</td>\n",
       "      <td>0</td>\n",
       "      <td>0</td>\n",
       "      <td>0</td>\n",
       "      <td>0</td>\n",
       "      <td>0</td>\n",
       "      <td>0</td>\n",
       "      <td>0</td>\n",
       "      <td>1</td>\n",
       "      <td>0</td>\n",
       "      <td>0</td>\n",
       "      <td>1</td>\n",
       "      <td>0</td>\n",
       "      <td>0</td>\n",
       "      <td>0</td>\n",
       "      <td>0</td>\n",
       "      <td>0</td>\n",
       "      <td>0</td>\n",
       "      <td>0</td>\n",
       "      <td>0</td>\n",
       "      <td>1</td>\n",
       "    </tr>\n",
       "    <tr>\n",
       "      <td>3313</td>\n",
       "      <td>1</td>\n",
       "      <td>0</td>\n",
       "      <td>0</td>\n",
       "      <td>0</td>\n",
       "      <td>0</td>\n",
       "      <td>0</td>\n",
       "      <td>0</td>\n",
       "      <td>0</td>\n",
       "      <td>0</td>\n",
       "      <td>0</td>\n",
       "      <td>0</td>\n",
       "      <td>0</td>\n",
       "      <td>0</td>\n",
       "      <td>0</td>\n",
       "      <td>0</td>\n",
       "      <td>0</td>\n",
       "      <td>1</td>\n",
       "      <td>0</td>\n",
       "      <td>1</td>\n",
       "      <td>0</td>\n",
       "    </tr>\n",
       "  </tbody>\n",
       "</table>\n",
       "<p>3314 rows × 20 columns</p>\n",
       "</div>"
      ],
      "text/plain": [
       "      Action  Adventure  Animation  Biography  Comedy  Crime  Documentary  \\\n",
       "0          0          1          1          0       1      0            0   \n",
       "1          0          0          0          0       0      1            0   \n",
       "2          0          0          0          0       0      0            0   \n",
       "3          1          0          0          0       0      0            0   \n",
       "4          0          0          0          1       0      0            0   \n",
       "...      ...        ...        ...        ...     ...    ...          ...   \n",
       "3309       0          0          0          0       1      0            0   \n",
       "3310       0          0          0          1       0      0            0   \n",
       "3311       0          0          0          0       0      0            0   \n",
       "3312       0          0          0          0       0      0            0   \n",
       "3313       1          0          0          0       0      0            0   \n",
       "\n",
       "      Drama  Family  Fantasy  History  Horror  Music  Musical  Mystery  \\\n",
       "0         0       1        0        0       0      0        0        0   \n",
       "1         1       0        0        0       0      0        0        0   \n",
       "2         0       0        1        0       0      0        0        0   \n",
       "3         1       0        0        0       0      0        0        0   \n",
       "4         1       0        0        1       0      0        0        0   \n",
       "...     ...     ...      ...      ...     ...    ...      ...      ...   \n",
       "3309      0       1        0        0       0      0        0        0   \n",
       "3310      1       0        0        1       0      0        0        0   \n",
       "3311      1       0        0        0       0      1        0        0   \n",
       "3312      1       0        0        1       0      0        0        0   \n",
       "3313      0       0        0        0       0      0        0        0   \n",
       "\n",
       "      Romance  SciFi  Sport  Thriller  War  \n",
       "0           0      0      0         0    0  \n",
       "1           0      0      0         0    0  \n",
       "2           0      0      0         0    0  \n",
       "3           0      0      0         1    0  \n",
       "4           0      0      0         0    0  \n",
       "...       ...    ...    ...       ...  ...  \n",
       "3309        1      0      0         0    0  \n",
       "3310        1      0      0         1    0  \n",
       "3311        1      0      0         0    0  \n",
       "3312        0      0      0         0    1  \n",
       "3313        0      1      0         1    0  \n",
       "\n",
       "[3314 rows x 20 columns]"
      ]
     },
     "execution_count": 9,
     "metadata": {},
     "output_type": "execute_result"
    }
   ],
   "source": [
    "y_test = df_test.loc[:, :'War']\n",
    "y_test"
   ]
  },
  {
   "cell_type": "markdown",
   "metadata": {},
   "source": [
    "Let's implement the best parameters that we find by doing the grid search and implement and run our model"
   ]
  },
  {
   "cell_type": "code",
   "execution_count": 10,
   "metadata": {},
   "outputs": [
    {
     "data": {
      "text/plain": [
       "0.28032589016294507"
      ]
     },
     "execution_count": 10,
     "metadata": {},
     "output_type": "execute_result"
    }
   ],
   "source": [
    "from sklearn.linear_model import LogisticRegression\n",
    "from sklearn.multiclass import OneVsRestClassifier\n",
    "from sklearn.metrics import accuracy_score\n",
    "from sklearn.preprocessing import StandardScaler\n",
    "\n",
    "\n",
    "my_scaler=StandardScaler()\n",
    "my_scaler.fit(X_train)\n",
    "X_train = my_scaler.transform(X_train)\n",
    "X_test = my_scaler.transform(X_test)\n",
    "\n",
    "my_model=OneVsRestClassifier(LogisticRegression(solver='lbfgs', penalty='l2', max_iter=3000, C=0.01, n_jobs=-1), n_jobs=-1)\n",
    "my_model.fit(X_train,y_train)\n",
    "pred=my_model.predict(X_test)\n",
    "accuracy_score(y_test,pred)"
   ]
  },
  {
   "cell_type": "code",
   "execution_count": 11,
   "metadata": {},
   "outputs": [
    {
     "data": {
      "text/plain": [
       "0.28032589016294507"
      ]
     },
     "execution_count": 11,
     "metadata": {},
     "output_type": "execute_result"
    }
   ],
   "source": [
    "my_model.score(X_test,y_test)"
   ]
  },
  {
   "cell_type": "code",
   "execution_count": 12,
   "metadata": {},
   "outputs": [
    {
     "data": {
      "text/plain": [
       "array([[0, 1, 1, ..., 0, 0, 0],\n",
       "       [0, 0, 0, ..., 0, 0, 0],\n",
       "       [0, 0, 0, ..., 0, 0, 0],\n",
       "       ...,\n",
       "       [0, 0, 0, ..., 0, 0, 0],\n",
       "       [0, 0, 0, ..., 0, 0, 0],\n",
       "       [1, 1, 0, ..., 0, 1, 0]])"
      ]
     },
     "execution_count": 12,
     "metadata": {},
     "output_type": "execute_result"
    }
   ],
   "source": [
    "pred"
   ]
  },
  {
   "cell_type": "markdown",
   "metadata": {},
   "source": [
    "The accuracy here gives the percentage of the exact match of predicted combinations with the true ones. It is a very penalizing metric. For instance, let's take the example of a movie with 3 genres: Action, Crime and Thriller. Suppose that the model predicts only that the movie is Action and Thriller then the accuracy will penalize the score as this is not a perfect match. \n",
    "One way to get some other insights about the model performance is to check the accuracy for every single genre."
   ]
  },
  {
   "cell_type": "code",
   "execution_count": 13,
   "metadata": {},
   "outputs": [],
   "source": [
    "all_genres=['Action', 'Adventure', 'Animation', 'Biography', 'Comedy', 'Crime', 'Documentary', 'Drama', 'Family', 'Fantasy', 'History', 'Horror', 'Music', 'Musical', 'Mystery', 'Romance', 'SciFi', 'Sport', 'Thriller', 'War']"
   ]
  },
  {
   "cell_type": "markdown",
   "metadata": {},
   "source": [
    "Let's display the accuracy for every genre"
   ]
  },
  {
   "cell_type": "code",
   "execution_count": 14,
   "metadata": {},
   "outputs": [
    {
     "name": "stdout",
     "output_type": "stream",
     "text": [
      "**Processing movie Action ...**\n",
      "Test accuracy is 0.9016294508147255\n",
      "\n",
      "\n",
      "**Processing movie Adventure ...**\n",
      "Test accuracy is 0.9284852142426071\n",
      "\n",
      "\n",
      "**Processing movie Animation ...**\n",
      "Test accuracy is 0.9665057332528666\n",
      "\n",
      "\n",
      "**Processing movie Biography ...**\n",
      "Test accuracy is 0.9290887145443573\n",
      "\n",
      "\n",
      "**Processing movie Comedy ...**\n",
      "Test accuracy is 0.8180446590223295\n",
      "\n",
      "\n",
      "**Processing movie Crime ...**\n",
      "Test accuracy is 0.9031382015691007\n",
      "\n",
      "\n",
      "**Processing movie Documentary ...**\n",
      "Test accuracy is 0.9426674713337356\n",
      "\n",
      "\n",
      "**Processing movie Drama ...**\n",
      "Test accuracy is 0.7214846107423054\n",
      "\n",
      "\n",
      "**Processing movie Family ...**\n",
      "Test accuracy is 0.947797223898612\n",
      "\n",
      "\n",
      "**Processing movie Fantasy ...**\n",
      "Test accuracy is 0.944176222088111\n",
      "\n",
      "\n",
      "**Processing movie History ...**\n",
      "Test accuracy is 0.9411587205793603\n",
      "\n",
      "\n",
      "**Processing movie Horror ...**\n",
      "Test accuracy is 0.9577549788774894\n",
      "\n",
      "\n",
      "**Processing movie Music ...**\n",
      "Test accuracy is 0.9701267350633676\n",
      "\n",
      "\n",
      "**Processing movie Musical ...**\n",
      "Test accuracy is 0.9743512371756186\n",
      "\n",
      "\n",
      "**Processing movie Mystery ...**\n",
      "Test accuracy is 0.9312009656004828\n",
      "\n",
      "\n",
      "**Processing movie Romance ...**\n",
      "Test accuracy is 0.8497284248642124\n",
      "\n",
      "\n",
      "**Processing movie SciFi ...**\n",
      "Test accuracy is 0.9628847314423657\n",
      "\n",
      "\n",
      "**Processing movie Sport ...**\n",
      "Test accuracy is 0.9776704888352444\n",
      "\n",
      "\n",
      "**Processing movie Thriller ...**\n",
      "Test accuracy is 0.8593844296922148\n",
      "\n",
      "\n",
      "**Processing movie War ...**\n",
      "Test accuracy is 0.9662039831019915\n",
      "\n",
      "\n"
     ]
    }
   ],
   "source": [
    "pred_df = pd.DataFrame(pred, columns=all_genres)\n",
    "for genre in all_genres:\n",
    "    print('**Processing movie {} ...**'.format(genre))\n",
    "\n",
    "    print('Test accuracy is {}'.format(accuracy_score(y_test[genre], pred_df[genre])))\n",
    "    print(\"\\n\")"
   ]
  },
  {
   "cell_type": "markdown",
   "metadata": {},
   "source": [
    "This is a pretty high accuracy. But let's check the confusion matrix and the precision and recall for every genre to get a better idea about the performance of the model"
   ]
  },
  {
   "cell_type": "code",
   "execution_count": 15,
   "metadata": {},
   "outputs": [
    {
     "name": "stdout",
     "output_type": "stream",
     "text": [
      "The Action class distribution\n"
     ]
    },
    {
     "data": {
      "text/plain": [
       "0    2823\n",
       "1     491\n",
       "Name: Action, dtype: int64"
      ]
     },
     "metadata": {},
     "output_type": "display_data"
    },
    {
     "data": {
      "text/html": [
       "<div>\n",
       "<style scoped>\n",
       "    .dataframe tbody tr th:only-of-type {\n",
       "        vertical-align: middle;\n",
       "    }\n",
       "\n",
       "    .dataframe tbody tr th {\n",
       "        vertical-align: top;\n",
       "    }\n",
       "\n",
       "    .dataframe thead th {\n",
       "        text-align: right;\n",
       "    }\n",
       "</style>\n",
       "<table border=\"1\" class=\"dataframe\">\n",
       "  <thead>\n",
       "    <tr style=\"text-align: right;\">\n",
       "      <th></th>\n",
       "      <th>predicted non-Action</th>\n",
       "      <th>predicted Action</th>\n",
       "    </tr>\n",
       "  </thead>\n",
       "  <tbody>\n",
       "    <tr>\n",
       "      <td>True non-Action</td>\n",
       "      <td>2720</td>\n",
       "      <td>103</td>\n",
       "    </tr>\n",
       "    <tr>\n",
       "      <td>True Action</td>\n",
       "      <td>223</td>\n",
       "      <td>268</td>\n",
       "    </tr>\n",
       "  </tbody>\n",
       "</table>\n",
       "</div>"
      ],
      "text/plain": [
       "                 predicted non-Action  predicted Action\n",
       "True non-Action                  2720               103\n",
       "True Action                       223               268"
      ]
     },
     "metadata": {},
     "output_type": "display_data"
    },
    {
     "name": "stdout",
     "output_type": "stream",
     "text": [
      "              precision    recall  f1-score   support\n",
      "\n",
      "           0       0.92      0.96      0.94      2823\n",
      "           1       0.72      0.55      0.62       491\n",
      "\n",
      "    accuracy                           0.90      3314\n",
      "   macro avg       0.82      0.75      0.78      3314\n",
      "weighted avg       0.89      0.90      0.90      3314\n",
      "\n",
      "The Adventure class distribution\n"
     ]
    },
    {
     "data": {
      "text/plain": [
       "0    2958\n",
       "1     356\n",
       "Name: Adventure, dtype: int64"
      ]
     },
     "metadata": {},
     "output_type": "display_data"
    },
    {
     "data": {
      "text/html": [
       "<div>\n",
       "<style scoped>\n",
       "    .dataframe tbody tr th:only-of-type {\n",
       "        vertical-align: middle;\n",
       "    }\n",
       "\n",
       "    .dataframe tbody tr th {\n",
       "        vertical-align: top;\n",
       "    }\n",
       "\n",
       "    .dataframe thead th {\n",
       "        text-align: right;\n",
       "    }\n",
       "</style>\n",
       "<table border=\"1\" class=\"dataframe\">\n",
       "  <thead>\n",
       "    <tr style=\"text-align: right;\">\n",
       "      <th></th>\n",
       "      <th>predicted non-Adventure</th>\n",
       "      <th>predicted Adventure</th>\n",
       "    </tr>\n",
       "  </thead>\n",
       "  <tbody>\n",
       "    <tr>\n",
       "      <td>True non-Adventure</td>\n",
       "      <td>2897</td>\n",
       "      <td>61</td>\n",
       "    </tr>\n",
       "    <tr>\n",
       "      <td>True Adventure</td>\n",
       "      <td>176</td>\n",
       "      <td>180</td>\n",
       "    </tr>\n",
       "  </tbody>\n",
       "</table>\n",
       "</div>"
      ],
      "text/plain": [
       "                    predicted non-Adventure  predicted Adventure\n",
       "True non-Adventure                     2897                   61\n",
       "True Adventure                          176                  180"
      ]
     },
     "metadata": {},
     "output_type": "display_data"
    },
    {
     "name": "stdout",
     "output_type": "stream",
     "text": [
      "              precision    recall  f1-score   support\n",
      "\n",
      "           0       0.94      0.98      0.96      2958\n",
      "           1       0.75      0.51      0.60       356\n",
      "\n",
      "    accuracy                           0.93      3314\n",
      "   macro avg       0.84      0.74      0.78      3314\n",
      "weighted avg       0.92      0.93      0.92      3314\n",
      "\n",
      "The Animation class distribution\n"
     ]
    },
    {
     "data": {
      "text/plain": [
       "0    3187\n",
       "1     127\n",
       "Name: Animation, dtype: int64"
      ]
     },
     "metadata": {},
     "output_type": "display_data"
    },
    {
     "data": {
      "text/html": [
       "<div>\n",
       "<style scoped>\n",
       "    .dataframe tbody tr th:only-of-type {\n",
       "        vertical-align: middle;\n",
       "    }\n",
       "\n",
       "    .dataframe tbody tr th {\n",
       "        vertical-align: top;\n",
       "    }\n",
       "\n",
       "    .dataframe thead th {\n",
       "        text-align: right;\n",
       "    }\n",
       "</style>\n",
       "<table border=\"1\" class=\"dataframe\">\n",
       "  <thead>\n",
       "    <tr style=\"text-align: right;\">\n",
       "      <th></th>\n",
       "      <th>predicted non-Animation</th>\n",
       "      <th>predicted Animation</th>\n",
       "    </tr>\n",
       "  </thead>\n",
       "  <tbody>\n",
       "    <tr>\n",
       "      <td>True non-Animation</td>\n",
       "      <td>3154</td>\n",
       "      <td>33</td>\n",
       "    </tr>\n",
       "    <tr>\n",
       "      <td>True Animation</td>\n",
       "      <td>78</td>\n",
       "      <td>49</td>\n",
       "    </tr>\n",
       "  </tbody>\n",
       "</table>\n",
       "</div>"
      ],
      "text/plain": [
       "                    predicted non-Animation  predicted Animation\n",
       "True non-Animation                     3154                   33\n",
       "True Animation                           78                   49"
      ]
     },
     "metadata": {},
     "output_type": "display_data"
    },
    {
     "name": "stdout",
     "output_type": "stream",
     "text": [
      "              precision    recall  f1-score   support\n",
      "\n",
      "           0       0.98      0.99      0.98      3187\n",
      "           1       0.60      0.39      0.47       127\n",
      "\n",
      "    accuracy                           0.97      3314\n",
      "   macro avg       0.79      0.69      0.73      3314\n",
      "weighted avg       0.96      0.97      0.96      3314\n",
      "\n",
      "The Biography class distribution\n"
     ]
    },
    {
     "data": {
      "text/plain": [
       "0    3098\n",
       "1     216\n",
       "Name: Biography, dtype: int64"
      ]
     },
     "metadata": {},
     "output_type": "display_data"
    },
    {
     "data": {
      "text/html": [
       "<div>\n",
       "<style scoped>\n",
       "    .dataframe tbody tr th:only-of-type {\n",
       "        vertical-align: middle;\n",
       "    }\n",
       "\n",
       "    .dataframe tbody tr th {\n",
       "        vertical-align: top;\n",
       "    }\n",
       "\n",
       "    .dataframe thead th {\n",
       "        text-align: right;\n",
       "    }\n",
       "</style>\n",
       "<table border=\"1\" class=\"dataframe\">\n",
       "  <thead>\n",
       "    <tr style=\"text-align: right;\">\n",
       "      <th></th>\n",
       "      <th>predicted non-Biography</th>\n",
       "      <th>predicted Biography</th>\n",
       "    </tr>\n",
       "  </thead>\n",
       "  <tbody>\n",
       "    <tr>\n",
       "      <td>True non-Biography</td>\n",
       "      <td>3040</td>\n",
       "      <td>58</td>\n",
       "    </tr>\n",
       "    <tr>\n",
       "      <td>True Biography</td>\n",
       "      <td>177</td>\n",
       "      <td>39</td>\n",
       "    </tr>\n",
       "  </tbody>\n",
       "</table>\n",
       "</div>"
      ],
      "text/plain": [
       "                    predicted non-Biography  predicted Biography\n",
       "True non-Biography                     3040                   58\n",
       "True Biography                          177                   39"
      ]
     },
     "metadata": {},
     "output_type": "display_data"
    },
    {
     "name": "stdout",
     "output_type": "stream",
     "text": [
      "              precision    recall  f1-score   support\n",
      "\n",
      "           0       0.94      0.98      0.96      3098\n",
      "           1       0.40      0.18      0.25       216\n",
      "\n",
      "    accuracy                           0.93      3314\n",
      "   macro avg       0.67      0.58      0.61      3314\n",
      "weighted avg       0.91      0.93      0.92      3314\n",
      "\n",
      "The Comedy class distribution\n"
     ]
    },
    {
     "data": {
      "text/plain": [
       "0    2442\n",
       "1     872\n",
       "Name: Comedy, dtype: int64"
      ]
     },
     "metadata": {},
     "output_type": "display_data"
    },
    {
     "data": {
      "text/html": [
       "<div>\n",
       "<style scoped>\n",
       "    .dataframe tbody tr th:only-of-type {\n",
       "        vertical-align: middle;\n",
       "    }\n",
       "\n",
       "    .dataframe tbody tr th {\n",
       "        vertical-align: top;\n",
       "    }\n",
       "\n",
       "    .dataframe thead th {\n",
       "        text-align: right;\n",
       "    }\n",
       "</style>\n",
       "<table border=\"1\" class=\"dataframe\">\n",
       "  <thead>\n",
       "    <tr style=\"text-align: right;\">\n",
       "      <th></th>\n",
       "      <th>predicted non-Comedy</th>\n",
       "      <th>predicted Comedy</th>\n",
       "    </tr>\n",
       "  </thead>\n",
       "  <tbody>\n",
       "    <tr>\n",
       "      <td>True non-Comedy</td>\n",
       "      <td>2240</td>\n",
       "      <td>202</td>\n",
       "    </tr>\n",
       "    <tr>\n",
       "      <td>True Comedy</td>\n",
       "      <td>401</td>\n",
       "      <td>471</td>\n",
       "    </tr>\n",
       "  </tbody>\n",
       "</table>\n",
       "</div>"
      ],
      "text/plain": [
       "                 predicted non-Comedy  predicted Comedy\n",
       "True non-Comedy                  2240               202\n",
       "True Comedy                       401               471"
      ]
     },
     "metadata": {},
     "output_type": "display_data"
    },
    {
     "name": "stdout",
     "output_type": "stream",
     "text": [
      "              precision    recall  f1-score   support\n",
      "\n",
      "           0       0.85      0.92      0.88      2442\n",
      "           1       0.70      0.54      0.61       872\n",
      "\n",
      "    accuracy                           0.82      3314\n",
      "   macro avg       0.77      0.73      0.75      3314\n",
      "weighted avg       0.81      0.82      0.81      3314\n",
      "\n",
      "The Crime class distribution\n"
     ]
    },
    {
     "data": {
      "text/plain": [
       "0    2846\n",
       "1     468\n",
       "Name: Crime, dtype: int64"
      ]
     },
     "metadata": {},
     "output_type": "display_data"
    },
    {
     "data": {
      "text/html": [
       "<div>\n",
       "<style scoped>\n",
       "    .dataframe tbody tr th:only-of-type {\n",
       "        vertical-align: middle;\n",
       "    }\n",
       "\n",
       "    .dataframe tbody tr th {\n",
       "        vertical-align: top;\n",
       "    }\n",
       "\n",
       "    .dataframe thead th {\n",
       "        text-align: right;\n",
       "    }\n",
       "</style>\n",
       "<table border=\"1\" class=\"dataframe\">\n",
       "  <thead>\n",
       "    <tr style=\"text-align: right;\">\n",
       "      <th></th>\n",
       "      <th>predicted non-Crime</th>\n",
       "      <th>predicted Crime</th>\n",
       "    </tr>\n",
       "  </thead>\n",
       "  <tbody>\n",
       "    <tr>\n",
       "      <td>True non-Crime</td>\n",
       "      <td>2739</td>\n",
       "      <td>107</td>\n",
       "    </tr>\n",
       "    <tr>\n",
       "      <td>True Crime</td>\n",
       "      <td>214</td>\n",
       "      <td>254</td>\n",
       "    </tr>\n",
       "  </tbody>\n",
       "</table>\n",
       "</div>"
      ],
      "text/plain": [
       "                predicted non-Crime  predicted Crime\n",
       "True non-Crime                 2739              107\n",
       "True Crime                      214              254"
      ]
     },
     "metadata": {},
     "output_type": "display_data"
    },
    {
     "name": "stdout",
     "output_type": "stream",
     "text": [
      "              precision    recall  f1-score   support\n",
      "\n",
      "           0       0.93      0.96      0.94      2846\n",
      "           1       0.70      0.54      0.61       468\n",
      "\n",
      "    accuracy                           0.90      3314\n",
      "   macro avg       0.82      0.75      0.78      3314\n",
      "weighted avg       0.90      0.90      0.90      3314\n",
      "\n",
      "The Documentary class distribution\n"
     ]
    },
    {
     "data": {
      "text/plain": [
       "0    2829\n",
       "1     485\n",
       "Name: Documentary, dtype: int64"
      ]
     },
     "metadata": {},
     "output_type": "display_data"
    },
    {
     "data": {
      "text/html": [
       "<div>\n",
       "<style scoped>\n",
       "    .dataframe tbody tr th:only-of-type {\n",
       "        vertical-align: middle;\n",
       "    }\n",
       "\n",
       "    .dataframe tbody tr th {\n",
       "        vertical-align: top;\n",
       "    }\n",
       "\n",
       "    .dataframe thead th {\n",
       "        text-align: right;\n",
       "    }\n",
       "</style>\n",
       "<table border=\"1\" class=\"dataframe\">\n",
       "  <thead>\n",
       "    <tr style=\"text-align: right;\">\n",
       "      <th></th>\n",
       "      <th>predicted non-Documentary</th>\n",
       "      <th>predicted Documentary</th>\n",
       "    </tr>\n",
       "  </thead>\n",
       "  <tbody>\n",
       "    <tr>\n",
       "      <td>True non-Documentary</td>\n",
       "      <td>2784</td>\n",
       "      <td>45</td>\n",
       "    </tr>\n",
       "    <tr>\n",
       "      <td>True Documentary</td>\n",
       "      <td>145</td>\n",
       "      <td>340</td>\n",
       "    </tr>\n",
       "  </tbody>\n",
       "</table>\n",
       "</div>"
      ],
      "text/plain": [
       "                      predicted non-Documentary  predicted Documentary\n",
       "True non-Documentary                       2784                     45\n",
       "True Documentary                            145                    340"
      ]
     },
     "metadata": {},
     "output_type": "display_data"
    },
    {
     "name": "stdout",
     "output_type": "stream",
     "text": [
      "              precision    recall  f1-score   support\n",
      "\n",
      "           0       0.95      0.98      0.97      2829\n",
      "           1       0.88      0.70      0.78       485\n",
      "\n",
      "    accuracy                           0.94      3314\n",
      "   macro avg       0.92      0.84      0.87      3314\n",
      "weighted avg       0.94      0.94      0.94      3314\n",
      "\n",
      "The Drama class distribution\n"
     ]
    },
    {
     "data": {
      "text/plain": [
       "1    1889\n",
       "0    1425\n",
       "Name: Drama, dtype: int64"
      ]
     },
     "metadata": {},
     "output_type": "display_data"
    },
    {
     "data": {
      "text/html": [
       "<div>\n",
       "<style scoped>\n",
       "    .dataframe tbody tr th:only-of-type {\n",
       "        vertical-align: middle;\n",
       "    }\n",
       "\n",
       "    .dataframe tbody tr th {\n",
       "        vertical-align: top;\n",
       "    }\n",
       "\n",
       "    .dataframe thead th {\n",
       "        text-align: right;\n",
       "    }\n",
       "</style>\n",
       "<table border=\"1\" class=\"dataframe\">\n",
       "  <thead>\n",
       "    <tr style=\"text-align: right;\">\n",
       "      <th></th>\n",
       "      <th>predicted non-Drama</th>\n",
       "      <th>predicted Drama</th>\n",
       "    </tr>\n",
       "  </thead>\n",
       "  <tbody>\n",
       "    <tr>\n",
       "      <td>True non-Drama</td>\n",
       "      <td>892</td>\n",
       "      <td>533</td>\n",
       "    </tr>\n",
       "    <tr>\n",
       "      <td>True Drama</td>\n",
       "      <td>390</td>\n",
       "      <td>1499</td>\n",
       "    </tr>\n",
       "  </tbody>\n",
       "</table>\n",
       "</div>"
      ],
      "text/plain": [
       "                predicted non-Drama  predicted Drama\n",
       "True non-Drama                  892              533\n",
       "True Drama                      390             1499"
      ]
     },
     "metadata": {},
     "output_type": "display_data"
    },
    {
     "name": "stdout",
     "output_type": "stream",
     "text": [
      "              precision    recall  f1-score   support\n",
      "\n",
      "           0       0.70      0.63      0.66      1425\n",
      "           1       0.74      0.79      0.76      1889\n",
      "\n",
      "    accuracy                           0.72      3314\n",
      "   macro avg       0.72      0.71      0.71      3314\n",
      "weighted avg       0.72      0.72      0.72      3314\n",
      "\n",
      "The Family class distribution\n"
     ]
    },
    {
     "data": {
      "text/plain": [
       "0    3092\n",
       "1     222\n",
       "Name: Family, dtype: int64"
      ]
     },
     "metadata": {},
     "output_type": "display_data"
    },
    {
     "data": {
      "text/html": [
       "<div>\n",
       "<style scoped>\n",
       "    .dataframe tbody tr th:only-of-type {\n",
       "        vertical-align: middle;\n",
       "    }\n",
       "\n",
       "    .dataframe tbody tr th {\n",
       "        vertical-align: top;\n",
       "    }\n",
       "\n",
       "    .dataframe thead th {\n",
       "        text-align: right;\n",
       "    }\n",
       "</style>\n",
       "<table border=\"1\" class=\"dataframe\">\n",
       "  <thead>\n",
       "    <tr style=\"text-align: right;\">\n",
       "      <th></th>\n",
       "      <th>predicted non-Family</th>\n",
       "      <th>predicted Family</th>\n",
       "    </tr>\n",
       "  </thead>\n",
       "  <tbody>\n",
       "    <tr>\n",
       "      <td>True non-Family</td>\n",
       "      <td>3059</td>\n",
       "      <td>33</td>\n",
       "    </tr>\n",
       "    <tr>\n",
       "      <td>True Family</td>\n",
       "      <td>140</td>\n",
       "      <td>82</td>\n",
       "    </tr>\n",
       "  </tbody>\n",
       "</table>\n",
       "</div>"
      ],
      "text/plain": [
       "                 predicted non-Family  predicted Family\n",
       "True non-Family                  3059                33\n",
       "True Family                       140                82"
      ]
     },
     "metadata": {},
     "output_type": "display_data"
    },
    {
     "name": "stdout",
     "output_type": "stream",
     "text": [
      "              precision    recall  f1-score   support\n",
      "\n",
      "           0       0.96      0.99      0.97      3092\n",
      "           1       0.71      0.37      0.49       222\n",
      "\n",
      "    accuracy                           0.95      3314\n",
      "   macro avg       0.83      0.68      0.73      3314\n",
      "weighted avg       0.94      0.95      0.94      3314\n",
      "\n",
      "The Fantasy class distribution\n"
     ]
    },
    {
     "data": {
      "text/plain": [
       "0    3081\n",
       "1     233\n",
       "Name: Fantasy, dtype: int64"
      ]
     },
     "metadata": {},
     "output_type": "display_data"
    },
    {
     "data": {
      "text/html": [
       "<div>\n",
       "<style scoped>\n",
       "    .dataframe tbody tr th:only-of-type {\n",
       "        vertical-align: middle;\n",
       "    }\n",
       "\n",
       "    .dataframe tbody tr th {\n",
       "        vertical-align: top;\n",
       "    }\n",
       "\n",
       "    .dataframe thead th {\n",
       "        text-align: right;\n",
       "    }\n",
       "</style>\n",
       "<table border=\"1\" class=\"dataframe\">\n",
       "  <thead>\n",
       "    <tr style=\"text-align: right;\">\n",
       "      <th></th>\n",
       "      <th>predicted non-Fantasy</th>\n",
       "      <th>predicted Fantasy</th>\n",
       "    </tr>\n",
       "  </thead>\n",
       "  <tbody>\n",
       "    <tr>\n",
       "      <td>True non-Fantasy</td>\n",
       "      <td>3025</td>\n",
       "      <td>56</td>\n",
       "    </tr>\n",
       "    <tr>\n",
       "      <td>True Fantasy</td>\n",
       "      <td>129</td>\n",
       "      <td>104</td>\n",
       "    </tr>\n",
       "  </tbody>\n",
       "</table>\n",
       "</div>"
      ],
      "text/plain": [
       "                  predicted non-Fantasy  predicted Fantasy\n",
       "True non-Fantasy                   3025                 56\n",
       "True Fantasy                        129                104"
      ]
     },
     "metadata": {},
     "output_type": "display_data"
    },
    {
     "name": "stdout",
     "output_type": "stream",
     "text": [
      "              precision    recall  f1-score   support\n",
      "\n",
      "           0       0.96      0.98      0.97      3081\n",
      "           1       0.65      0.45      0.53       233\n",
      "\n",
      "    accuracy                           0.94      3314\n",
      "   macro avg       0.80      0.71      0.75      3314\n",
      "weighted avg       0.94      0.94      0.94      3314\n",
      "\n",
      "The History class distribution\n"
     ]
    },
    {
     "data": {
      "text/plain": [
       "0    3126\n",
       "1     188\n",
       "Name: History, dtype: int64"
      ]
     },
     "metadata": {},
     "output_type": "display_data"
    },
    {
     "data": {
      "text/html": [
       "<div>\n",
       "<style scoped>\n",
       "    .dataframe tbody tr th:only-of-type {\n",
       "        vertical-align: middle;\n",
       "    }\n",
       "\n",
       "    .dataframe tbody tr th {\n",
       "        vertical-align: top;\n",
       "    }\n",
       "\n",
       "    .dataframe thead th {\n",
       "        text-align: right;\n",
       "    }\n",
       "</style>\n",
       "<table border=\"1\" class=\"dataframe\">\n",
       "  <thead>\n",
       "    <tr style=\"text-align: right;\">\n",
       "      <th></th>\n",
       "      <th>predicted non-History</th>\n",
       "      <th>predicted History</th>\n",
       "    </tr>\n",
       "  </thead>\n",
       "  <tbody>\n",
       "    <tr>\n",
       "      <td>True non-History</td>\n",
       "      <td>3086</td>\n",
       "      <td>40</td>\n",
       "    </tr>\n",
       "    <tr>\n",
       "      <td>True History</td>\n",
       "      <td>155</td>\n",
       "      <td>33</td>\n",
       "    </tr>\n",
       "  </tbody>\n",
       "</table>\n",
       "</div>"
      ],
      "text/plain": [
       "                  predicted non-History  predicted History\n",
       "True non-History                   3086                 40\n",
       "True History                        155                 33"
      ]
     },
     "metadata": {},
     "output_type": "display_data"
    },
    {
     "name": "stdout",
     "output_type": "stream",
     "text": [
      "              precision    recall  f1-score   support\n",
      "\n",
      "           0       0.95      0.99      0.97      3126\n",
      "           1       0.45      0.18      0.25       188\n",
      "\n",
      "    accuracy                           0.94      3314\n",
      "   macro avg       0.70      0.58      0.61      3314\n",
      "weighted avg       0.92      0.94      0.93      3314\n",
      "\n",
      "The Horror class distribution\n"
     ]
    },
    {
     "data": {
      "text/plain": [
       "0    3070\n",
       "1     244\n",
       "Name: Horror, dtype: int64"
      ]
     },
     "metadata": {},
     "output_type": "display_data"
    },
    {
     "data": {
      "text/html": [
       "<div>\n",
       "<style scoped>\n",
       "    .dataframe tbody tr th:only-of-type {\n",
       "        vertical-align: middle;\n",
       "    }\n",
       "\n",
       "    .dataframe tbody tr th {\n",
       "        vertical-align: top;\n",
       "    }\n",
       "\n",
       "    .dataframe thead th {\n",
       "        text-align: right;\n",
       "    }\n",
       "</style>\n",
       "<table border=\"1\" class=\"dataframe\">\n",
       "  <thead>\n",
       "    <tr style=\"text-align: right;\">\n",
       "      <th></th>\n",
       "      <th>predicted non-Horror</th>\n",
       "      <th>predicted Horror</th>\n",
       "    </tr>\n",
       "  </thead>\n",
       "  <tbody>\n",
       "    <tr>\n",
       "      <td>True non-Horror</td>\n",
       "      <td>3044</td>\n",
       "      <td>26</td>\n",
       "    </tr>\n",
       "    <tr>\n",
       "      <td>True Horror</td>\n",
       "      <td>114</td>\n",
       "      <td>130</td>\n",
       "    </tr>\n",
       "  </tbody>\n",
       "</table>\n",
       "</div>"
      ],
      "text/plain": [
       "                 predicted non-Horror  predicted Horror\n",
       "True non-Horror                  3044                26\n",
       "True Horror                       114               130"
      ]
     },
     "metadata": {},
     "output_type": "display_data"
    },
    {
     "name": "stdout",
     "output_type": "stream",
     "text": [
      "              precision    recall  f1-score   support\n",
      "\n",
      "           0       0.96      0.99      0.98      3070\n",
      "           1       0.83      0.53      0.65       244\n",
      "\n",
      "    accuracy                           0.96      3314\n",
      "   macro avg       0.90      0.76      0.81      3314\n",
      "weighted avg       0.95      0.96      0.95      3314\n",
      "\n",
      "The Music class distribution\n"
     ]
    },
    {
     "data": {
      "text/plain": [
       "0    3188\n",
       "1     126\n",
       "Name: Music, dtype: int64"
      ]
     },
     "metadata": {},
     "output_type": "display_data"
    },
    {
     "data": {
      "text/html": [
       "<div>\n",
       "<style scoped>\n",
       "    .dataframe tbody tr th:only-of-type {\n",
       "        vertical-align: middle;\n",
       "    }\n",
       "\n",
       "    .dataframe tbody tr th {\n",
       "        vertical-align: top;\n",
       "    }\n",
       "\n",
       "    .dataframe thead th {\n",
       "        text-align: right;\n",
       "    }\n",
       "</style>\n",
       "<table border=\"1\" class=\"dataframe\">\n",
       "  <thead>\n",
       "    <tr style=\"text-align: right;\">\n",
       "      <th></th>\n",
       "      <th>predicted non-Music</th>\n",
       "      <th>predicted Music</th>\n",
       "    </tr>\n",
       "  </thead>\n",
       "  <tbody>\n",
       "    <tr>\n",
       "      <td>True non-Music</td>\n",
       "      <td>3178</td>\n",
       "      <td>10</td>\n",
       "    </tr>\n",
       "    <tr>\n",
       "      <td>True Music</td>\n",
       "      <td>89</td>\n",
       "      <td>37</td>\n",
       "    </tr>\n",
       "  </tbody>\n",
       "</table>\n",
       "</div>"
      ],
      "text/plain": [
       "                predicted non-Music  predicted Music\n",
       "True non-Music                 3178               10\n",
       "True Music                       89               37"
      ]
     },
     "metadata": {},
     "output_type": "display_data"
    },
    {
     "name": "stdout",
     "output_type": "stream",
     "text": [
      "              precision    recall  f1-score   support\n",
      "\n",
      "           0       0.97      1.00      0.98      3188\n",
      "           1       0.79      0.29      0.43       126\n",
      "\n",
      "    accuracy                           0.97      3314\n",
      "   macro avg       0.88      0.65      0.71      3314\n",
      "weighted avg       0.97      0.97      0.96      3314\n",
      "\n",
      "The Musical class distribution\n"
     ]
    },
    {
     "data": {
      "text/plain": [
       "0    3216\n",
       "1      98\n",
       "Name: Musical, dtype: int64"
      ]
     },
     "metadata": {},
     "output_type": "display_data"
    },
    {
     "data": {
      "text/html": [
       "<div>\n",
       "<style scoped>\n",
       "    .dataframe tbody tr th:only-of-type {\n",
       "        vertical-align: middle;\n",
       "    }\n",
       "\n",
       "    .dataframe tbody tr th {\n",
       "        vertical-align: top;\n",
       "    }\n",
       "\n",
       "    .dataframe thead th {\n",
       "        text-align: right;\n",
       "    }\n",
       "</style>\n",
       "<table border=\"1\" class=\"dataframe\">\n",
       "  <thead>\n",
       "    <tr style=\"text-align: right;\">\n",
       "      <th></th>\n",
       "      <th>predicted non-Musical</th>\n",
       "      <th>predicted Musical</th>\n",
       "    </tr>\n",
       "  </thead>\n",
       "  <tbody>\n",
       "    <tr>\n",
       "      <td>True non-Musical</td>\n",
       "      <td>3210</td>\n",
       "      <td>6</td>\n",
       "    </tr>\n",
       "    <tr>\n",
       "      <td>True Musical</td>\n",
       "      <td>79</td>\n",
       "      <td>19</td>\n",
       "    </tr>\n",
       "  </tbody>\n",
       "</table>\n",
       "</div>"
      ],
      "text/plain": [
       "                  predicted non-Musical  predicted Musical\n",
       "True non-Musical                   3210                  6\n",
       "True Musical                         79                 19"
      ]
     },
     "metadata": {},
     "output_type": "display_data"
    },
    {
     "name": "stdout",
     "output_type": "stream",
     "text": [
      "              precision    recall  f1-score   support\n",
      "\n",
      "           0       0.98      1.00      0.99      3216\n",
      "           1       0.76      0.19      0.31        98\n",
      "\n",
      "    accuracy                           0.97      3314\n",
      "   macro avg       0.87      0.60      0.65      3314\n",
      "weighted avg       0.97      0.97      0.97      3314\n",
      "\n",
      "The Mystery class distribution\n"
     ]
    },
    {
     "data": {
      "text/plain": [
       "0    3056\n",
       "1     258\n",
       "Name: Mystery, dtype: int64"
      ]
     },
     "metadata": {},
     "output_type": "display_data"
    },
    {
     "data": {
      "text/html": [
       "<div>\n",
       "<style scoped>\n",
       "    .dataframe tbody tr th:only-of-type {\n",
       "        vertical-align: middle;\n",
       "    }\n",
       "\n",
       "    .dataframe tbody tr th {\n",
       "        vertical-align: top;\n",
       "    }\n",
       "\n",
       "    .dataframe thead th {\n",
       "        text-align: right;\n",
       "    }\n",
       "</style>\n",
       "<table border=\"1\" class=\"dataframe\">\n",
       "  <thead>\n",
       "    <tr style=\"text-align: right;\">\n",
       "      <th></th>\n",
       "      <th>predicted non-Mystery</th>\n",
       "      <th>predicted Mystery</th>\n",
       "    </tr>\n",
       "  </thead>\n",
       "  <tbody>\n",
       "    <tr>\n",
       "      <td>True non-Mystery</td>\n",
       "      <td>2983</td>\n",
       "      <td>73</td>\n",
       "    </tr>\n",
       "    <tr>\n",
       "      <td>True Mystery</td>\n",
       "      <td>155</td>\n",
       "      <td>103</td>\n",
       "    </tr>\n",
       "  </tbody>\n",
       "</table>\n",
       "</div>"
      ],
      "text/plain": [
       "                  predicted non-Mystery  predicted Mystery\n",
       "True non-Mystery                   2983                 73\n",
       "True Mystery                        155                103"
      ]
     },
     "metadata": {},
     "output_type": "display_data"
    },
    {
     "name": "stdout",
     "output_type": "stream",
     "text": [
      "              precision    recall  f1-score   support\n",
      "\n",
      "           0       0.95      0.98      0.96      3056\n",
      "           1       0.59      0.40      0.47       258\n",
      "\n",
      "    accuracy                           0.93      3314\n",
      "   macro avg       0.77      0.69      0.72      3314\n",
      "weighted avg       0.92      0.93      0.93      3314\n",
      "\n",
      "The Romance class distribution\n"
     ]
    },
    {
     "data": {
      "text/plain": [
       "0    2753\n",
       "1     561\n",
       "Name: Romance, dtype: int64"
      ]
     },
     "metadata": {},
     "output_type": "display_data"
    },
    {
     "data": {
      "text/html": [
       "<div>\n",
       "<style scoped>\n",
       "    .dataframe tbody tr th:only-of-type {\n",
       "        vertical-align: middle;\n",
       "    }\n",
       "\n",
       "    .dataframe tbody tr th {\n",
       "        vertical-align: top;\n",
       "    }\n",
       "\n",
       "    .dataframe thead th {\n",
       "        text-align: right;\n",
       "    }\n",
       "</style>\n",
       "<table border=\"1\" class=\"dataframe\">\n",
       "  <thead>\n",
       "    <tr style=\"text-align: right;\">\n",
       "      <th></th>\n",
       "      <th>predicted non-Romance</th>\n",
       "      <th>predicted Romance</th>\n",
       "    </tr>\n",
       "  </thead>\n",
       "  <tbody>\n",
       "    <tr>\n",
       "      <td>True non-Romance</td>\n",
       "      <td>2570</td>\n",
       "      <td>183</td>\n",
       "    </tr>\n",
       "    <tr>\n",
       "      <td>True Romance</td>\n",
       "      <td>315</td>\n",
       "      <td>246</td>\n",
       "    </tr>\n",
       "  </tbody>\n",
       "</table>\n",
       "</div>"
      ],
      "text/plain": [
       "                  predicted non-Romance  predicted Romance\n",
       "True non-Romance                   2570                183\n",
       "True Romance                        315                246"
      ]
     },
     "metadata": {},
     "output_type": "display_data"
    },
    {
     "name": "stdout",
     "output_type": "stream",
     "text": [
      "              precision    recall  f1-score   support\n",
      "\n",
      "           0       0.89      0.93      0.91      2753\n",
      "           1       0.57      0.44      0.50       561\n",
      "\n",
      "    accuracy                           0.85      3314\n",
      "   macro avg       0.73      0.69      0.70      3314\n",
      "weighted avg       0.84      0.85      0.84      3314\n",
      "\n",
      "The SciFi class distribution\n"
     ]
    },
    {
     "data": {
      "text/plain": [
       "0    3111\n",
       "1     203\n",
       "Name: SciFi, dtype: int64"
      ]
     },
     "metadata": {},
     "output_type": "display_data"
    },
    {
     "data": {
      "text/html": [
       "<div>\n",
       "<style scoped>\n",
       "    .dataframe tbody tr th:only-of-type {\n",
       "        vertical-align: middle;\n",
       "    }\n",
       "\n",
       "    .dataframe tbody tr th {\n",
       "        vertical-align: top;\n",
       "    }\n",
       "\n",
       "    .dataframe thead th {\n",
       "        text-align: right;\n",
       "    }\n",
       "</style>\n",
       "<table border=\"1\" class=\"dataframe\">\n",
       "  <thead>\n",
       "    <tr style=\"text-align: right;\">\n",
       "      <th></th>\n",
       "      <th>predicted non-SciFi</th>\n",
       "      <th>predicted SciFi</th>\n",
       "    </tr>\n",
       "  </thead>\n",
       "  <tbody>\n",
       "    <tr>\n",
       "      <td>True non-SciFi</td>\n",
       "      <td>3089</td>\n",
       "      <td>22</td>\n",
       "    </tr>\n",
       "    <tr>\n",
       "      <td>True SciFi</td>\n",
       "      <td>101</td>\n",
       "      <td>102</td>\n",
       "    </tr>\n",
       "  </tbody>\n",
       "</table>\n",
       "</div>"
      ],
      "text/plain": [
       "                predicted non-SciFi  predicted SciFi\n",
       "True non-SciFi                 3089               22\n",
       "True SciFi                      101              102"
      ]
     },
     "metadata": {},
     "output_type": "display_data"
    },
    {
     "name": "stdout",
     "output_type": "stream",
     "text": [
      "              precision    recall  f1-score   support\n",
      "\n",
      "           0       0.97      0.99      0.98      3111\n",
      "           1       0.82      0.50      0.62       203\n",
      "\n",
      "    accuracy                           0.96      3314\n",
      "   macro avg       0.90      0.75      0.80      3314\n",
      "weighted avg       0.96      0.96      0.96      3314\n",
      "\n",
      "The Sport class distribution\n"
     ]
    },
    {
     "data": {
      "text/plain": [
       "0    3211\n",
       "1     103\n",
       "Name: Sport, dtype: int64"
      ]
     },
     "metadata": {},
     "output_type": "display_data"
    },
    {
     "data": {
      "text/html": [
       "<div>\n",
       "<style scoped>\n",
       "    .dataframe tbody tr th:only-of-type {\n",
       "        vertical-align: middle;\n",
       "    }\n",
       "\n",
       "    .dataframe tbody tr th {\n",
       "        vertical-align: top;\n",
       "    }\n",
       "\n",
       "    .dataframe thead th {\n",
       "        text-align: right;\n",
       "    }\n",
       "</style>\n",
       "<table border=\"1\" class=\"dataframe\">\n",
       "  <thead>\n",
       "    <tr style=\"text-align: right;\">\n",
       "      <th></th>\n",
       "      <th>predicted non-Sport</th>\n",
       "      <th>predicted Sport</th>\n",
       "    </tr>\n",
       "  </thead>\n",
       "  <tbody>\n",
       "    <tr>\n",
       "      <td>True non-Sport</td>\n",
       "      <td>3201</td>\n",
       "      <td>10</td>\n",
       "    </tr>\n",
       "    <tr>\n",
       "      <td>True Sport</td>\n",
       "      <td>64</td>\n",
       "      <td>39</td>\n",
       "    </tr>\n",
       "  </tbody>\n",
       "</table>\n",
       "</div>"
      ],
      "text/plain": [
       "                predicted non-Sport  predicted Sport\n",
       "True non-Sport                 3201               10\n",
       "True Sport                       64               39"
      ]
     },
     "metadata": {},
     "output_type": "display_data"
    },
    {
     "name": "stdout",
     "output_type": "stream",
     "text": [
      "              precision    recall  f1-score   support\n",
      "\n",
      "           0       0.98      1.00      0.99      3211\n",
      "           1       0.80      0.38      0.51       103\n",
      "\n",
      "    accuracy                           0.98      3314\n",
      "   macro avg       0.89      0.69      0.75      3314\n",
      "weighted avg       0.97      0.98      0.97      3314\n",
      "\n",
      "The Thriller class distribution\n"
     ]
    },
    {
     "data": {
      "text/plain": [
       "0    2636\n",
       "1     678\n",
       "Name: Thriller, dtype: int64"
      ]
     },
     "metadata": {},
     "output_type": "display_data"
    },
    {
     "data": {
      "text/html": [
       "<div>\n",
       "<style scoped>\n",
       "    .dataframe tbody tr th:only-of-type {\n",
       "        vertical-align: middle;\n",
       "    }\n",
       "\n",
       "    .dataframe tbody tr th {\n",
       "        vertical-align: top;\n",
       "    }\n",
       "\n",
       "    .dataframe thead th {\n",
       "        text-align: right;\n",
       "    }\n",
       "</style>\n",
       "<table border=\"1\" class=\"dataframe\">\n",
       "  <thead>\n",
       "    <tr style=\"text-align: right;\">\n",
       "      <th></th>\n",
       "      <th>predicted non-Thriller</th>\n",
       "      <th>predicted Thriller</th>\n",
       "    </tr>\n",
       "  </thead>\n",
       "  <tbody>\n",
       "    <tr>\n",
       "      <td>True non-Thriller</td>\n",
       "      <td>2473</td>\n",
       "      <td>163</td>\n",
       "    </tr>\n",
       "    <tr>\n",
       "      <td>True Thriller</td>\n",
       "      <td>303</td>\n",
       "      <td>375</td>\n",
       "    </tr>\n",
       "  </tbody>\n",
       "</table>\n",
       "</div>"
      ],
      "text/plain": [
       "                   predicted non-Thriller  predicted Thriller\n",
       "True non-Thriller                    2473                 163\n",
       "True Thriller                         303                 375"
      ]
     },
     "metadata": {},
     "output_type": "display_data"
    },
    {
     "name": "stdout",
     "output_type": "stream",
     "text": [
      "              precision    recall  f1-score   support\n",
      "\n",
      "           0       0.89      0.94      0.91      2636\n",
      "           1       0.70      0.55      0.62       678\n",
      "\n",
      "    accuracy                           0.86      3314\n",
      "   macro avg       0.79      0.75      0.77      3314\n",
      "weighted avg       0.85      0.86      0.85      3314\n",
      "\n",
      "The War class distribution\n"
     ]
    },
    {
     "data": {
      "text/plain": [
       "0    3158\n",
       "1     156\n",
       "Name: War, dtype: int64"
      ]
     },
     "metadata": {},
     "output_type": "display_data"
    },
    {
     "data": {
      "text/html": [
       "<div>\n",
       "<style scoped>\n",
       "    .dataframe tbody tr th:only-of-type {\n",
       "        vertical-align: middle;\n",
       "    }\n",
       "\n",
       "    .dataframe tbody tr th {\n",
       "        vertical-align: top;\n",
       "    }\n",
       "\n",
       "    .dataframe thead th {\n",
       "        text-align: right;\n",
       "    }\n",
       "</style>\n",
       "<table border=\"1\" class=\"dataframe\">\n",
       "  <thead>\n",
       "    <tr style=\"text-align: right;\">\n",
       "      <th></th>\n",
       "      <th>predicted non-War</th>\n",
       "      <th>predicted War</th>\n",
       "    </tr>\n",
       "  </thead>\n",
       "  <tbody>\n",
       "    <tr>\n",
       "      <td>True non-War</td>\n",
       "      <td>3140</td>\n",
       "      <td>18</td>\n",
       "    </tr>\n",
       "    <tr>\n",
       "      <td>True War</td>\n",
       "      <td>94</td>\n",
       "      <td>62</td>\n",
       "    </tr>\n",
       "  </tbody>\n",
       "</table>\n",
       "</div>"
      ],
      "text/plain": [
       "              predicted non-War  predicted War\n",
       "True non-War               3140             18\n",
       "True War                     94             62"
      ]
     },
     "metadata": {},
     "output_type": "display_data"
    },
    {
     "name": "stdout",
     "output_type": "stream",
     "text": [
      "              precision    recall  f1-score   support\n",
      "\n",
      "           0       0.97      0.99      0.98      3158\n",
      "           1       0.78      0.40      0.53       156\n",
      "\n",
      "    accuracy                           0.97      3314\n",
      "   macro avg       0.87      0.70      0.75      3314\n",
      "weighted avg       0.96      0.97      0.96      3314\n",
      "\n"
     ]
    }
   ],
   "source": [
    "from sklearn.metrics import confusion_matrix, classification_report\n",
    "for i in all_genres:\n",
    "    print(f'The {i} class distribution')\n",
    "    display(y_test[i].value_counts())\n",
    "    display(pd.DataFrame(\n",
    "    data = confusion_matrix(y_test[i], pred_df[i]),\n",
    "    columns = [f'predicted non-{i}', f'predicted {i}'],\n",
    "    index = [f'True non-{i}', f'True {i}']))\n",
    "    # classification report\n",
    "    print(classification_report(y_test[i], pred_df[i]))"
   ]
  },
  {
   "cell_type": "code",
   "execution_count": 17,
   "metadata": {},
   "outputs": [
    {
     "name": "stdout",
     "output_type": "stream",
     "text": [
      "              precision    recall  f1-score   support\n",
      "\n",
      "           0       0.72      0.55      0.62       491\n",
      "           1       0.75      0.51      0.60       356\n",
      "           2       0.60      0.39      0.47       127\n",
      "           3       0.40      0.18      0.25       216\n",
      "           4       0.70      0.54      0.61       872\n",
      "           5       0.70      0.54      0.61       468\n",
      "           6       0.88      0.70      0.78       485\n",
      "           7       0.74      0.79      0.76      1889\n",
      "           8       0.71      0.37      0.49       222\n",
      "           9       0.65      0.45      0.53       233\n",
      "          10       0.45      0.18      0.25       188\n",
      "          11       0.83      0.53      0.65       244\n",
      "          12       0.79      0.29      0.43       126\n",
      "          13       0.76      0.19      0.31        98\n",
      "          14       0.59      0.40      0.47       258\n",
      "          15       0.57      0.44      0.50       561\n",
      "          16       0.82      0.50      0.62       203\n",
      "          17       0.80      0.38      0.51       103\n",
      "          18       0.70      0.55      0.62       678\n",
      "          19       0.78      0.40      0.53       156\n",
      "\n",
      "   micro avg       0.71      0.56      0.62      7974\n",
      "   macro avg       0.70      0.44      0.53      7974\n",
      "weighted avg       0.71      0.56      0.61      7974\n",
      " samples avg       0.68      0.59      0.59      7974\n",
      "\n"
     ]
    }
   ],
   "source": [
    "from sklearn.metrics import classification_report   \n",
    "print(classification_report(y_test, pred))"
   ]
  },
  {
   "cell_type": "markdown",
   "metadata": {},
   "source": [
    "The precision is good overall. The recall is somehow fluctuating from one genre to another. This means that the model is performing well for some genres but not learning enough to perform well for some others. For instance, we can clearly see that the model is struggling with recognizing Biography and History. It is however doing very well for Drama and Documentary. "
   ]
  },
  {
   "cell_type": "markdown",
   "metadata": {},
   "source": [
    "Now let's check the the most important words that best describe a genre. "
   ]
  },
  {
   "cell_type": "code",
   "execution_count": null,
   "metadata": {},
   "outputs": [],
   "source": [
    "import joblib\n",
    "bagofwords = joblib.load(\"bagofwords.pkl\")"
   ]
  },
  {
   "cell_type": "code",
   "execution_count": 19,
   "metadata": {},
   "outputs": [
    {
     "data": {
      "text/plain": [
       "array([[-1.62760389e-02,  5.02423771e-03, -3.51901202e-03, ...,\n",
       "         4.55174310e-02,  1.15471726e-03, -2.27425033e-02],\n",
       "       [-5.86546000e-04, -1.72234766e-03,  1.85736055e-02, ...,\n",
       "         9.14902643e-03, -8.48614224e-03, -1.08020811e-02],\n",
       "       [-1.28354150e-03, -1.14482585e-02,  3.17970661e-02, ...,\n",
       "         7.03218370e-05,  2.03280563e-02,  1.26461238e-02],\n",
       "       ...,\n",
       "       [ 2.30746962e-03, -1.44495912e-03, -3.45264507e-02, ...,\n",
       "        -7.67121838e-03, -4.70031029e-03, -1.66377396e-03],\n",
       "       [ 2.91843438e-02, -1.13116275e-02, -4.66271985e-02, ...,\n",
       "         1.38410215e-02, -2.95004981e-02,  2.57497326e-02],\n",
       "       [-4.65407466e-03, -1.39793307e-03,  4.57864511e-03, ...,\n",
       "        -1.14791957e-02, -5.12210188e-03,  1.31285922e-02]])"
      ]
     },
     "execution_count": 19,
     "metadata": {},
     "output_type": "execute_result"
    }
   ],
   "source": [
    "# extract the coefficients of the logistic regression\n",
    "my_model.coef_"
   ]
  },
  {
   "cell_type": "code",
   "execution_count": 19,
   "metadata": {},
   "outputs": [
    {
     "data": {
      "text/html": [
       "<div>\n",
       "<style scoped>\n",
       "    .dataframe tbody tr th:only-of-type {\n",
       "        vertical-align: middle;\n",
       "    }\n",
       "\n",
       "    .dataframe tbody tr th {\n",
       "        vertical-align: top;\n",
       "    }\n",
       "\n",
       "    .dataframe thead th {\n",
       "        text-align: right;\n",
       "    }\n",
       "</style>\n",
       "<table border=\"1\" class=\"dataframe\">\n",
       "  <thead>\n",
       "    <tr style=\"text-align: right;\">\n",
       "      <th></th>\n",
       "      <th>Action</th>\n",
       "      <th>Adventure</th>\n",
       "      <th>Animation</th>\n",
       "      <th>Biography</th>\n",
       "      <th>Comedy</th>\n",
       "      <th>Crime</th>\n",
       "      <th>Documentary</th>\n",
       "      <th>Drama</th>\n",
       "      <th>Family</th>\n",
       "      <th>Fantasy</th>\n",
       "      <th>History</th>\n",
       "      <th>Horror</th>\n",
       "      <th>Music</th>\n",
       "      <th>Musical</th>\n",
       "      <th>Mystery</th>\n",
       "      <th>Romance</th>\n",
       "      <th>SciFi</th>\n",
       "      <th>Sport</th>\n",
       "      <th>Thriller</th>\n",
       "      <th>War</th>\n",
       "    </tr>\n",
       "  </thead>\n",
       "  <tbody>\n",
       "    <tr>\n",
       "      <td>aaron</td>\n",
       "      <td>-0.016276</td>\n",
       "      <td>-0.000587</td>\n",
       "      <td>-0.001284</td>\n",
       "      <td>-0.018957</td>\n",
       "      <td>0.042288</td>\n",
       "      <td>-0.009959</td>\n",
       "      <td>-0.001106</td>\n",
       "      <td>-0.022913</td>\n",
       "      <td>-0.011855</td>\n",
       "      <td>0.027230</td>\n",
       "      <td>0.045599</td>\n",
       "      <td>0.009375</td>\n",
       "      <td>0.010385</td>\n",
       "      <td>-0.005343</td>\n",
       "      <td>0.021116</td>\n",
       "      <td>0.033989</td>\n",
       "      <td>0.001214</td>\n",
       "      <td>0.002307</td>\n",
       "      <td>0.029184</td>\n",
       "      <td>-0.004654</td>\n",
       "    </tr>\n",
       "    <tr>\n",
       "      <td>aback</td>\n",
       "      <td>0.005024</td>\n",
       "      <td>-0.001722</td>\n",
       "      <td>-0.011448</td>\n",
       "      <td>0.002097</td>\n",
       "      <td>0.051263</td>\n",
       "      <td>-0.002787</td>\n",
       "      <td>-0.004199</td>\n",
       "      <td>-0.025941</td>\n",
       "      <td>-0.007793</td>\n",
       "      <td>0.006090</td>\n",
       "      <td>0.012114</td>\n",
       "      <td>0.022049</td>\n",
       "      <td>-0.013743</td>\n",
       "      <td>-0.014141</td>\n",
       "      <td>-0.035393</td>\n",
       "      <td>0.023901</td>\n",
       "      <td>-0.010271</td>\n",
       "      <td>-0.001445</td>\n",
       "      <td>-0.011312</td>\n",
       "      <td>-0.001398</td>\n",
       "    </tr>\n",
       "    <tr>\n",
       "      <td>abandon</td>\n",
       "      <td>-0.003519</td>\n",
       "      <td>0.018574</td>\n",
       "      <td>0.031797</td>\n",
       "      <td>-0.015354</td>\n",
       "      <td>-0.027915</td>\n",
       "      <td>0.041966</td>\n",
       "      <td>-0.055740</td>\n",
       "      <td>0.058477</td>\n",
       "      <td>0.024003</td>\n",
       "      <td>0.015432</td>\n",
       "      <td>-0.003032</td>\n",
       "      <td>0.041053</td>\n",
       "      <td>0.006237</td>\n",
       "      <td>-0.007267</td>\n",
       "      <td>-0.003292</td>\n",
       "      <td>-0.049636</td>\n",
       "      <td>0.033822</td>\n",
       "      <td>-0.034526</td>\n",
       "      <td>-0.046627</td>\n",
       "      <td>0.004579</td>\n",
       "    </tr>\n",
       "    <tr>\n",
       "      <td>abbi</td>\n",
       "      <td>-0.006262</td>\n",
       "      <td>-0.015821</td>\n",
       "      <td>-0.002888</td>\n",
       "      <td>-0.005906</td>\n",
       "      <td>-0.016215</td>\n",
       "      <td>-0.007530</td>\n",
       "      <td>0.022495</td>\n",
       "      <td>0.059005</td>\n",
       "      <td>0.000695</td>\n",
       "      <td>0.009443</td>\n",
       "      <td>-0.003366</td>\n",
       "      <td>-0.020850</td>\n",
       "      <td>-0.005848</td>\n",
       "      <td>-0.003195</td>\n",
       "      <td>0.000539</td>\n",
       "      <td>0.015131</td>\n",
       "      <td>-0.011875</td>\n",
       "      <td>0.000339</td>\n",
       "      <td>0.028900</td>\n",
       "      <td>0.012900</td>\n",
       "    </tr>\n",
       "    <tr>\n",
       "      <td>abdomen</td>\n",
       "      <td>0.020710</td>\n",
       "      <td>-0.011007</td>\n",
       "      <td>-0.005406</td>\n",
       "      <td>-0.023784</td>\n",
       "      <td>-0.018094</td>\n",
       "      <td>0.062199</td>\n",
       "      <td>-0.003859</td>\n",
       "      <td>0.093875</td>\n",
       "      <td>-0.008187</td>\n",
       "      <td>-0.008692</td>\n",
       "      <td>0.026942</td>\n",
       "      <td>-0.022001</td>\n",
       "      <td>-0.004246</td>\n",
       "      <td>0.002400</td>\n",
       "      <td>0.052452</td>\n",
       "      <td>0.007211</td>\n",
       "      <td>0.017084</td>\n",
       "      <td>-0.002544</td>\n",
       "      <td>0.014924</td>\n",
       "      <td>-0.010987</td>\n",
       "    </tr>\n",
       "    <tr>\n",
       "      <td>...</td>\n",
       "      <td>...</td>\n",
       "      <td>...</td>\n",
       "      <td>...</td>\n",
       "      <td>...</td>\n",
       "      <td>...</td>\n",
       "      <td>...</td>\n",
       "      <td>...</td>\n",
       "      <td>...</td>\n",
       "      <td>...</td>\n",
       "      <td>...</td>\n",
       "      <td>...</td>\n",
       "      <td>...</td>\n",
       "      <td>...</td>\n",
       "      <td>...</td>\n",
       "      <td>...</td>\n",
       "      <td>...</td>\n",
       "      <td>...</td>\n",
       "      <td>...</td>\n",
       "      <td>...</td>\n",
       "      <td>...</td>\n",
       "    </tr>\n",
       "    <tr>\n",
       "      <td>zoe</td>\n",
       "      <td>0.004298</td>\n",
       "      <td>0.003394</td>\n",
       "      <td>-0.016035</td>\n",
       "      <td>-0.020899</td>\n",
       "      <td>-0.032778</td>\n",
       "      <td>-0.024716</td>\n",
       "      <td>-0.005469</td>\n",
       "      <td>0.048117</td>\n",
       "      <td>-0.013010</td>\n",
       "      <td>-0.006220</td>\n",
       "      <td>-0.014000</td>\n",
       "      <td>-0.021581</td>\n",
       "      <td>-0.006985</td>\n",
       "      <td>-0.003773</td>\n",
       "      <td>-0.006103</td>\n",
       "      <td>0.034582</td>\n",
       "      <td>0.039095</td>\n",
       "      <td>-0.005851</td>\n",
       "      <td>0.032339</td>\n",
       "      <td>-0.005642</td>\n",
       "    </tr>\n",
       "    <tr>\n",
       "      <td>zombi</td>\n",
       "      <td>-0.028847</td>\n",
       "      <td>-0.003606</td>\n",
       "      <td>0.002182</td>\n",
       "      <td>-0.006395</td>\n",
       "      <td>0.091759</td>\n",
       "      <td>-0.026325</td>\n",
       "      <td>-0.007996</td>\n",
       "      <td>-0.078352</td>\n",
       "      <td>0.003805</td>\n",
       "      <td>0.002529</td>\n",
       "      <td>-0.011929</td>\n",
       "      <td>0.093367</td>\n",
       "      <td>-0.016224</td>\n",
       "      <td>0.008805</td>\n",
       "      <td>-0.019825</td>\n",
       "      <td>-0.018085</td>\n",
       "      <td>0.034208</td>\n",
       "      <td>-0.002969</td>\n",
       "      <td>-0.050239</td>\n",
       "      <td>-0.011671</td>\n",
       "    </tr>\n",
       "    <tr>\n",
       "      <td>zone</td>\n",
       "      <td>0.045517</td>\n",
       "      <td>0.009149</td>\n",
       "      <td>0.000070</td>\n",
       "      <td>0.016294</td>\n",
       "      <td>-0.047829</td>\n",
       "      <td>-0.023596</td>\n",
       "      <td>0.052694</td>\n",
       "      <td>-0.035831</td>\n",
       "      <td>-0.009488</td>\n",
       "      <td>-0.000593</td>\n",
       "      <td>-0.013769</td>\n",
       "      <td>-0.013039</td>\n",
       "      <td>-0.003626</td>\n",
       "      <td>-0.010394</td>\n",
       "      <td>0.008379</td>\n",
       "      <td>-0.030443</td>\n",
       "      <td>0.075600</td>\n",
       "      <td>-0.007671</td>\n",
       "      <td>0.013841</td>\n",
       "      <td>-0.011479</td>\n",
       "    </tr>\n",
       "    <tr>\n",
       "      <td>zoo</td>\n",
       "      <td>0.001155</td>\n",
       "      <td>-0.008486</td>\n",
       "      <td>0.020328</td>\n",
       "      <td>-0.015066</td>\n",
       "      <td>0.007778</td>\n",
       "      <td>-0.016481</td>\n",
       "      <td>-0.004903</td>\n",
       "      <td>-0.012867</td>\n",
       "      <td>0.047342</td>\n",
       "      <td>-0.028225</td>\n",
       "      <td>-0.011130</td>\n",
       "      <td>0.001260</td>\n",
       "      <td>-0.010314</td>\n",
       "      <td>0.004974</td>\n",
       "      <td>-0.014361</td>\n",
       "      <td>0.008082</td>\n",
       "      <td>0.004228</td>\n",
       "      <td>-0.004700</td>\n",
       "      <td>-0.029500</td>\n",
       "      <td>-0.005122</td>\n",
       "    </tr>\n",
       "    <tr>\n",
       "      <td>zoom</td>\n",
       "      <td>-0.022743</td>\n",
       "      <td>-0.010802</td>\n",
       "      <td>0.012646</td>\n",
       "      <td>-0.000473</td>\n",
       "      <td>0.000423</td>\n",
       "      <td>0.048381</td>\n",
       "      <td>-0.009405</td>\n",
       "      <td>0.007739</td>\n",
       "      <td>-0.026432</td>\n",
       "      <td>-0.004765</td>\n",
       "      <td>0.024032</td>\n",
       "      <td>0.010285</td>\n",
       "      <td>0.003701</td>\n",
       "      <td>-0.003528</td>\n",
       "      <td>0.024000</td>\n",
       "      <td>-0.007114</td>\n",
       "      <td>-0.003696</td>\n",
       "      <td>-0.001664</td>\n",
       "      <td>0.025750</td>\n",
       "      <td>0.013129</td>\n",
       "    </tr>\n",
       "  </tbody>\n",
       "</table>\n",
       "<p>7160 rows × 20 columns</p>\n",
       "</div>"
      ],
      "text/plain": [
       "           Action  Adventure  Animation  Biography    Comedy     Crime  \\\n",
       "aaron   -0.016276  -0.000587  -0.001284  -0.018957  0.042288 -0.009959   \n",
       "aback    0.005024  -0.001722  -0.011448   0.002097  0.051263 -0.002787   \n",
       "abandon -0.003519   0.018574   0.031797  -0.015354 -0.027915  0.041966   \n",
       "abbi    -0.006262  -0.015821  -0.002888  -0.005906 -0.016215 -0.007530   \n",
       "abdomen  0.020710  -0.011007  -0.005406  -0.023784 -0.018094  0.062199   \n",
       "...           ...        ...        ...        ...       ...       ...   \n",
       "zoe      0.004298   0.003394  -0.016035  -0.020899 -0.032778 -0.024716   \n",
       "zombi   -0.028847  -0.003606   0.002182  -0.006395  0.091759 -0.026325   \n",
       "zone     0.045517   0.009149   0.000070   0.016294 -0.047829 -0.023596   \n",
       "zoo      0.001155  -0.008486   0.020328  -0.015066  0.007778 -0.016481   \n",
       "zoom    -0.022743  -0.010802   0.012646  -0.000473  0.000423  0.048381   \n",
       "\n",
       "         Documentary     Drama    Family   Fantasy   History    Horror  \\\n",
       "aaron      -0.001106 -0.022913 -0.011855  0.027230  0.045599  0.009375   \n",
       "aback      -0.004199 -0.025941 -0.007793  0.006090  0.012114  0.022049   \n",
       "abandon    -0.055740  0.058477  0.024003  0.015432 -0.003032  0.041053   \n",
       "abbi        0.022495  0.059005  0.000695  0.009443 -0.003366 -0.020850   \n",
       "abdomen    -0.003859  0.093875 -0.008187 -0.008692  0.026942 -0.022001   \n",
       "...              ...       ...       ...       ...       ...       ...   \n",
       "zoe        -0.005469  0.048117 -0.013010 -0.006220 -0.014000 -0.021581   \n",
       "zombi      -0.007996 -0.078352  0.003805  0.002529 -0.011929  0.093367   \n",
       "zone        0.052694 -0.035831 -0.009488 -0.000593 -0.013769 -0.013039   \n",
       "zoo        -0.004903 -0.012867  0.047342 -0.028225 -0.011130  0.001260   \n",
       "zoom       -0.009405  0.007739 -0.026432 -0.004765  0.024032  0.010285   \n",
       "\n",
       "            Music   Musical   Mystery   Romance     SciFi     Sport  Thriller  \\\n",
       "aaron    0.010385 -0.005343  0.021116  0.033989  0.001214  0.002307  0.029184   \n",
       "aback   -0.013743 -0.014141 -0.035393  0.023901 -0.010271 -0.001445 -0.011312   \n",
       "abandon  0.006237 -0.007267 -0.003292 -0.049636  0.033822 -0.034526 -0.046627   \n",
       "abbi    -0.005848 -0.003195  0.000539  0.015131 -0.011875  0.000339  0.028900   \n",
       "abdomen -0.004246  0.002400  0.052452  0.007211  0.017084 -0.002544  0.014924   \n",
       "...           ...       ...       ...       ...       ...       ...       ...   \n",
       "zoe     -0.006985 -0.003773 -0.006103  0.034582  0.039095 -0.005851  0.032339   \n",
       "zombi   -0.016224  0.008805 -0.019825 -0.018085  0.034208 -0.002969 -0.050239   \n",
       "zone    -0.003626 -0.010394  0.008379 -0.030443  0.075600 -0.007671  0.013841   \n",
       "zoo     -0.010314  0.004974 -0.014361  0.008082  0.004228 -0.004700 -0.029500   \n",
       "zoom     0.003701 -0.003528  0.024000 -0.007114 -0.003696 -0.001664  0.025750   \n",
       "\n",
       "              War  \n",
       "aaron   -0.004654  \n",
       "aback   -0.001398  \n",
       "abandon  0.004579  \n",
       "abbi     0.012900  \n",
       "abdomen -0.010987  \n",
       "...           ...  \n",
       "zoe     -0.005642  \n",
       "zombi   -0.011671  \n",
       "zone    -0.011479  \n",
       "zoo     -0.005122  \n",
       "zoom     0.013129  \n",
       "\n",
       "[7160 rows x 20 columns]"
      ]
     },
     "execution_count": 19,
     "metadata": {},
     "output_type": "execute_result"
    }
   ],
   "source": [
    "# build a dataframe made from the logistric regression coefficients.\n",
    "coef_df = pd.DataFrame(my_model.coef_.T, columns=all_genres, index=bagofwords.get_feature_names())\n",
    "coef_df"
   ]
  },
  {
   "cell_type": "code",
   "execution_count": 20,
   "metadata": {},
   "outputs": [],
   "source": [
    "coef_df.to_csv(r'coef_df.csv', index = True)"
   ]
  },
  {
   "cell_type": "code",
   "execution_count": 21,
   "metadata": {},
   "outputs": [
    {
     "name": "stdout",
     "output_type": "stream",
     "text": [
      "The most impactful words for the genre Action are\n",
      "fight     0.236895\n",
      "kill      0.193454\n",
      "action    0.165466\n",
      "reveng    0.163947\n",
      "battl     0.159203\n",
      "Name: Action, dtype: float64\n",
      "The most impactful words for the genre Adventure are\n",
      "adventur    0.227969\n",
      "rescu       0.145924\n",
      "contend     0.135655\n",
      "travel      0.130092\n",
      "wwii        0.127367\n",
      "Name: Adventure, dtype: float64\n",
      "The most impactful words for the genre Animation are\n",
      "anim          0.223323\n",
      "foul          0.130205\n",
      "foil          0.122421\n",
      "troublemak    0.111594\n",
      "egg           0.108567\n",
      "Name: Animation, dtype: float64\n",
      "The most impactful words for the genre Biography are\n",
      "memoir         0.134822\n",
      "inspir         0.133913\n",
      "meaningless    0.127551\n",
      "artist         0.124716\n",
      "portrait       0.112859\n",
      "Name: Biography, dtype: float64\n",
      "The most impactful words for the genre Comedy are\n",
      "comedi     0.424886\n",
      "eccentr    0.174153\n",
      "satir      0.169184\n",
      "comic      0.167879\n",
      "wed        0.156333\n",
      "Name: Comedy, dtype: float64\n",
      "The most impactful words for the genre Crime are\n",
      "crime       0.302137\n",
      "murder      0.214235\n",
      "polic       0.201925\n",
      "undercov    0.190162\n",
      "heist       0.177223\n",
      "Name: Crime, dtype: float64\n",
      "The most impactful words for the genre Documentary are\n",
      "documentari    0.696152\n",
      "document       0.248179\n",
      "footag         0.214652\n",
      "portrait       0.186334\n",
      "artist         0.181850\n",
      "Name: Documentary, dtype: float64\n",
      "The most impactful words for the genre Drama are\n",
      "life      0.211503\n",
      "son       0.199333\n",
      "young     0.193688\n",
      "overdo    0.175214\n",
      "wife      0.165323\n",
      "Name: Drama, dtype: float64\n",
      "The most impactful words for the genre Family are\n",
      "anim          0.133752\n",
      "adventur      0.129565\n",
      "scari         0.122690\n",
      "enthusiasm    0.122126\n",
      "famili        0.121589\n",
      "Name: Family, dtype: float64\n",
      "The most impactful words for the genre Fantasy are\n",
      "magic     0.181488\n",
      "ghost     0.152803\n",
      "immort    0.150536\n",
      "world     0.135807\n",
      "fairi     0.132835\n",
      "Name: Fantasy, dtype: float64\n",
      "The most impactful words for the genre History are\n",
      "histor     0.152955\n",
      "histori    0.141684\n",
      "epic       0.139061\n",
      "minist     0.130304\n",
      "centuri    0.129121\n",
      "Name: History, dtype: float64\n",
      "The most impactful words for the genre Horror are\n",
      "horror        0.238429\n",
      "supernatur    0.190602\n",
      "haunt         0.171158\n",
      "bjkuehl       0.153805\n",
      "horrif        0.151812\n",
      "Name: Horror, dtype: float64\n",
      "The most impactful words for the genre Music are\n",
      "music       0.308036\n",
      "band        0.214855\n",
      "singer      0.191741\n",
      "musician    0.179378\n",
      "rock        0.155751\n",
      "Name: Music, dtype: float64\n",
      "The most impactful words for the genre Musical are\n",
      "music      0.156580\n",
      "glamor     0.134659\n",
      "love       0.128586\n",
      "sing       0.126952\n",
      "rubbish    0.121910\n",
      "Name: Musical, dtype: float64\n",
      "The most impactful words for the genre Mystery are\n",
      "mysteri      0.242181\n",
      "murder       0.232796\n",
      "investig     0.176507\n",
      "disappear    0.148632\n",
      "detect       0.128097\n",
      "Name: Mystery, dtype: float64\n",
      "The most impactful words for the genre Romance are\n",
      "love        0.569337\n",
      "fall        0.265492\n",
      "romanc      0.224966\n",
      "romant      0.217315\n",
      "homosexu    0.178980\n",
      "Name: Romance, dtype: float64\n",
      "The most impactful words for the genre SciFi are\n",
      "earth     0.218276\n",
      "robot     0.157114\n",
      "nemesi    0.152086\n",
      "futur     0.147549\n",
      "alien     0.144405\n",
      "Name: SciFi, dtype: float64\n",
      "The most impactful words for the genre Sport are\n",
      "sport           0.213039\n",
      "champion        0.206436\n",
      "footbal         0.190237\n",
      "championship    0.189140\n",
      "surf            0.161824\n",
      "Name: Sport, dtype: float64\n",
      "The most impactful words for the genre Thriller are\n",
      "murder       0.271402\n",
      "thriller     0.271287\n",
      "kill         0.197038\n",
      "mysteri      0.163494\n",
      "terrorist    0.159880\n",
      "Name: Thriller, dtype: float64\n",
      "The most impactful words for the genre War are\n",
      "war        0.362321\n",
      "german     0.168827\n",
      "wwii       0.161827\n",
      "soldier    0.151855\n",
      "italian    0.145826\n",
      "Name: War, dtype: float64\n"
     ]
    }
   ],
   "source": [
    "# for every genres pick the most impactful words that best describe a genre\n",
    "for i in all_genres:\n",
    "    print(f'The most impactful words for the genre {i} are')\n",
    "    print(coef_df[i].nlargest())"
   ]
  },
  {
   "cell_type": "markdown",
   "metadata": {},
   "source": [
    "Let'now generate an interactive Plotly graph that will can navigate through every genre and check the words that best describe it."
   ]
  },
  {
   "cell_type": "code",
   "execution_count": 23,
   "metadata": {},
   "outputs": [],
   "source": [
    "all_genres=['Action', 'Adventure', 'Animation', 'Biography', 'Comedy', 'Crime', \n",
    "                'Documentary', 'Drama', 'Family', 'Fantasy', 'History', 'Horror', 'Music', \n",
    "                'Musical', 'Mystery', 'Romance', 'SciFi', 'Sport', 'Thriller', 'War']"
   ]
  },
  {
   "cell_type": "code",
   "execution_count": null,
   "metadata": {},
   "outputs": [],
   "source": []
  },
  {
   "cell_type": "code",
   "execution_count": null,
   "metadata": {},
   "outputs": [],
   "source": []
  },
  {
   "cell_type": "code",
   "execution_count": 24,
   "metadata": {},
   "outputs": [
    {
     "data": {
      "application/vnd.plotly.v1+json": {
       "config": {
        "plotlyServerURL": "https://plot.ly"
       },
       "data": [
        {
         "name": "Action",
         "type": "bar",
         "x": [
          "fight",
          "kill",
          "action",
          "reveng",
          "battl"
         ],
         "y": [
          0.23689484900383279,
          0.19345401793775283,
          0.16546569734271988,
          0.16394687578349595,
          0.15920284251068154
         ]
        },
        {
         "name": "Adventure",
         "type": "bar",
         "x": [
          "adventur",
          "rescu",
          "contend",
          "travel",
          "wwii"
         ],
         "y": [
          0.227969148884802,
          0.14592410519899116,
          0.13565519922822594,
          0.130091815480797,
          0.12736735874668514
         ]
        },
        {
         "name": "Animation",
         "type": "bar",
         "x": [
          "anim",
          "foul",
          "foil",
          "troublemak",
          "egg"
         ],
         "y": [
          0.2233232195181184,
          0.1302049358141924,
          0.12242125388751496,
          0.1115940235086054,
          0.10856672999848538
         ]
        },
        {
         "name": "Biography",
         "type": "bar",
         "x": [
          "memoir",
          "inspir",
          "meaningless",
          "artist",
          "portrait"
         ],
         "y": [
          0.1348223796707345,
          0.13391307765681573,
          0.12755124377279622,
          0.12471559299792813,
          0.11285934180419344
         ]
        },
        {
         "name": "Comedy",
         "type": "bar",
         "x": [
          "comedi",
          "eccentr",
          "satir",
          "comic",
          "wed"
         ],
         "y": [
          0.424885601942058,
          0.17415268601142272,
          0.16918440302834503,
          0.16787887697837536,
          0.15633273789166008
         ]
        },
        {
         "name": "Crime",
         "type": "bar",
         "x": [
          "crime",
          "murder",
          "polic",
          "undercov",
          "heist"
         ],
         "y": [
          0.30213711656342074,
          0.21423505831242512,
          0.20192527531854546,
          0.19016170521741732,
          0.17722282371248912
         ]
        },
        {
         "name": "Documentary",
         "type": "bar",
         "x": [
          "documentari",
          "document",
          "footag",
          "portrait",
          "artist"
         ],
         "y": [
          0.6961521217196941,
          0.2481790044517614,
          0.2146524609342934,
          0.18633443112382156,
          0.18184976028907457
         ]
        },
        {
         "name": "Drama",
         "type": "bar",
         "x": [
          "life",
          "son",
          "young",
          "overdo",
          "wife"
         ],
         "y": [
          0.21150322902595423,
          0.19933326118317793,
          0.1936875161066068,
          0.17521355191552684,
          0.16532274231923869
         ]
        },
        {
         "name": "Family",
         "type": "bar",
         "x": [
          "anim",
          "adventur",
          "scari",
          "enthusiasm",
          "famili"
         ],
         "y": [
          0.13375215438302507,
          0.12956483670760752,
          0.12269041041509642,
          0.12212563301698845,
          0.12158923510979601
         ]
        },
        {
         "name": "Fantasy",
         "type": "bar",
         "x": [
          "magic",
          "ghost",
          "immort",
          "world",
          "fairi"
         ],
         "y": [
          0.18148806361743838,
          0.15280321479530642,
          0.1505362898374771,
          0.13580661928190763,
          0.13283483385346806
         ]
        },
        {
         "name": "History",
         "type": "bar",
         "x": [
          "histor",
          "histori",
          "epic",
          "minist",
          "centuri"
         ],
         "y": [
          0.1529545014274493,
          0.14168375494589944,
          0.1390609956321954,
          0.13030369275100576,
          0.1291206166204572
         ]
        },
        {
         "name": "Horror",
         "type": "bar",
         "x": [
          "horror",
          "supernatur",
          "haunt",
          "bjkuehl",
          "horrif"
         ],
         "y": [
          0.2384293857387593,
          0.1906018422860457,
          0.17115775709497477,
          0.15380506020182255,
          0.15181239857297918
         ]
        },
        {
         "name": "Music",
         "type": "bar",
         "x": [
          "music",
          "band",
          "singer",
          "musician",
          "rock"
         ],
         "y": [
          0.3080362353126241,
          0.2148548009646928,
          0.19174077414460852,
          0.17937813069591982,
          0.15575149035178784
         ]
        },
        {
         "name": "Musical",
         "type": "bar",
         "x": [
          "music",
          "glamor",
          "love",
          "sing",
          "rubbish"
         ],
         "y": [
          0.15658037239687242,
          0.13465928216108794,
          0.12858611717677862,
          0.12695181787646198,
          0.12191021248301964
         ]
        },
        {
         "name": "Mystery",
         "type": "bar",
         "x": [
          "mysteri",
          "murder",
          "investig",
          "disappear",
          "detect"
         ],
         "y": [
          0.24218093425626336,
          0.23279584594095376,
          0.1765068421917499,
          0.14863208200760145,
          0.12809694645497613
         ]
        },
        {
         "name": "Romance",
         "type": "bar",
         "x": [
          "love",
          "fall",
          "romanc",
          "romant",
          "homosexu"
         ],
         "y": [
          0.569336550039525,
          0.26549168545026147,
          0.22496558837713732,
          0.2173150275006929,
          0.1789797953577846
         ]
        },
        {
         "name": "SciFi",
         "type": "bar",
         "x": [
          "earth",
          "robot",
          "nemesi",
          "futur",
          "alien"
         ],
         "y": [
          0.21827573035998554,
          0.15711359759519272,
          0.15208566212962044,
          0.14754860014372465,
          0.1444045623959767
         ]
        },
        {
         "name": "Sport",
         "type": "bar",
         "x": [
          "sport",
          "champion",
          "footbal",
          "championship",
          "surf"
         ],
         "y": [
          0.21303865195563004,
          0.20643622985913723,
          0.1902371481194728,
          0.18913954567359992,
          0.16182378021260874
         ]
        },
        {
         "name": "Thriller",
         "type": "bar",
         "x": [
          "murder",
          "thriller",
          "kill",
          "mysteri",
          "terrorist"
         ],
         "y": [
          0.2714015950996064,
          0.2712865087674207,
          0.19703781786408187,
          0.1634936429735771,
          0.15987965488159644
         ]
        },
        {
         "name": "War",
         "type": "bar",
         "x": [
          "war",
          "german",
          "wwii",
          "soldier",
          "italian"
         ],
         "y": [
          0.362320895353697,
          0.1688270093069751,
          0.16182749610533367,
          0.15185461937954167,
          0.1458258879863929
         ]
        }
       ],
       "layout": {
        "template": {
         "data": {
          "bar": [
           {
            "error_x": {
             "color": "#2a3f5f"
            },
            "error_y": {
             "color": "#2a3f5f"
            },
            "marker": {
             "line": {
              "color": "#E5ECF6",
              "width": 0.5
             }
            },
            "type": "bar"
           }
          ],
          "barpolar": [
           {
            "marker": {
             "line": {
              "color": "#E5ECF6",
              "width": 0.5
             }
            },
            "type": "barpolar"
           }
          ],
          "carpet": [
           {
            "aaxis": {
             "endlinecolor": "#2a3f5f",
             "gridcolor": "white",
             "linecolor": "white",
             "minorgridcolor": "white",
             "startlinecolor": "#2a3f5f"
            },
            "baxis": {
             "endlinecolor": "#2a3f5f",
             "gridcolor": "white",
             "linecolor": "white",
             "minorgridcolor": "white",
             "startlinecolor": "#2a3f5f"
            },
            "type": "carpet"
           }
          ],
          "choropleth": [
           {
            "colorbar": {
             "outlinewidth": 0,
             "ticks": ""
            },
            "type": "choropleth"
           }
          ],
          "contour": [
           {
            "colorbar": {
             "outlinewidth": 0,
             "ticks": ""
            },
            "colorscale": [
             [
              0,
              "#0d0887"
             ],
             [
              0.1111111111111111,
              "#46039f"
             ],
             [
              0.2222222222222222,
              "#7201a8"
             ],
             [
              0.3333333333333333,
              "#9c179e"
             ],
             [
              0.4444444444444444,
              "#bd3786"
             ],
             [
              0.5555555555555556,
              "#d8576b"
             ],
             [
              0.6666666666666666,
              "#ed7953"
             ],
             [
              0.7777777777777778,
              "#fb9f3a"
             ],
             [
              0.8888888888888888,
              "#fdca26"
             ],
             [
              1,
              "#f0f921"
             ]
            ],
            "type": "contour"
           }
          ],
          "contourcarpet": [
           {
            "colorbar": {
             "outlinewidth": 0,
             "ticks": ""
            },
            "type": "contourcarpet"
           }
          ],
          "heatmap": [
           {
            "colorbar": {
             "outlinewidth": 0,
             "ticks": ""
            },
            "colorscale": [
             [
              0,
              "#0d0887"
             ],
             [
              0.1111111111111111,
              "#46039f"
             ],
             [
              0.2222222222222222,
              "#7201a8"
             ],
             [
              0.3333333333333333,
              "#9c179e"
             ],
             [
              0.4444444444444444,
              "#bd3786"
             ],
             [
              0.5555555555555556,
              "#d8576b"
             ],
             [
              0.6666666666666666,
              "#ed7953"
             ],
             [
              0.7777777777777778,
              "#fb9f3a"
             ],
             [
              0.8888888888888888,
              "#fdca26"
             ],
             [
              1,
              "#f0f921"
             ]
            ],
            "type": "heatmap"
           }
          ],
          "heatmapgl": [
           {
            "colorbar": {
             "outlinewidth": 0,
             "ticks": ""
            },
            "colorscale": [
             [
              0,
              "#0d0887"
             ],
             [
              0.1111111111111111,
              "#46039f"
             ],
             [
              0.2222222222222222,
              "#7201a8"
             ],
             [
              0.3333333333333333,
              "#9c179e"
             ],
             [
              0.4444444444444444,
              "#bd3786"
             ],
             [
              0.5555555555555556,
              "#d8576b"
             ],
             [
              0.6666666666666666,
              "#ed7953"
             ],
             [
              0.7777777777777778,
              "#fb9f3a"
             ],
             [
              0.8888888888888888,
              "#fdca26"
             ],
             [
              1,
              "#f0f921"
             ]
            ],
            "type": "heatmapgl"
           }
          ],
          "histogram": [
           {
            "marker": {
             "colorbar": {
              "outlinewidth": 0,
              "ticks": ""
             }
            },
            "type": "histogram"
           }
          ],
          "histogram2d": [
           {
            "colorbar": {
             "outlinewidth": 0,
             "ticks": ""
            },
            "colorscale": [
             [
              0,
              "#0d0887"
             ],
             [
              0.1111111111111111,
              "#46039f"
             ],
             [
              0.2222222222222222,
              "#7201a8"
             ],
             [
              0.3333333333333333,
              "#9c179e"
             ],
             [
              0.4444444444444444,
              "#bd3786"
             ],
             [
              0.5555555555555556,
              "#d8576b"
             ],
             [
              0.6666666666666666,
              "#ed7953"
             ],
             [
              0.7777777777777778,
              "#fb9f3a"
             ],
             [
              0.8888888888888888,
              "#fdca26"
             ],
             [
              1,
              "#f0f921"
             ]
            ],
            "type": "histogram2d"
           }
          ],
          "histogram2dcontour": [
           {
            "colorbar": {
             "outlinewidth": 0,
             "ticks": ""
            },
            "colorscale": [
             [
              0,
              "#0d0887"
             ],
             [
              0.1111111111111111,
              "#46039f"
             ],
             [
              0.2222222222222222,
              "#7201a8"
             ],
             [
              0.3333333333333333,
              "#9c179e"
             ],
             [
              0.4444444444444444,
              "#bd3786"
             ],
             [
              0.5555555555555556,
              "#d8576b"
             ],
             [
              0.6666666666666666,
              "#ed7953"
             ],
             [
              0.7777777777777778,
              "#fb9f3a"
             ],
             [
              0.8888888888888888,
              "#fdca26"
             ],
             [
              1,
              "#f0f921"
             ]
            ],
            "type": "histogram2dcontour"
           }
          ],
          "mesh3d": [
           {
            "colorbar": {
             "outlinewidth": 0,
             "ticks": ""
            },
            "type": "mesh3d"
           }
          ],
          "parcoords": [
           {
            "line": {
             "colorbar": {
              "outlinewidth": 0,
              "ticks": ""
             }
            },
            "type": "parcoords"
           }
          ],
          "pie": [
           {
            "automargin": true,
            "type": "pie"
           }
          ],
          "scatter": [
           {
            "marker": {
             "colorbar": {
              "outlinewidth": 0,
              "ticks": ""
             }
            },
            "type": "scatter"
           }
          ],
          "scatter3d": [
           {
            "line": {
             "colorbar": {
              "outlinewidth": 0,
              "ticks": ""
             }
            },
            "marker": {
             "colorbar": {
              "outlinewidth": 0,
              "ticks": ""
             }
            },
            "type": "scatter3d"
           }
          ],
          "scattercarpet": [
           {
            "marker": {
             "colorbar": {
              "outlinewidth": 0,
              "ticks": ""
             }
            },
            "type": "scattercarpet"
           }
          ],
          "scattergeo": [
           {
            "marker": {
             "colorbar": {
              "outlinewidth": 0,
              "ticks": ""
             }
            },
            "type": "scattergeo"
           }
          ],
          "scattergl": [
           {
            "marker": {
             "colorbar": {
              "outlinewidth": 0,
              "ticks": ""
             }
            },
            "type": "scattergl"
           }
          ],
          "scattermapbox": [
           {
            "marker": {
             "colorbar": {
              "outlinewidth": 0,
              "ticks": ""
             }
            },
            "type": "scattermapbox"
           }
          ],
          "scatterpolar": [
           {
            "marker": {
             "colorbar": {
              "outlinewidth": 0,
              "ticks": ""
             }
            },
            "type": "scatterpolar"
           }
          ],
          "scatterpolargl": [
           {
            "marker": {
             "colorbar": {
              "outlinewidth": 0,
              "ticks": ""
             }
            },
            "type": "scatterpolargl"
           }
          ],
          "scatterternary": [
           {
            "marker": {
             "colorbar": {
              "outlinewidth": 0,
              "ticks": ""
             }
            },
            "type": "scatterternary"
           }
          ],
          "surface": [
           {
            "colorbar": {
             "outlinewidth": 0,
             "ticks": ""
            },
            "colorscale": [
             [
              0,
              "#0d0887"
             ],
             [
              0.1111111111111111,
              "#46039f"
             ],
             [
              0.2222222222222222,
              "#7201a8"
             ],
             [
              0.3333333333333333,
              "#9c179e"
             ],
             [
              0.4444444444444444,
              "#bd3786"
             ],
             [
              0.5555555555555556,
              "#d8576b"
             ],
             [
              0.6666666666666666,
              "#ed7953"
             ],
             [
              0.7777777777777778,
              "#fb9f3a"
             ],
             [
              0.8888888888888888,
              "#fdca26"
             ],
             [
              1,
              "#f0f921"
             ]
            ],
            "type": "surface"
           }
          ],
          "table": [
           {
            "cells": {
             "fill": {
              "color": "#EBF0F8"
             },
             "line": {
              "color": "white"
             }
            },
            "header": {
             "fill": {
              "color": "#C8D4E3"
             },
             "line": {
              "color": "white"
             }
            },
            "type": "table"
           }
          ]
         },
         "layout": {
          "annotationdefaults": {
           "arrowcolor": "#2a3f5f",
           "arrowhead": 0,
           "arrowwidth": 1
          },
          "coloraxis": {
           "colorbar": {
            "outlinewidth": 0,
            "ticks": ""
           }
          },
          "colorscale": {
           "diverging": [
            [
             0,
             "#8e0152"
            ],
            [
             0.1,
             "#c51b7d"
            ],
            [
             0.2,
             "#de77ae"
            ],
            [
             0.3,
             "#f1b6da"
            ],
            [
             0.4,
             "#fde0ef"
            ],
            [
             0.5,
             "#f7f7f7"
            ],
            [
             0.6,
             "#e6f5d0"
            ],
            [
             0.7,
             "#b8e186"
            ],
            [
             0.8,
             "#7fbc41"
            ],
            [
             0.9,
             "#4d9221"
            ],
            [
             1,
             "#276419"
            ]
           ],
           "sequential": [
            [
             0,
             "#0d0887"
            ],
            [
             0.1111111111111111,
             "#46039f"
            ],
            [
             0.2222222222222222,
             "#7201a8"
            ],
            [
             0.3333333333333333,
             "#9c179e"
            ],
            [
             0.4444444444444444,
             "#bd3786"
            ],
            [
             0.5555555555555556,
             "#d8576b"
            ],
            [
             0.6666666666666666,
             "#ed7953"
            ],
            [
             0.7777777777777778,
             "#fb9f3a"
            ],
            [
             0.8888888888888888,
             "#fdca26"
            ],
            [
             1,
             "#f0f921"
            ]
           ],
           "sequentialminus": [
            [
             0,
             "#0d0887"
            ],
            [
             0.1111111111111111,
             "#46039f"
            ],
            [
             0.2222222222222222,
             "#7201a8"
            ],
            [
             0.3333333333333333,
             "#9c179e"
            ],
            [
             0.4444444444444444,
             "#bd3786"
            ],
            [
             0.5555555555555556,
             "#d8576b"
            ],
            [
             0.6666666666666666,
             "#ed7953"
            ],
            [
             0.7777777777777778,
             "#fb9f3a"
            ],
            [
             0.8888888888888888,
             "#fdca26"
            ],
            [
             1,
             "#f0f921"
            ]
           ]
          },
          "colorway": [
           "#636efa",
           "#EF553B",
           "#00cc96",
           "#ab63fa",
           "#FFA15A",
           "#19d3f3",
           "#FF6692",
           "#B6E880",
           "#FF97FF",
           "#FECB52"
          ],
          "font": {
           "color": "#2a3f5f"
          },
          "geo": {
           "bgcolor": "white",
           "lakecolor": "white",
           "landcolor": "#E5ECF6",
           "showlakes": true,
           "showland": true,
           "subunitcolor": "white"
          },
          "hoverlabel": {
           "align": "left"
          },
          "hovermode": "closest",
          "mapbox": {
           "style": "light"
          },
          "paper_bgcolor": "white",
          "plot_bgcolor": "#E5ECF6",
          "polar": {
           "angularaxis": {
            "gridcolor": "white",
            "linecolor": "white",
            "ticks": ""
           },
           "bgcolor": "#E5ECF6",
           "radialaxis": {
            "gridcolor": "white",
            "linecolor": "white",
            "ticks": ""
           }
          },
          "scene": {
           "xaxis": {
            "backgroundcolor": "#E5ECF6",
            "gridcolor": "white",
            "gridwidth": 2,
            "linecolor": "white",
            "showbackground": true,
            "ticks": "",
            "zerolinecolor": "white"
           },
           "yaxis": {
            "backgroundcolor": "#E5ECF6",
            "gridcolor": "white",
            "gridwidth": 2,
            "linecolor": "white",
            "showbackground": true,
            "ticks": "",
            "zerolinecolor": "white"
           },
           "zaxis": {
            "backgroundcolor": "#E5ECF6",
            "gridcolor": "white",
            "gridwidth": 2,
            "linecolor": "white",
            "showbackground": true,
            "ticks": "",
            "zerolinecolor": "white"
           }
          },
          "shapedefaults": {
           "line": {
            "color": "#2a3f5f"
           }
          },
          "ternary": {
           "aaxis": {
            "gridcolor": "white",
            "linecolor": "white",
            "ticks": ""
           },
           "baxis": {
            "gridcolor": "white",
            "linecolor": "white",
            "ticks": ""
           },
           "bgcolor": "#E5ECF6",
           "caxis": {
            "gridcolor": "white",
            "linecolor": "white",
            "ticks": ""
           }
          },
          "title": {
           "x": 0.05
          },
          "xaxis": {
           "automargin": true,
           "gridcolor": "white",
           "linecolor": "white",
           "ticks": "",
           "title": {
            "standoff": 15
           },
           "zerolinecolor": "white",
           "zerolinewidth": 2
          },
          "yaxis": {
           "automargin": true,
           "gridcolor": "white",
           "linecolor": "white",
           "ticks": "",
           "title": {
            "standoff": 15
           },
           "zerolinecolor": "white",
           "zerolinewidth": 2
          }
         }
        },
        "xaxis": {
         "anchor": "y",
         "domain": [
          0,
          0.7714285714285715
         ]
        },
        "xaxis2": {
         "anchor": "y2",
         "domain": [
          0.8714285714285714,
          1
         ]
        },
        "yaxis": {
         "anchor": "x",
         "domain": [
          0,
          1
         ]
        },
        "yaxis2": {
         "anchor": "x2",
         "domain": [
          0,
          1
         ]
        }
       }
      },
      "text/html": [
       "<div>\n",
       "        \n",
       "        \n",
       "            <div id=\"ee174b38-20e2-431b-895b-fb599e97c522\" class=\"plotly-graph-div\" style=\"height:525px; width:100%;\"></div>\n",
       "            <script type=\"text/javascript\">\n",
       "                require([\"plotly\"], function(Plotly) {\n",
       "                    window.PLOTLYENV=window.PLOTLYENV || {};\n",
       "                    \n",
       "                if (document.getElementById(\"ee174b38-20e2-431b-895b-fb599e97c522\")) {\n",
       "                    Plotly.newPlot(\n",
       "                        'ee174b38-20e2-431b-895b-fb599e97c522',\n",
       "                        [{\"name\": \"Action\", \"type\": \"bar\", \"x\": [\"fight\", \"kill\", \"action\", \"reveng\", \"battl\"], \"y\": [0.23689484900383279, 0.19345401793775283, 0.16546569734271988, 0.16394687578349595, 0.15920284251068154]}, {\"name\": \"Adventure\", \"type\": \"bar\", \"x\": [\"adventur\", \"rescu\", \"contend\", \"travel\", \"wwii\"], \"y\": [0.227969148884802, 0.14592410519899116, 0.13565519922822594, 0.130091815480797, 0.12736735874668514]}, {\"name\": \"Animation\", \"type\": \"bar\", \"x\": [\"anim\", \"foul\", \"foil\", \"troublemak\", \"egg\"], \"y\": [0.2233232195181184, 0.1302049358141924, 0.12242125388751496, 0.1115940235086054, 0.10856672999848538]}, {\"name\": \"Biography\", \"type\": \"bar\", \"x\": [\"memoir\", \"inspir\", \"meaningless\", \"artist\", \"portrait\"], \"y\": [0.1348223796707345, 0.13391307765681573, 0.12755124377279622, 0.12471559299792813, 0.11285934180419344]}, {\"name\": \"Comedy\", \"type\": \"bar\", \"x\": [\"comedi\", \"eccentr\", \"satir\", \"comic\", \"wed\"], \"y\": [0.424885601942058, 0.17415268601142272, 0.16918440302834503, 0.16787887697837536, 0.15633273789166008]}, {\"name\": \"Crime\", \"type\": \"bar\", \"x\": [\"crime\", \"murder\", \"polic\", \"undercov\", \"heist\"], \"y\": [0.30213711656342074, 0.21423505831242512, 0.20192527531854546, 0.19016170521741732, 0.17722282371248912]}, {\"name\": \"Documentary\", \"type\": \"bar\", \"x\": [\"documentari\", \"document\", \"footag\", \"portrait\", \"artist\"], \"y\": [0.6961521217196941, 0.2481790044517614, 0.2146524609342934, 0.18633443112382156, 0.18184976028907457]}, {\"name\": \"Drama\", \"type\": \"bar\", \"x\": [\"life\", \"son\", \"young\", \"overdo\", \"wife\"], \"y\": [0.21150322902595423, 0.19933326118317793, 0.1936875161066068, 0.17521355191552684, 0.16532274231923869]}, {\"name\": \"Family\", \"type\": \"bar\", \"x\": [\"anim\", \"adventur\", \"scari\", \"enthusiasm\", \"famili\"], \"y\": [0.13375215438302507, 0.12956483670760752, 0.12269041041509642, 0.12212563301698845, 0.12158923510979601]}, {\"name\": \"Fantasy\", \"type\": \"bar\", \"x\": [\"magic\", \"ghost\", \"immort\", \"world\", \"fairi\"], \"y\": [0.18148806361743838, 0.15280321479530642, 0.1505362898374771, 0.13580661928190763, 0.13283483385346806]}, {\"name\": \"History\", \"type\": \"bar\", \"x\": [\"histor\", \"histori\", \"epic\", \"minist\", \"centuri\"], \"y\": [0.1529545014274493, 0.14168375494589944, 0.1390609956321954, 0.13030369275100576, 0.1291206166204572]}, {\"name\": \"Horror\", \"type\": \"bar\", \"x\": [\"horror\", \"supernatur\", \"haunt\", \"bjkuehl\", \"horrif\"], \"y\": [0.2384293857387593, 0.1906018422860457, 0.17115775709497477, 0.15380506020182255, 0.15181239857297918]}, {\"name\": \"Music\", \"type\": \"bar\", \"x\": [\"music\", \"band\", \"singer\", \"musician\", \"rock\"], \"y\": [0.3080362353126241, 0.2148548009646928, 0.19174077414460852, 0.17937813069591982, 0.15575149035178784]}, {\"name\": \"Musical\", \"type\": \"bar\", \"x\": [\"music\", \"glamor\", \"love\", \"sing\", \"rubbish\"], \"y\": [0.15658037239687242, 0.13465928216108794, 0.12858611717677862, 0.12695181787646198, 0.12191021248301964]}, {\"name\": \"Mystery\", \"type\": \"bar\", \"x\": [\"mysteri\", \"murder\", \"investig\", \"disappear\", \"detect\"], \"y\": [0.24218093425626336, 0.23279584594095376, 0.1765068421917499, 0.14863208200760145, 0.12809694645497613]}, {\"name\": \"Romance\", \"type\": \"bar\", \"x\": [\"love\", \"fall\", \"romanc\", \"romant\", \"homosexu\"], \"y\": [0.569336550039525, 0.26549168545026147, 0.22496558837713732, 0.2173150275006929, 0.1789797953577846]}, {\"name\": \"SciFi\", \"type\": \"bar\", \"x\": [\"earth\", \"robot\", \"nemesi\", \"futur\", \"alien\"], \"y\": [0.21827573035998554, 0.15711359759519272, 0.15208566212962044, 0.14754860014372465, 0.1444045623959767]}, {\"name\": \"Sport\", \"type\": \"bar\", \"x\": [\"sport\", \"champion\", \"footbal\", \"championship\", \"surf\"], \"y\": [0.21303865195563004, 0.20643622985913723, 0.1902371481194728, 0.18913954567359992, 0.16182378021260874]}, {\"name\": \"Thriller\", \"type\": \"bar\", \"x\": [\"murder\", \"thriller\", \"kill\", \"mysteri\", \"terrorist\"], \"y\": [0.2714015950996064, 0.2712865087674207, 0.19703781786408187, 0.1634936429735771, 0.15987965488159644]}, {\"name\": \"War\", \"type\": \"bar\", \"x\": [\"war\", \"german\", \"wwii\", \"soldier\", \"italian\"], \"y\": [0.362320895353697, 0.1688270093069751, 0.16182749610533367, 0.15185461937954167, 0.1458258879863929]}],\n",
       "                        {\"template\": {\"data\": {\"bar\": [{\"error_x\": {\"color\": \"#2a3f5f\"}, \"error_y\": {\"color\": \"#2a3f5f\"}, \"marker\": {\"line\": {\"color\": \"#E5ECF6\", \"width\": 0.5}}, \"type\": \"bar\"}], \"barpolar\": [{\"marker\": {\"line\": {\"color\": \"#E5ECF6\", \"width\": 0.5}}, \"type\": \"barpolar\"}], \"carpet\": [{\"aaxis\": {\"endlinecolor\": \"#2a3f5f\", \"gridcolor\": \"white\", \"linecolor\": \"white\", \"minorgridcolor\": \"white\", \"startlinecolor\": \"#2a3f5f\"}, \"baxis\": {\"endlinecolor\": \"#2a3f5f\", \"gridcolor\": \"white\", \"linecolor\": \"white\", \"minorgridcolor\": \"white\", \"startlinecolor\": \"#2a3f5f\"}, \"type\": \"carpet\"}], \"choropleth\": [{\"colorbar\": {\"outlinewidth\": 0, \"ticks\": \"\"}, \"type\": \"choropleth\"}], \"contour\": [{\"colorbar\": {\"outlinewidth\": 0, \"ticks\": \"\"}, \"colorscale\": [[0.0, \"#0d0887\"], [0.1111111111111111, \"#46039f\"], [0.2222222222222222, \"#7201a8\"], [0.3333333333333333, \"#9c179e\"], [0.4444444444444444, \"#bd3786\"], [0.5555555555555556, \"#d8576b\"], [0.6666666666666666, \"#ed7953\"], [0.7777777777777778, \"#fb9f3a\"], [0.8888888888888888, \"#fdca26\"], [1.0, \"#f0f921\"]], \"type\": \"contour\"}], \"contourcarpet\": [{\"colorbar\": {\"outlinewidth\": 0, \"ticks\": \"\"}, \"type\": \"contourcarpet\"}], \"heatmap\": [{\"colorbar\": {\"outlinewidth\": 0, \"ticks\": \"\"}, \"colorscale\": [[0.0, \"#0d0887\"], [0.1111111111111111, \"#46039f\"], [0.2222222222222222, \"#7201a8\"], [0.3333333333333333, \"#9c179e\"], [0.4444444444444444, \"#bd3786\"], [0.5555555555555556, \"#d8576b\"], [0.6666666666666666, \"#ed7953\"], [0.7777777777777778, \"#fb9f3a\"], [0.8888888888888888, \"#fdca26\"], [1.0, \"#f0f921\"]], \"type\": \"heatmap\"}], \"heatmapgl\": [{\"colorbar\": {\"outlinewidth\": 0, \"ticks\": \"\"}, \"colorscale\": [[0.0, \"#0d0887\"], [0.1111111111111111, \"#46039f\"], [0.2222222222222222, \"#7201a8\"], [0.3333333333333333, \"#9c179e\"], [0.4444444444444444, \"#bd3786\"], [0.5555555555555556, \"#d8576b\"], [0.6666666666666666, \"#ed7953\"], [0.7777777777777778, \"#fb9f3a\"], [0.8888888888888888, \"#fdca26\"], [1.0, \"#f0f921\"]], \"type\": \"heatmapgl\"}], \"histogram\": [{\"marker\": {\"colorbar\": {\"outlinewidth\": 0, \"ticks\": \"\"}}, \"type\": \"histogram\"}], \"histogram2d\": [{\"colorbar\": {\"outlinewidth\": 0, \"ticks\": \"\"}, \"colorscale\": [[0.0, \"#0d0887\"], [0.1111111111111111, \"#46039f\"], [0.2222222222222222, \"#7201a8\"], [0.3333333333333333, \"#9c179e\"], [0.4444444444444444, \"#bd3786\"], [0.5555555555555556, \"#d8576b\"], [0.6666666666666666, \"#ed7953\"], [0.7777777777777778, \"#fb9f3a\"], [0.8888888888888888, \"#fdca26\"], [1.0, \"#f0f921\"]], \"type\": \"histogram2d\"}], \"histogram2dcontour\": [{\"colorbar\": {\"outlinewidth\": 0, \"ticks\": \"\"}, \"colorscale\": [[0.0, \"#0d0887\"], [0.1111111111111111, \"#46039f\"], [0.2222222222222222, \"#7201a8\"], [0.3333333333333333, \"#9c179e\"], [0.4444444444444444, \"#bd3786\"], [0.5555555555555556, \"#d8576b\"], [0.6666666666666666, \"#ed7953\"], [0.7777777777777778, \"#fb9f3a\"], [0.8888888888888888, \"#fdca26\"], [1.0, \"#f0f921\"]], \"type\": \"histogram2dcontour\"}], \"mesh3d\": [{\"colorbar\": {\"outlinewidth\": 0, \"ticks\": \"\"}, \"type\": \"mesh3d\"}], \"parcoords\": [{\"line\": {\"colorbar\": {\"outlinewidth\": 0, \"ticks\": \"\"}}, \"type\": \"parcoords\"}], \"pie\": [{\"automargin\": true, \"type\": \"pie\"}], \"scatter\": [{\"marker\": {\"colorbar\": {\"outlinewidth\": 0, \"ticks\": \"\"}}, \"type\": \"scatter\"}], \"scatter3d\": [{\"line\": {\"colorbar\": {\"outlinewidth\": 0, \"ticks\": \"\"}}, \"marker\": {\"colorbar\": {\"outlinewidth\": 0, \"ticks\": \"\"}}, \"type\": \"scatter3d\"}], \"scattercarpet\": [{\"marker\": {\"colorbar\": {\"outlinewidth\": 0, \"ticks\": \"\"}}, \"type\": \"scattercarpet\"}], \"scattergeo\": [{\"marker\": {\"colorbar\": {\"outlinewidth\": 0, \"ticks\": \"\"}}, \"type\": \"scattergeo\"}], \"scattergl\": [{\"marker\": {\"colorbar\": {\"outlinewidth\": 0, \"ticks\": \"\"}}, \"type\": \"scattergl\"}], \"scattermapbox\": [{\"marker\": {\"colorbar\": {\"outlinewidth\": 0, \"ticks\": \"\"}}, \"type\": \"scattermapbox\"}], \"scatterpolar\": [{\"marker\": {\"colorbar\": {\"outlinewidth\": 0, \"ticks\": \"\"}}, \"type\": \"scatterpolar\"}], \"scatterpolargl\": [{\"marker\": {\"colorbar\": {\"outlinewidth\": 0, \"ticks\": \"\"}}, \"type\": \"scatterpolargl\"}], \"scatterternary\": [{\"marker\": {\"colorbar\": {\"outlinewidth\": 0, \"ticks\": \"\"}}, \"type\": \"scatterternary\"}], \"surface\": [{\"colorbar\": {\"outlinewidth\": 0, \"ticks\": \"\"}, \"colorscale\": [[0.0, \"#0d0887\"], [0.1111111111111111, \"#46039f\"], [0.2222222222222222, \"#7201a8\"], [0.3333333333333333, \"#9c179e\"], [0.4444444444444444, \"#bd3786\"], [0.5555555555555556, \"#d8576b\"], [0.6666666666666666, \"#ed7953\"], [0.7777777777777778, \"#fb9f3a\"], [0.8888888888888888, \"#fdca26\"], [1.0, \"#f0f921\"]], \"type\": \"surface\"}], \"table\": [{\"cells\": {\"fill\": {\"color\": \"#EBF0F8\"}, \"line\": {\"color\": \"white\"}}, \"header\": {\"fill\": {\"color\": \"#C8D4E3\"}, \"line\": {\"color\": \"white\"}}, \"type\": \"table\"}]}, \"layout\": {\"annotationdefaults\": {\"arrowcolor\": \"#2a3f5f\", \"arrowhead\": 0, \"arrowwidth\": 1}, \"coloraxis\": {\"colorbar\": {\"outlinewidth\": 0, \"ticks\": \"\"}}, \"colorscale\": {\"diverging\": [[0, \"#8e0152\"], [0.1, \"#c51b7d\"], [0.2, \"#de77ae\"], [0.3, \"#f1b6da\"], [0.4, \"#fde0ef\"], [0.5, \"#f7f7f7\"], [0.6, \"#e6f5d0\"], [0.7, \"#b8e186\"], [0.8, \"#7fbc41\"], [0.9, \"#4d9221\"], [1, \"#276419\"]], \"sequential\": [[0.0, \"#0d0887\"], [0.1111111111111111, \"#46039f\"], [0.2222222222222222, \"#7201a8\"], [0.3333333333333333, \"#9c179e\"], [0.4444444444444444, \"#bd3786\"], [0.5555555555555556, \"#d8576b\"], [0.6666666666666666, \"#ed7953\"], [0.7777777777777778, \"#fb9f3a\"], [0.8888888888888888, \"#fdca26\"], [1.0, \"#f0f921\"]], \"sequentialminus\": [[0.0, \"#0d0887\"], [0.1111111111111111, \"#46039f\"], [0.2222222222222222, \"#7201a8\"], [0.3333333333333333, \"#9c179e\"], [0.4444444444444444, \"#bd3786\"], [0.5555555555555556, \"#d8576b\"], [0.6666666666666666, \"#ed7953\"], [0.7777777777777778, \"#fb9f3a\"], [0.8888888888888888, \"#fdca26\"], [1.0, \"#f0f921\"]]}, \"colorway\": [\"#636efa\", \"#EF553B\", \"#00cc96\", \"#ab63fa\", \"#FFA15A\", \"#19d3f3\", \"#FF6692\", \"#B6E880\", \"#FF97FF\", \"#FECB52\"], \"font\": {\"color\": \"#2a3f5f\"}, \"geo\": {\"bgcolor\": \"white\", \"lakecolor\": \"white\", \"landcolor\": \"#E5ECF6\", \"showlakes\": true, \"showland\": true, \"subunitcolor\": \"white\"}, \"hoverlabel\": {\"align\": \"left\"}, \"hovermode\": \"closest\", \"mapbox\": {\"style\": \"light\"}, \"paper_bgcolor\": \"white\", \"plot_bgcolor\": \"#E5ECF6\", \"polar\": {\"angularaxis\": {\"gridcolor\": \"white\", \"linecolor\": \"white\", \"ticks\": \"\"}, \"bgcolor\": \"#E5ECF6\", \"radialaxis\": {\"gridcolor\": \"white\", \"linecolor\": \"white\", \"ticks\": \"\"}}, \"scene\": {\"xaxis\": {\"backgroundcolor\": \"#E5ECF6\", \"gridcolor\": \"white\", \"gridwidth\": 2, \"linecolor\": \"white\", \"showbackground\": true, \"ticks\": \"\", \"zerolinecolor\": \"white\"}, \"yaxis\": {\"backgroundcolor\": \"#E5ECF6\", \"gridcolor\": \"white\", \"gridwidth\": 2, \"linecolor\": \"white\", \"showbackground\": true, \"ticks\": \"\", \"zerolinecolor\": \"white\"}, \"zaxis\": {\"backgroundcolor\": \"#E5ECF6\", \"gridcolor\": \"white\", \"gridwidth\": 2, \"linecolor\": \"white\", \"showbackground\": true, \"ticks\": \"\", \"zerolinecolor\": \"white\"}}, \"shapedefaults\": {\"line\": {\"color\": \"#2a3f5f\"}}, \"ternary\": {\"aaxis\": {\"gridcolor\": \"white\", \"linecolor\": \"white\", \"ticks\": \"\"}, \"baxis\": {\"gridcolor\": \"white\", \"linecolor\": \"white\", \"ticks\": \"\"}, \"bgcolor\": \"#E5ECF6\", \"caxis\": {\"gridcolor\": \"white\", \"linecolor\": \"white\", \"ticks\": \"\"}}, \"title\": {\"x\": 0.05}, \"xaxis\": {\"automargin\": true, \"gridcolor\": \"white\", \"linecolor\": \"white\", \"ticks\": \"\", \"title\": {\"standoff\": 15}, \"zerolinecolor\": \"white\", \"zerolinewidth\": 2}, \"yaxis\": {\"automargin\": true, \"gridcolor\": \"white\", \"linecolor\": \"white\", \"ticks\": \"\", \"title\": {\"standoff\": 15}, \"zerolinecolor\": \"white\", \"zerolinewidth\": 2}}}, \"xaxis\": {\"anchor\": \"y\", \"domain\": [0.0, 0.7714285714285715]}, \"xaxis2\": {\"anchor\": \"y2\", \"domain\": [0.8714285714285714, 1.0]}, \"yaxis\": {\"anchor\": \"x\", \"domain\": [0.0, 1.0]}, \"yaxis2\": {\"anchor\": \"x2\", \"domain\": [0.0, 1.0]}},\n",
       "                        {\"responsive\": true}\n",
       "                    ).then(function(){\n",
       "                            \n",
       "var gd = document.getElementById('ee174b38-20e2-431b-895b-fb599e97c522');\n",
       "var x = new MutationObserver(function (mutations, observer) {{\n",
       "        var display = window.getComputedStyle(gd).display;\n",
       "        if (!display || display === 'none') {{\n",
       "            console.log([gd, 'removed!']);\n",
       "            Plotly.purge(gd);\n",
       "            observer.disconnect();\n",
       "        }}\n",
       "}});\n",
       "\n",
       "// Listen for the removal of the full notebook cells\n",
       "var notebookContainer = gd.closest('#notebook-container');\n",
       "if (notebookContainer) {{\n",
       "    x.observe(notebookContainer, {childList: true});\n",
       "}}\n",
       "\n",
       "// Listen for the clearing of the current output cell\n",
       "var outputEl = gd.closest('.output');\n",
       "if (outputEl) {{\n",
       "    x.observe(outputEl, {childList: true});\n",
       "}}\n",
       "\n",
       "                        })\n",
       "                };\n",
       "                });\n",
       "            </script>\n",
       "        </div>"
      ]
     },
     "metadata": {},
     "output_type": "display_data"
    }
   ],
   "source": [
    "import plotly.graph_objects as go\n",
    "from plotly.subplots import make_subplots\n",
    "fig = make_subplots(\n",
    "    rows=1, cols=2,\n",
    "    column_widths=[0.6, 0.1]\n",
    "    )\n",
    "\n",
    "\n",
    "\n",
    "# Add locations bar chart\n",
    "for i in all_genres:\n",
    "    fig.add_trace(\n",
    "        go.Bar(x=coef_df[i].nlargest().index,y=coef_df[i].nlargest(), name=i)\n",
    "\n",
    "\n",
    "fig.show()"
   ]
  },
  {
   "cell_type": "markdown",
   "metadata": {},
   "source": [
    "For Action we can see the tokens: fight, kill, action, reveng and battl.. For comedy, we can see the tokens: comedi, eccent, satir, comic, wed... That makes sense!! \n",
    "Now let take the plotly graph from my  notebook and put it on the Plotly website so I can access it anytime I want."
   ]
  },
  {
   "cell_type": "code",
   "execution_count": 25,
   "metadata": {},
   "outputs": [],
   "source": [
    "import chart_studio"
   ]
  },
  {
   "cell_type": "code",
   "execution_count": 26,
   "metadata": {},
   "outputs": [],
   "source": [
    "import chart_studio.plotly as py\n",
    "import chart_studio.tools as tls"
   ]
  },
  {
   "cell_type": "code",
   "execution_count": 53,
   "metadata": {},
   "outputs": [],
   "source": [
    "username = 'skrichen'\n",
    "api_key = 'sfle3K1BD47Q0tYppZQA'"
   ]
  },
  {
   "cell_type": "code",
   "execution_count": 54,
   "metadata": {},
   "outputs": [],
   "source": [
    "chart_studio.tools.set_credentials_file(username=username, api_key=api_key)"
   ]
  },
  {
   "cell_type": "code",
   "execution_count": 61,
   "metadata": {},
   "outputs": [
    {
     "data": {
      "text/plain": [
       "'https://plotly.com/~skrichen/1/'"
      ]
     },
     "execution_count": 61,
     "metadata": {},
     "output_type": "execute_result"
    }
   ],
   "source": [
    "py.plot(fig, filename='impactful_tokens', auto_open=True)"
   ]
  },
  {
   "cell_type": "markdown",
   "metadata": {},
   "source": [
    "I just got the link that I now can share it with everyone to access my Plotly graph."
   ]
  },
  {
   "cell_type": "code",
   "execution_count": null,
   "metadata": {},
   "outputs": [],
   "source": [
    "Coming next: is_spoiler"
   ]
  }
 ],
 "metadata": {
  "kernelspec": {
   "display_name": "Python 3",
   "language": "python",
   "name": "python3"
  },
  "language_info": {
   "codemirror_mode": {
    "name": "ipython",
    "version": 3
   },
   "file_extension": ".py",
   "mimetype": "text/x-python",
   "name": "python",
   "nbconvert_exporter": "python",
   "pygments_lexer": "ipython3",
   "version": "3.7.7"
  }
 },
 "nbformat": 4,
 "nbformat_minor": 4
}
