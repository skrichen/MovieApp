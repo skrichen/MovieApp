{
 "cells": [
  {
   "cell_type": "code",
   "execution_count": 1,
   "metadata": {},
   "outputs": [],
   "source": [
    "# Standard imports\n",
    "import numpy as np\n",
    "import pandas as pd\n",
    "import ast \n",
    "\n",
    "# For scraping\n",
    "import requests\n",
    "from bs4 import BeautifulSoup\n",
    "\n",
    "# For adding delays so that we don't spam requests\n",
    "import time\n",
    "\n",
    "import string\n",
    "\n",
    "import re\n",
    "import json\n"
   ]
  },
  {
   "cell_type": "code",
   "execution_count": 2,
   "metadata": {},
   "outputs": [],
   "source": [
    "\n",
    "def get_genre(str_dic):\n",
    "    genre_list=[]\n",
    "    for i in str_dic:\n",
    "        if i == '\"genre\":':\n",
    "            j=str_dic.index(i)+1\n",
    "            while str_dic[j] not in ['],','\"actor\":','\"director\":','\"creator\":','\"datePublished\":','}</script>]']:\n",
    "                for punctuation_mark in string.punctuation:\n",
    "                    str_dic[j]=str_dic[j].replace(punctuation_mark,'')\n",
    "                if str_dic[j]!=\"\":   \n",
    "                    genre_list.append(str_dic[j])\n",
    "                j+=1\n",
    "            break  \n",
    "\n",
    "    return genre_list"
   ]
  },
  {
   "cell_type": "markdown",
   "metadata": {},
   "source": []
  },
  {
   "cell_type": "code",
   "execution_count": null,
   "metadata": {},
   "outputs": [],
   "source": []
  },
  {
   "cell_type": "code",
   "execution_count": 3,
   "metadata": {},
   "outputs": [
    {
     "data": {
      "text/html": [
       "<div>\n",
       "<style scoped>\n",
       "    .dataframe tbody tr th:only-of-type {\n",
       "        vertical-align: middle;\n",
       "    }\n",
       "\n",
       "    .dataframe tbody tr th {\n",
       "        vertical-align: top;\n",
       "    }\n",
       "\n",
       "    .dataframe thead th {\n",
       "        text-align: right;\n",
       "    }\n",
       "</style>\n",
       "<table border=\"1\" class=\"dataframe\">\n",
       "  <thead>\n",
       "    <tr style=\"text-align: right;\">\n",
       "      <th></th>\n",
       "      <th>tconst</th>\n",
       "      <th>primaryTitle</th>\n",
       "      <th>startYear</th>\n",
       "    </tr>\n",
       "  </thead>\n",
       "  <tbody>\n",
       "    <tr>\n",
       "      <td>0</td>\n",
       "      <td>tt0025557</td>\n",
       "      <td>El negro que tenía el alma blanca</td>\n",
       "      <td>1951</td>\n",
       "    </tr>\n",
       "    <tr>\n",
       "      <td>1</td>\n",
       "      <td>tt0030998</td>\n",
       "      <td>You're Only Young Twice</td>\n",
       "      <td>1952</td>\n",
       "    </tr>\n",
       "    <tr>\n",
       "      <td>2</td>\n",
       "      <td>tt0031603</td>\n",
       "      <td>Made in Germany - Die dramatische Geschichte d...</td>\n",
       "      <td>1957</td>\n",
       "    </tr>\n",
       "    <tr>\n",
       "      <td>3</td>\n",
       "      <td>tt0032787</td>\n",
       "      <td>Mi noche triste</td>\n",
       "      <td>1952</td>\n",
       "    </tr>\n",
       "    <tr>\n",
       "      <td>4</td>\n",
       "      <td>tt0036247</td>\n",
       "      <td>Padre nuestro</td>\n",
       "      <td>1953</td>\n",
       "    </tr>\n",
       "    <tr>\n",
       "      <td>...</td>\n",
       "      <td>...</td>\n",
       "      <td>...</td>\n",
       "      <td>...</td>\n",
       "    </tr>\n",
       "    <tr>\n",
       "      <td>7794</td>\n",
       "      <td>tt7852944</td>\n",
       "      <td>Onun boyuk ureyi</td>\n",
       "      <td>1958</td>\n",
       "    </tr>\n",
       "    <tr>\n",
       "      <td>7795</td>\n",
       "      <td>tt7903670</td>\n",
       "      <td>Men of the Forest</td>\n",
       "      <td>1952</td>\n",
       "    </tr>\n",
       "    <tr>\n",
       "      <td>7796</td>\n",
       "      <td>tt8155134</td>\n",
       "      <td>Kak possorilis Ivan Ivanovich s Ivanom Nikifor...</td>\n",
       "      <td>1959</td>\n",
       "    </tr>\n",
       "    <tr>\n",
       "      <td>7797</td>\n",
       "      <td>tt8461508</td>\n",
       "      <td>Dick und Doof in 1000 Nöten</td>\n",
       "      <td>1958</td>\n",
       "    </tr>\n",
       "    <tr>\n",
       "      <td>7798</td>\n",
       "      <td>tt9723722</td>\n",
       "      <td>Bint 17</td>\n",
       "      <td>1958</td>\n",
       "    </tr>\n",
       "  </tbody>\n",
       "</table>\n",
       "<p>7799 rows × 3 columns</p>\n",
       "</div>"
      ],
      "text/plain": [
       "         tconst                                       primaryTitle  startYear\n",
       "0     tt0025557                  El negro que tenía el alma blanca       1951\n",
       "1     tt0030998                            You're Only Young Twice       1952\n",
       "2     tt0031603  Made in Germany - Die dramatische Geschichte d...       1957\n",
       "3     tt0032787                                    Mi noche triste       1952\n",
       "4     tt0036247                                      Padre nuestro       1953\n",
       "...         ...                                                ...        ...\n",
       "7794  tt7852944                                   Onun boyuk ureyi       1958\n",
       "7795  tt7903670                                  Men of the Forest       1952\n",
       "7796  tt8155134  Kak possorilis Ivan Ivanovich s Ivanom Nikifor...       1959\n",
       "7797  tt8461508                        Dick und Doof in 1000 Nöten       1958\n",
       "7798  tt9723722                                            Bint 17       1958\n",
       "\n",
       "[7799 rows x 3 columns]"
      ]
     },
     "execution_count": 3,
     "metadata": {},
     "output_type": "execute_result"
    }
   ],
   "source": [
    "df_fifties=pd.read_csv('/Users/SanaKrichen/Desktop/Brainstation/Capstone Project/fifties/df_fifties.csv')\n",
    "df_fifties\n"
   ]
  },
  {
   "cell_type": "code",
   "execution_count": null,
   "metadata": {},
   "outputs": [],
   "source": []
  },
  {
   "cell_type": "code",
   "execution_count": null,
   "metadata": {
    "scrolled": false
   },
   "outputs": [],
   "source": [
    "scrap_df = pd.DataFrame(columns=['tconst', 'genre', 'plot'])\n",
    "i=0\n",
    "j=0\n",
    "for tconst in df_nineties['tconst']:\n",
    "#for tconst in df_movies['tconst'][35494:]:\n",
    "#for tconst in ['tt0068646','tt0110912','tt0133093','tt0000009','tt0000739','tt0001163','tt0003140','tt0109830']:\n",
    "\n",
    "scrap_df = pd.DataFrame(columns=['tconst', 'genre', 'plot'])\n",
    "i=0\n",
    "j=0\n",
    "for tconst in df_nineties['tconst']:\n",
    "\n",
    "\n",
    "    imdb_to_scrap = {'tconst':\"\", 'genre':[], 'plot':\"\"}\n",
    "    \n",
    "    response2=requests.get(f'https://www.imdb.com/title/{tconst}/plotsummary')\n",
    "    soup2 = BeautifulSoup(response2.content,'html.parser')\n",
    "        \n",
    "    if soup2.title.text.strip() != '404 Error - IMDb':\n",
    "        plot=soup2.find('ul', id=\"plot-synopsis-content\").text.strip()\n",
    "\n",
    "\n",
    "        if plot!='It looks like we don\\'t have a Synopsis for this title yet. Be the first to contribute! Just click the \"Edit page\" button at the bottom of the page or learn more in the Synopsis submission guide.':\n",
    "\n",
    "            imdb_to_scrap = {'tconst':tconst, 'genre':[], 'plot':plot}\n",
    "\n",
    "            # Send a get request and assign the response to a variable\n",
    "            response1 = requests.get(f'https://www.imdb.com/title/{tconst}/')\n",
    "            soup1 = BeautifulSoup(response1.content,'html.parser')\n",
    "\n",
    "\n",
    "            str_dic=str(soup1.findAll('script', {'type':'application/ld+json'})).split()\n",
    "            imdb_to_scrap['genre']=[get_genre(str_dic)]\n",
    "\n",
    "\n",
    "            df = pd.DataFrame.from_dict(imdb_to_scrap)\n",
    "            scrap_df = scrap_df.append(df, ignore_index=True)\n",
    "            print('appending')\n",
    "\n",
    "            #follow progress: print tconst every 500 iteration\n",
    "            i+=1\n",
    "            if i%50==0:\n",
    "                print(f'after 50 append {tconst}')\n",
    "\n",
    "\n",
    "scrap_df\n"
   ]
  },
  {
   "cell_type": "code",
   "execution_count": null,
   "metadata": {},
   "outputs": [],
   "source": [
    "scrap_df"
   ]
  },
  {
   "cell_type": "code",
   "execution_count": null,
   "metadata": {},
   "outputs": [],
   "source": [
    "scrap_df.to_csv (r'/Users/SanaKrichen/Desktop/Brainstation/Capstone Project/nineties/scraped_df_nineties.csv', index = False, header=True)"
   ]
  },
  {
   "cell_type": "code",
   "execution_count": null,
   "metadata": {},
   "outputs": [],
   "source": []
  },
  {
   "cell_type": "code",
   "execution_count": null,
   "metadata": {},
   "outputs": [],
   "source": [
    "\n"
   ]
  },
  {
   "cell_type": "code",
   "execution_count": null,
   "metadata": {},
   "outputs": [],
   "source": [
    "\n"
   ]
  },
  {
   "cell_type": "code",
   "execution_count": null,
   "metadata": {},
   "outputs": [],
   "source": []
  },
  {
   "cell_type": "code",
   "execution_count": null,
   "metadata": {},
   "outputs": [],
   "source": []
  },
  {
   "cell_type": "markdown",
   "metadata": {},
   "source": []
  },
  {
   "cell_type": "code",
   "execution_count": null,
   "metadata": {},
   "outputs": [],
   "source": []
  },
  {
   "cell_type": "code",
   "execution_count": null,
   "metadata": {},
   "outputs": [],
   "source": []
  },
  {
   "cell_type": "code",
   "execution_count": null,
   "metadata": {},
   "outputs": [],
   "source": []
  }
 ],
 "metadata": {
  "kernelspec": {
   "display_name": "Python 3",
   "language": "python",
   "name": "python3"
  },
  "language_info": {
   "codemirror_mode": {
    "name": "ipython",
    "version": 3
   },
   "file_extension": ".py",
   "mimetype": "text/x-python",
   "name": "python",
   "nbconvert_exporter": "python",
   "pygments_lexer": "ipython3",
   "version": "3.7.7"
  }
 },
 "nbformat": 4,
 "nbformat_minor": 4
}
